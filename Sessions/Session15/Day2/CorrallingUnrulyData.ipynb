{
 "cells": [
  {
   "cell_type": "code",
   "execution_count": 1,
   "metadata": {
    "slideshow": {
     "slide_type": "skip"
    }
   },
   "outputs": [],
   "source": [
    "import numpy as np\n",
    "import pandas as pd\n",
    "import matplotlib.pyplot as plt\n",
    "\n",
    "%matplotlib notebook"
   ]
  },
  {
   "cell_type": "markdown",
   "metadata": {
    "slideshow": {
     "slide_type": "slide"
    }
   },
   "source": [
    "# Wranglin' –– Corraling Unruly Data\n",
    "One bit at a time\n",
    "=====\n",
    "\n",
    "**Version 0.2**\n",
    "\n",
    "By AA Miller  \n",
    "2022 July 19"
   ]
  },
  {
   "cell_type": "markdown",
   "metadata": {
    "slideshow": {
     "slide_type": "skip"
    }
   },
   "source": [
    "For this exercise you will need a five different text files. They have been compiled into a tarball that you should [download](https://arch.library.northwestern.edu/downloads/8g84mm66j?locale=en) and unpack in the same directory as this notebook. "
   ]
  },
  {
   "cell_type": "markdown",
   "metadata": {
    "slideshow": {
     "slide_type": "slide"
    }
   },
   "source": [
    "Webster's Dictionary$^\\ast$ defines wrangler as:\n",
    "\n",
    "**wrangler** noun\n",
    "\n",
    "wran·gler | raŋ-g(ə-)lər\n",
    "\n",
    "(short for horse-wrangler, probably partial translation of Mexican Spanish caballerango groom): a ranch hand who takes care of the saddle horses broadly : cowboy "
   ]
  },
  {
   "cell_type": "markdown",
   "metadata": {
    "slideshow": {
     "slide_type": "subslide"
    }
   },
   "source": [
    "$^\\ast$actually https://www.merriam-webster.com/dictionary/ - Webster's didn't define wrangler in the way I wanted"
   ]
  },
  {
   "cell_type": "markdown",
   "metadata": {
    "slideshow": {
     "slide_type": "slide"
    }
   },
   "source": [
    "How then, as astronomers, are we all like cowhands?\n",
    "\n",
    "Data are often like horses in that: they all differ, rarely conform to a single standard set of behavior, and they love to eat hay.$^\\dagger$"
   ]
  },
  {
   "cell_type": "markdown",
   "metadata": {
    "slideshow": {
     "slide_type": "subslide"
    }
   },
   "source": [
    "$^\\dagger$I made that last one up."
   ]
  },
  {
   "cell_type": "markdown",
   "metadata": {
    "slideshow": {
     "slide_type": "slide"
    }
   },
   "source": [
    "Thus, in our efforts to better understand the Universe, we must often manipulate, coax, and, in some cases, force our data to \"behave.\" This involves a variety of tasks, such as: gathering, cleaning, matching, restructuring, transforming, filtering, combining, merging, verifying, and fixing data."
   ]
  },
  {
   "cell_type": "markdown",
   "metadata": {
    "slideshow": {
     "slide_type": "slide"
    }
   },
   "source": [
    "Here is a brief and unfortunate truth, there isn't a single person in the entire world that would organize data in *exactly* the same way that you would.\n",
    "\n",
    "As a result, you may find that data that are useful to you are not organized in an optimal fashion for use in your workflow/software.\n",
    "\n",
    "Hence: the need to wrangle."
   ]
  },
  {
   "cell_type": "markdown",
   "metadata": {
    "slideshow": {
     "slide_type": "slide"
    }
   },
   "source": [
    "There is one important and significant way in which our lives as astronomers are much better than the average data scientist: even though our data are \"worthless,\" virtually all of it is numbers.\n",
    "\n",
    "Furthermore, I contend that most astronomical data can easily be organized into a simple tabular structure."
   ]
  },
  {
   "cell_type": "markdown",
   "metadata": {
    "slideshow": {
     "slide_type": "slide"
    }
   },
   "source": [
    "Nevertheless, as you will see during the exercises, even with relatively simple, small numerical data sets there is a need for wrangling.\n",
    "\n",
    "And wrangling brings up a lot of issues..."
   ]
  },
  {
   "cell_type": "markdown",
   "metadata": {
    "slideshow": {
     "slide_type": "slide"
    }
   },
   "source": [
    "Consider the following data set that contains the street names for my best friends from childhood:\n",
    "\n",
    "    ['Ewing', 'Isabella', 'Reese', 'Isabella', \n",
    "     'Thayer', 'Reese', 'Reese', 'Ewing', 'Reece']\n",
    "\n",
    "Do you notice anything interesting?"
   ]
  },
  {
   "cell_type": "markdown",
   "metadata": {
    "slideshow": {
     "slide_type": "slide"
    }
   },
   "source": [
    "Either my hometown has a street named \"Reese\"  and a street named \"Reece\", or the last entry was input incorrectly. \n",
    "\n",
    "If the later is true, then we have to raise the question of: what should we do?"
   ]
  },
  {
   "cell_type": "markdown",
   "metadata": {
    "slideshow": {
     "slide_type": "slide"
    }
   },
   "source": [
    "For this particular data set, it would be possible to create a verification procedure to test for similar errors.\n",
    "\n",
    "1. Collect every street name in the city (from post office?)\n",
    "2. Confirm every data entry has a counterpart.\n",
    "\n",
    "For any instances where this isn't the case, one could then intervene with a correction. "
   ]
  },
  {
   "cell_type": "markdown",
   "metadata": {
    "slideshow": {
     "slide_type": "slide"
    }
   },
   "source": [
    "This particular verification catches this street name error, but it doesn't correct for the possibility that the person doing the data entry may have been reading addresses really quickly and the third \"Reese\" entry should have actually said \"Lawndale.\"\n",
    "\n",
    "(verification is really hard)"
   ]
  },
  {
   "cell_type": "markdown",
   "metadata": {
    "slideshow": {
     "slide_type": "slide"
    }
   },
   "source": [
    "Data provenance – a historical record of the data and its origins – is really really hard."
   ]
  },
  {
   "cell_type": "markdown",
   "metadata": {
    "slideshow": {
     "slide_type": "slide"
    }
   },
   "source": [
    "If you are making \"corrections\" to the data, then each and every one of those corrections should be reported (for databases this is called \"logging\"). Ideally, these reports would live with the data so others could understand how things have changed.\n",
    "\n",
    "If you did change \"Reece\" to \"Reese\", anyone working with the data should be able to confirm those changes."
   ]
  },
  {
   "cell_type": "markdown",
   "metadata": {
    "slideshow": {
     "slide_type": "slide"
    }
   },
   "source": [
    "Suppose now you wanted to use the same street name data set to estimate which street I lived on while growing up. \n",
    "\n",
    "One way to mathematically approach this problem would be to convert the streets in the data set to GPS coordinates, and then to perform a KDE of the PDF for the coordinates of where I lived. \n",
    "\n",
    "This too is a form of wrangling, because the data you have (street names) are not the data you need (coordinates). "
   ]
  },
  {
   "cell_type": "markdown",
   "metadata": {
    "slideshow": {
     "slide_type": "slide"
    }
   },
   "source": [
    "Why harp on this? \n",
    "\n",
    "In practice, data scientists (including astronomers) spend an unreasonable amount of time manipulating and quality checking data (some indsutry experts estimate that up to 80% of their time is spent warnglin').\n",
    "\n",
    "Today, we will work through several examples that require wrangling, while, hopefully, building some strategies to minimize the amount of time you spend on these tasks in the future."
   ]
  },
  {
   "cell_type": "markdown",
   "metadata": {
    "slideshow": {
     "slide_type": "slide"
    }
   },
   "source": [
    "For completeness, I will mention that there is a famous canonical paper about [data wrangling](http://vis.stanford.edu/files/2011-Wrangler-CHI.pdf), which introduces the [`Wrangler`](http://vis.stanford.edu/wrangler/), a tool specifically designed to take heterogeneous (text) data, and provide a set of suggested operations/manipulations to  create a homogenous table amenable to standard statistical analysis. \n",
    "\n",
    "One extremely nice property of the `Wrangler` is that it records every operation performed on the data, ensuring high-fidelity reporting on the data provenance. We should do a better job of this in astronomy."
   ]
  },
  {
   "cell_type": "markdown",
   "metadata": {
    "slideshow": {
     "slide_type": "slide"
    }
   },
   "source": [
    "Today, we are going to focus on `python` solutions to some specific astronomical data sets.\n",
    "\n",
    "Hopefully you learn some tricks to make your work easier in the future."
   ]
  },
  {
   "cell_type": "markdown",
   "metadata": {
    "slideshow": {
     "slide_type": "skip"
    }
   },
   "source": [
    "## Problem 0) An (Incomplete) Introduction to Pandas DataFrames"
   ]
  },
  {
   "cell_type": "markdown",
   "metadata": {
    "slideshow": {
     "slide_type": "skip"
    }
   },
   "source": [
    "**Problem 0a**\n",
    "\n",
    "Read the SDSS data for Problem 4, stored in a csv file called `DSFP_SDSS_spec_train.csv`, into a `pandas` DataFrame called `sdss_spec`."
   ]
  },
  {
   "cell_type": "markdown",
   "metadata": {
    "slideshow": {
     "slide_type": "skip"
    }
   },
   "source": [
    "After yesterday spending a great deal of time describing the value of binary data storage, does the fact that I am now providing a (moderate) amount of data as a plain ascii file mean that I am a bad teacher...\n",
    "\n",
    "*probably*"
   ]
  },
  {
   "cell_type": "code",
   "execution_count": 3,
   "metadata": {
    "slideshow": {
     "slide_type": "skip"
    }
   },
   "outputs": [
    {
     "data": {
      "text/html": [
       "<div>\n",
       "<style scoped>\n",
       "    .dataframe tbody tr th:only-of-type {\n",
       "        vertical-align: middle;\n",
       "    }\n",
       "\n",
       "    .dataframe tbody tr th {\n",
       "        vertical-align: top;\n",
       "    }\n",
       "\n",
       "    .dataframe thead th {\n",
       "        text-align: right;\n",
       "    }\n",
       "</style>\n",
       "<table border=\"1\" class=\"dataframe\">\n",
       "  <thead>\n",
       "    <tr style=\"text-align: right;\">\n",
       "      <th></th>\n",
       "      <th>specObjID</th>\n",
       "      <th>z</th>\n",
       "      <th>type</th>\n",
       "      <th>psfMag_u</th>\n",
       "      <th>psfMag_g</th>\n",
       "      <th>psfMag_r</th>\n",
       "      <th>psfMag_i</th>\n",
       "      <th>psfMag_z</th>\n",
       "      <th>modelMag_u</th>\n",
       "      <th>modelMag_g</th>\n",
       "      <th>...</th>\n",
       "      <th>extinction_i</th>\n",
       "      <th>extinction_z</th>\n",
       "      <th>w1mpro</th>\n",
       "      <th>w1snr</th>\n",
       "      <th>w2mpro</th>\n",
       "      <th>w2snr</th>\n",
       "      <th>w3mpro</th>\n",
       "      <th>w3snr</th>\n",
       "      <th>w4mpro</th>\n",
       "      <th>w4snr</th>\n",
       "    </tr>\n",
       "  </thead>\n",
       "  <tbody>\n",
       "    <tr>\n",
       "      <th>0</th>\n",
       "      <td>299567742770505728</td>\n",
       "      <td>0.071414</td>\n",
       "      <td>ext</td>\n",
       "      <td>20.88291</td>\n",
       "      <td>19.23907</td>\n",
       "      <td>18.56170</td>\n",
       "      <td>18.09715</td>\n",
       "      <td>17.76469</td>\n",
       "      <td>19.62189</td>\n",
       "      <td>18.03702</td>\n",
       "      <td>...</td>\n",
       "      <td>0.061267</td>\n",
       "      <td>0.045572</td>\n",
       "      <td>14.395</td>\n",
       "      <td>21.1</td>\n",
       "      <td>14.236</td>\n",
       "      <td>15.6</td>\n",
       "      <td>11.029</td>\n",
       "      <td>6.8</td>\n",
       "      <td>8.579</td>\n",
       "      <td>-0.9</td>\n",
       "    </tr>\n",
       "    <tr>\n",
       "      <th>1</th>\n",
       "      <td>299568017178650624</td>\n",
       "      <td>0.071380</td>\n",
       "      <td>ext</td>\n",
       "      <td>20.88291</td>\n",
       "      <td>19.23907</td>\n",
       "      <td>18.56170</td>\n",
       "      <td>18.09715</td>\n",
       "      <td>17.76469</td>\n",
       "      <td>19.62189</td>\n",
       "      <td>18.03702</td>\n",
       "      <td>...</td>\n",
       "      <td>0.061267</td>\n",
       "      <td>0.045572</td>\n",
       "      <td>14.395</td>\n",
       "      <td>21.1</td>\n",
       "      <td>14.236</td>\n",
       "      <td>15.6</td>\n",
       "      <td>11.029</td>\n",
       "      <td>6.8</td>\n",
       "      <td>8.579</td>\n",
       "      <td>-0.9</td>\n",
       "    </tr>\n",
       "    <tr>\n",
       "      <th>2</th>\n",
       "      <td>299566643258877952</td>\n",
       "      <td>0.088173</td>\n",
       "      <td>ext</td>\n",
       "      <td>20.84844</td>\n",
       "      <td>18.96040</td>\n",
       "      <td>18.08027</td>\n",
       "      <td>17.62953</td>\n",
       "      <td>17.31857</td>\n",
       "      <td>20.18508</td>\n",
       "      <td>18.26120</td>\n",
       "      <td>...</td>\n",
       "      <td>0.047582</td>\n",
       "      <td>0.035392</td>\n",
       "      <td>14.162</td>\n",
       "      <td>35.0</td>\n",
       "      <td>13.970</td>\n",
       "      <td>22.3</td>\n",
       "      <td>12.233</td>\n",
       "      <td>2.9</td>\n",
       "      <td>9.067</td>\n",
       "      <td>-0.3</td>\n",
       "    </tr>\n",
       "    <tr>\n",
       "      <th>3</th>\n",
       "      <td>299569116690278400</td>\n",
       "      <td>0.088161</td>\n",
       "      <td>ext</td>\n",
       "      <td>20.84844</td>\n",
       "      <td>18.96040</td>\n",
       "      <td>18.08027</td>\n",
       "      <td>17.62953</td>\n",
       "      <td>17.31857</td>\n",
       "      <td>20.18508</td>\n",
       "      <td>18.26120</td>\n",
       "      <td>...</td>\n",
       "      <td>0.047582</td>\n",
       "      <td>0.035392</td>\n",
       "      <td>14.162</td>\n",
       "      <td>35.0</td>\n",
       "      <td>13.970</td>\n",
       "      <td>22.3</td>\n",
       "      <td>12.233</td>\n",
       "      <td>2.9</td>\n",
       "      <td>9.067</td>\n",
       "      <td>-0.3</td>\n",
       "    </tr>\n",
       "    <tr>\n",
       "      <th>4</th>\n",
       "      <td>299568292056557568</td>\n",
       "      <td>0.066539</td>\n",
       "      <td>ext</td>\n",
       "      <td>21.28256</td>\n",
       "      <td>19.61427</td>\n",
       "      <td>18.98529</td>\n",
       "      <td>18.52956</td>\n",
       "      <td>18.26322</td>\n",
       "      <td>20.18081</td>\n",
       "      <td>18.47435</td>\n",
       "      <td>...</td>\n",
       "      <td>0.058709</td>\n",
       "      <td>0.043669</td>\n",
       "      <td>14.734</td>\n",
       "      <td>30.6</td>\n",
       "      <td>14.512</td>\n",
       "      <td>17.6</td>\n",
       "      <td>11.078</td>\n",
       "      <td>9.8</td>\n",
       "      <td>9.054</td>\n",
       "      <td>2.3</td>\n",
       "    </tr>\n",
       "  </tbody>\n",
       "</table>\n",
       "<p>5 rows × 26 columns</p>\n",
       "</div>"
      ],
      "text/plain": [
       "            specObjID         z type  psfMag_u  psfMag_g  psfMag_r  psfMag_i  \\\n",
       "0  299567742770505728  0.071414  ext  20.88291  19.23907  18.56170  18.09715   \n",
       "1  299568017178650624  0.071380  ext  20.88291  19.23907  18.56170  18.09715   \n",
       "2  299566643258877952  0.088173  ext  20.84844  18.96040  18.08027  17.62953   \n",
       "3  299569116690278400  0.088161  ext  20.84844  18.96040  18.08027  17.62953   \n",
       "4  299568292056557568  0.066539  ext  21.28256  19.61427  18.98529  18.52956   \n",
       "\n",
       "   psfMag_z  modelMag_u  modelMag_g  ...  extinction_i  extinction_z  w1mpro  \\\n",
       "0  17.76469    19.62189    18.03702  ...      0.061267      0.045572  14.395   \n",
       "1  17.76469    19.62189    18.03702  ...      0.061267      0.045572  14.395   \n",
       "2  17.31857    20.18508    18.26120  ...      0.047582      0.035392  14.162   \n",
       "3  17.31857    20.18508    18.26120  ...      0.047582      0.035392  14.162   \n",
       "4  18.26322    20.18081    18.47435  ...      0.058709      0.043669  14.734   \n",
       "\n",
       "   w1snr  w2mpro  w2snr  w3mpro  w3snr  w4mpro  w4snr  \n",
       "0   21.1  14.236   15.6  11.029    6.8   8.579   -0.9  \n",
       "1   21.1  14.236   15.6  11.029    6.8   8.579   -0.9  \n",
       "2   35.0  13.970   22.3  12.233    2.9   9.067   -0.3  \n",
       "3   35.0  13.970   22.3  12.233    2.9   9.067   -0.3  \n",
       "4   30.6  14.512   17.6  11.078    9.8   9.054    2.3  \n",
       "\n",
       "[5 rows x 26 columns]"
      ]
     },
     "execution_count": 3,
     "metadata": {},
     "output_type": "execute_result"
    }
   ],
   "source": [
    "sdss_spec = pd.read_csv(\"dsfp_wrangling/DSFP_SDSS_spec_train.csv\")\n",
    "sdss_spec.head()"
   ]
  },
  {
   "cell_type": "markdown",
   "metadata": {
    "slideshow": {
     "slide_type": "skip"
    }
   },
   "source": [
    "`pandas` provides many different methods for selecting columns from the DataFrame. Supposing you wanted `psfMag`, you could use any of the following:\n",
    "\n",
    "    sdss_spec['psfMag_g']\n",
    "    sdss_spec[['psfMag_r', 'psfMag_z']]\n",
    "    sdss_spec.psfMag_g\n",
    "\n",
    "(notice that selecting multiple columns requires a list within `[]`)"
   ]
  },
  {
   "cell_type": "code",
   "execution_count": 16,
   "metadata": {},
   "outputs": [
    {
     "data": {
      "text/plain": [
       "0        19.23907\n",
       "1        19.23907\n",
       "2        18.96040\n",
       "3        18.96040\n",
       "4        19.61427\n",
       "           ...   \n",
       "49995    19.90851\n",
       "49996    20.45282\n",
       "49997    21.35737\n",
       "49998    24.05965\n",
       "49999    20.29527\n",
       "Name: psfMag_g, Length: 50000, dtype: float64"
      ]
     },
     "execution_count": 16,
     "metadata": {},
     "output_type": "execute_result"
    }
   ],
   "source": [
    "sdss_spec.psfMag_g"
   ]
  },
  {
   "cell_type": "markdown",
   "metadata": {
    "slideshow": {
     "slide_type": "skip"
    }
   },
   "source": [
    "**Problem 0b**\n",
    "\n",
    "Plot a histogram of the `psfMag_g` - `modelMag_g` distribution for the data set (which requires a selection of those two columns).\n",
    "\n",
    "Do you notice anything interesting?\n",
    "\n",
    "*Hint* - you may want to use more than the default number of bins (=10)."
   ]
  },
  {
   "cell_type": "code",
   "execution_count": 19,
   "metadata": {
    "slideshow": {
     "slide_type": "skip"
    }
   },
   "outputs": [
    {
     "data": {
      "application/javascript": [
       "/* Put everything inside the global mpl namespace */\n",
       "/* global mpl */\n",
       "window.mpl = {};\n",
       "\n",
       "mpl.get_websocket_type = function () {\n",
       "    if (typeof WebSocket !== 'undefined') {\n",
       "        return WebSocket;\n",
       "    } else if (typeof MozWebSocket !== 'undefined') {\n",
       "        return MozWebSocket;\n",
       "    } else {\n",
       "        alert(\n",
       "            'Your browser does not have WebSocket support. ' +\n",
       "                'Please try Chrome, Safari or Firefox ≥ 6. ' +\n",
       "                'Firefox 4 and 5 are also supported but you ' +\n",
       "                'have to enable WebSockets in about:config.'\n",
       "        );\n",
       "    }\n",
       "};\n",
       "\n",
       "mpl.figure = function (figure_id, websocket, ondownload, parent_element) {\n",
       "    this.id = figure_id;\n",
       "\n",
       "    this.ws = websocket;\n",
       "\n",
       "    this.supports_binary = this.ws.binaryType !== undefined;\n",
       "\n",
       "    if (!this.supports_binary) {\n",
       "        var warnings = document.getElementById('mpl-warnings');\n",
       "        if (warnings) {\n",
       "            warnings.style.display = 'block';\n",
       "            warnings.textContent =\n",
       "                'This browser does not support binary websocket messages. ' +\n",
       "                'Performance may be slow.';\n",
       "        }\n",
       "    }\n",
       "\n",
       "    this.imageObj = new Image();\n",
       "\n",
       "    this.context = undefined;\n",
       "    this.message = undefined;\n",
       "    this.canvas = undefined;\n",
       "    this.rubberband_canvas = undefined;\n",
       "    this.rubberband_context = undefined;\n",
       "    this.format_dropdown = undefined;\n",
       "\n",
       "    this.image_mode = 'full';\n",
       "\n",
       "    this.root = document.createElement('div');\n",
       "    this.root.setAttribute('style', 'display: inline-block');\n",
       "    this._root_extra_style(this.root);\n",
       "\n",
       "    parent_element.appendChild(this.root);\n",
       "\n",
       "    this._init_header(this);\n",
       "    this._init_canvas(this);\n",
       "    this._init_toolbar(this);\n",
       "\n",
       "    var fig = this;\n",
       "\n",
       "    this.waiting = false;\n",
       "\n",
       "    this.ws.onopen = function () {\n",
       "        fig.send_message('supports_binary', { value: fig.supports_binary });\n",
       "        fig.send_message('send_image_mode', {});\n",
       "        if (fig.ratio !== 1) {\n",
       "            fig.send_message('set_device_pixel_ratio', {\n",
       "                device_pixel_ratio: fig.ratio,\n",
       "            });\n",
       "        }\n",
       "        fig.send_message('refresh', {});\n",
       "    };\n",
       "\n",
       "    this.imageObj.onload = function () {\n",
       "        if (fig.image_mode === 'full') {\n",
       "            // Full images could contain transparency (where diff images\n",
       "            // almost always do), so we need to clear the canvas so that\n",
       "            // there is no ghosting.\n",
       "            fig.context.clearRect(0, 0, fig.canvas.width, fig.canvas.height);\n",
       "        }\n",
       "        fig.context.drawImage(fig.imageObj, 0, 0);\n",
       "    };\n",
       "\n",
       "    this.imageObj.onunload = function () {\n",
       "        fig.ws.close();\n",
       "    };\n",
       "\n",
       "    this.ws.onmessage = this._make_on_message_function(this);\n",
       "\n",
       "    this.ondownload = ondownload;\n",
       "};\n",
       "\n",
       "mpl.figure.prototype._init_header = function () {\n",
       "    var titlebar = document.createElement('div');\n",
       "    titlebar.classList =\n",
       "        'ui-dialog-titlebar ui-widget-header ui-corner-all ui-helper-clearfix';\n",
       "    var titletext = document.createElement('div');\n",
       "    titletext.classList = 'ui-dialog-title';\n",
       "    titletext.setAttribute(\n",
       "        'style',\n",
       "        'width: 100%; text-align: center; padding: 3px;'\n",
       "    );\n",
       "    titlebar.appendChild(titletext);\n",
       "    this.root.appendChild(titlebar);\n",
       "    this.header = titletext;\n",
       "};\n",
       "\n",
       "mpl.figure.prototype._canvas_extra_style = function (_canvas_div) {};\n",
       "\n",
       "mpl.figure.prototype._root_extra_style = function (_canvas_div) {};\n",
       "\n",
       "mpl.figure.prototype._init_canvas = function () {\n",
       "    var fig = this;\n",
       "\n",
       "    var canvas_div = (this.canvas_div = document.createElement('div'));\n",
       "    canvas_div.setAttribute(\n",
       "        'style',\n",
       "        'border: 1px solid #ddd;' +\n",
       "            'box-sizing: content-box;' +\n",
       "            'clear: both;' +\n",
       "            'min-height: 1px;' +\n",
       "            'min-width: 1px;' +\n",
       "            'outline: 0;' +\n",
       "            'overflow: hidden;' +\n",
       "            'position: relative;' +\n",
       "            'resize: both;'\n",
       "    );\n",
       "\n",
       "    function on_keyboard_event_closure(name) {\n",
       "        return function (event) {\n",
       "            return fig.key_event(event, name);\n",
       "        };\n",
       "    }\n",
       "\n",
       "    canvas_div.addEventListener(\n",
       "        'keydown',\n",
       "        on_keyboard_event_closure('key_press')\n",
       "    );\n",
       "    canvas_div.addEventListener(\n",
       "        'keyup',\n",
       "        on_keyboard_event_closure('key_release')\n",
       "    );\n",
       "\n",
       "    this._canvas_extra_style(canvas_div);\n",
       "    this.root.appendChild(canvas_div);\n",
       "\n",
       "    var canvas = (this.canvas = document.createElement('canvas'));\n",
       "    canvas.classList.add('mpl-canvas');\n",
       "    canvas.setAttribute('style', 'box-sizing: content-box;');\n",
       "\n",
       "    this.context = canvas.getContext('2d');\n",
       "\n",
       "    var backingStore =\n",
       "        this.context.backingStorePixelRatio ||\n",
       "        this.context.webkitBackingStorePixelRatio ||\n",
       "        this.context.mozBackingStorePixelRatio ||\n",
       "        this.context.msBackingStorePixelRatio ||\n",
       "        this.context.oBackingStorePixelRatio ||\n",
       "        this.context.backingStorePixelRatio ||\n",
       "        1;\n",
       "\n",
       "    this.ratio = (window.devicePixelRatio || 1) / backingStore;\n",
       "\n",
       "    var rubberband_canvas = (this.rubberband_canvas = document.createElement(\n",
       "        'canvas'\n",
       "    ));\n",
       "    rubberband_canvas.setAttribute(\n",
       "        'style',\n",
       "        'box-sizing: content-box; position: absolute; left: 0; top: 0; z-index: 1;'\n",
       "    );\n",
       "\n",
       "    // Apply a ponyfill if ResizeObserver is not implemented by browser.\n",
       "    if (this.ResizeObserver === undefined) {\n",
       "        if (window.ResizeObserver !== undefined) {\n",
       "            this.ResizeObserver = window.ResizeObserver;\n",
       "        } else {\n",
       "            var obs = _JSXTOOLS_RESIZE_OBSERVER({});\n",
       "            this.ResizeObserver = obs.ResizeObserver;\n",
       "        }\n",
       "    }\n",
       "\n",
       "    this.resizeObserverInstance = new this.ResizeObserver(function (entries) {\n",
       "        var nentries = entries.length;\n",
       "        for (var i = 0; i < nentries; i++) {\n",
       "            var entry = entries[i];\n",
       "            var width, height;\n",
       "            if (entry.contentBoxSize) {\n",
       "                if (entry.contentBoxSize instanceof Array) {\n",
       "                    // Chrome 84 implements new version of spec.\n",
       "                    width = entry.contentBoxSize[0].inlineSize;\n",
       "                    height = entry.contentBoxSize[0].blockSize;\n",
       "                } else {\n",
       "                    // Firefox implements old version of spec.\n",
       "                    width = entry.contentBoxSize.inlineSize;\n",
       "                    height = entry.contentBoxSize.blockSize;\n",
       "                }\n",
       "            } else {\n",
       "                // Chrome <84 implements even older version of spec.\n",
       "                width = entry.contentRect.width;\n",
       "                height = entry.contentRect.height;\n",
       "            }\n",
       "\n",
       "            // Keep the size of the canvas and rubber band canvas in sync with\n",
       "            // the canvas container.\n",
       "            if (entry.devicePixelContentBoxSize) {\n",
       "                // Chrome 84 implements new version of spec.\n",
       "                canvas.setAttribute(\n",
       "                    'width',\n",
       "                    entry.devicePixelContentBoxSize[0].inlineSize\n",
       "                );\n",
       "                canvas.setAttribute(\n",
       "                    'height',\n",
       "                    entry.devicePixelContentBoxSize[0].blockSize\n",
       "                );\n",
       "            } else {\n",
       "                canvas.setAttribute('width', width * fig.ratio);\n",
       "                canvas.setAttribute('height', height * fig.ratio);\n",
       "            }\n",
       "            canvas.setAttribute(\n",
       "                'style',\n",
       "                'width: ' + width + 'px; height: ' + height + 'px;'\n",
       "            );\n",
       "\n",
       "            rubberband_canvas.setAttribute('width', width);\n",
       "            rubberband_canvas.setAttribute('height', height);\n",
       "\n",
       "            // And update the size in Python. We ignore the initial 0/0 size\n",
       "            // that occurs as the element is placed into the DOM, which should\n",
       "            // otherwise not happen due to the minimum size styling.\n",
       "            if (fig.ws.readyState == 1 && width != 0 && height != 0) {\n",
       "                fig.request_resize(width, height);\n",
       "            }\n",
       "        }\n",
       "    });\n",
       "    this.resizeObserverInstance.observe(canvas_div);\n",
       "\n",
       "    function on_mouse_event_closure(name) {\n",
       "        return function (event) {\n",
       "            return fig.mouse_event(event, name);\n",
       "        };\n",
       "    }\n",
       "\n",
       "    rubberband_canvas.addEventListener(\n",
       "        'mousedown',\n",
       "        on_mouse_event_closure('button_press')\n",
       "    );\n",
       "    rubberband_canvas.addEventListener(\n",
       "        'mouseup',\n",
       "        on_mouse_event_closure('button_release')\n",
       "    );\n",
       "    rubberband_canvas.addEventListener(\n",
       "        'dblclick',\n",
       "        on_mouse_event_closure('dblclick')\n",
       "    );\n",
       "    // Throttle sequential mouse events to 1 every 20ms.\n",
       "    rubberband_canvas.addEventListener(\n",
       "        'mousemove',\n",
       "        on_mouse_event_closure('motion_notify')\n",
       "    );\n",
       "\n",
       "    rubberband_canvas.addEventListener(\n",
       "        'mouseenter',\n",
       "        on_mouse_event_closure('figure_enter')\n",
       "    );\n",
       "    rubberband_canvas.addEventListener(\n",
       "        'mouseleave',\n",
       "        on_mouse_event_closure('figure_leave')\n",
       "    );\n",
       "\n",
       "    canvas_div.addEventListener('wheel', function (event) {\n",
       "        if (event.deltaY < 0) {\n",
       "            event.step = 1;\n",
       "        } else {\n",
       "            event.step = -1;\n",
       "        }\n",
       "        on_mouse_event_closure('scroll')(event);\n",
       "    });\n",
       "\n",
       "    canvas_div.appendChild(canvas);\n",
       "    canvas_div.appendChild(rubberband_canvas);\n",
       "\n",
       "    this.rubberband_context = rubberband_canvas.getContext('2d');\n",
       "    this.rubberband_context.strokeStyle = '#000000';\n",
       "\n",
       "    this._resize_canvas = function (width, height, forward) {\n",
       "        if (forward) {\n",
       "            canvas_div.style.width = width + 'px';\n",
       "            canvas_div.style.height = height + 'px';\n",
       "        }\n",
       "    };\n",
       "\n",
       "    // Disable right mouse context menu.\n",
       "    this.rubberband_canvas.addEventListener('contextmenu', function (_e) {\n",
       "        event.preventDefault();\n",
       "        return false;\n",
       "    });\n",
       "\n",
       "    function set_focus() {\n",
       "        canvas.focus();\n",
       "        canvas_div.focus();\n",
       "    }\n",
       "\n",
       "    window.setTimeout(set_focus, 100);\n",
       "};\n",
       "\n",
       "mpl.figure.prototype._init_toolbar = function () {\n",
       "    var fig = this;\n",
       "\n",
       "    var toolbar = document.createElement('div');\n",
       "    toolbar.classList = 'mpl-toolbar';\n",
       "    this.root.appendChild(toolbar);\n",
       "\n",
       "    function on_click_closure(name) {\n",
       "        return function (_event) {\n",
       "            return fig.toolbar_button_onclick(name);\n",
       "        };\n",
       "    }\n",
       "\n",
       "    function on_mouseover_closure(tooltip) {\n",
       "        return function (event) {\n",
       "            if (!event.currentTarget.disabled) {\n",
       "                return fig.toolbar_button_onmouseover(tooltip);\n",
       "            }\n",
       "        };\n",
       "    }\n",
       "\n",
       "    fig.buttons = {};\n",
       "    var buttonGroup = document.createElement('div');\n",
       "    buttonGroup.classList = 'mpl-button-group';\n",
       "    for (var toolbar_ind in mpl.toolbar_items) {\n",
       "        var name = mpl.toolbar_items[toolbar_ind][0];\n",
       "        var tooltip = mpl.toolbar_items[toolbar_ind][1];\n",
       "        var image = mpl.toolbar_items[toolbar_ind][2];\n",
       "        var method_name = mpl.toolbar_items[toolbar_ind][3];\n",
       "\n",
       "        if (!name) {\n",
       "            /* Instead of a spacer, we start a new button group. */\n",
       "            if (buttonGroup.hasChildNodes()) {\n",
       "                toolbar.appendChild(buttonGroup);\n",
       "            }\n",
       "            buttonGroup = document.createElement('div');\n",
       "            buttonGroup.classList = 'mpl-button-group';\n",
       "            continue;\n",
       "        }\n",
       "\n",
       "        var button = (fig.buttons[name] = document.createElement('button'));\n",
       "        button.classList = 'mpl-widget';\n",
       "        button.setAttribute('role', 'button');\n",
       "        button.setAttribute('aria-disabled', 'false');\n",
       "        button.addEventListener('click', on_click_closure(method_name));\n",
       "        button.addEventListener('mouseover', on_mouseover_closure(tooltip));\n",
       "\n",
       "        var icon_img = document.createElement('img');\n",
       "        icon_img.src = '_images/' + image + '.png';\n",
       "        icon_img.srcset = '_images/' + image + '_large.png 2x';\n",
       "        icon_img.alt = tooltip;\n",
       "        button.appendChild(icon_img);\n",
       "\n",
       "        buttonGroup.appendChild(button);\n",
       "    }\n",
       "\n",
       "    if (buttonGroup.hasChildNodes()) {\n",
       "        toolbar.appendChild(buttonGroup);\n",
       "    }\n",
       "\n",
       "    var fmt_picker = document.createElement('select');\n",
       "    fmt_picker.classList = 'mpl-widget';\n",
       "    toolbar.appendChild(fmt_picker);\n",
       "    this.format_dropdown = fmt_picker;\n",
       "\n",
       "    for (var ind in mpl.extensions) {\n",
       "        var fmt = mpl.extensions[ind];\n",
       "        var option = document.createElement('option');\n",
       "        option.selected = fmt === mpl.default_extension;\n",
       "        option.innerHTML = fmt;\n",
       "        fmt_picker.appendChild(option);\n",
       "    }\n",
       "\n",
       "    var status_bar = document.createElement('span');\n",
       "    status_bar.classList = 'mpl-message';\n",
       "    toolbar.appendChild(status_bar);\n",
       "    this.message = status_bar;\n",
       "};\n",
       "\n",
       "mpl.figure.prototype.request_resize = function (x_pixels, y_pixels) {\n",
       "    // Request matplotlib to resize the figure. Matplotlib will then trigger a resize in the client,\n",
       "    // which will in turn request a refresh of the image.\n",
       "    this.send_message('resize', { width: x_pixels, height: y_pixels });\n",
       "};\n",
       "\n",
       "mpl.figure.prototype.send_message = function (type, properties) {\n",
       "    properties['type'] = type;\n",
       "    properties['figure_id'] = this.id;\n",
       "    this.ws.send(JSON.stringify(properties));\n",
       "};\n",
       "\n",
       "mpl.figure.prototype.send_draw_message = function () {\n",
       "    if (!this.waiting) {\n",
       "        this.waiting = true;\n",
       "        this.ws.send(JSON.stringify({ type: 'draw', figure_id: this.id }));\n",
       "    }\n",
       "};\n",
       "\n",
       "mpl.figure.prototype.handle_save = function (fig, _msg) {\n",
       "    var format_dropdown = fig.format_dropdown;\n",
       "    var format = format_dropdown.options[format_dropdown.selectedIndex].value;\n",
       "    fig.ondownload(fig, format);\n",
       "};\n",
       "\n",
       "mpl.figure.prototype.handle_resize = function (fig, msg) {\n",
       "    var size = msg['size'];\n",
       "    if (size[0] !== fig.canvas.width || size[1] !== fig.canvas.height) {\n",
       "        fig._resize_canvas(size[0], size[1], msg['forward']);\n",
       "        fig.send_message('refresh', {});\n",
       "    }\n",
       "};\n",
       "\n",
       "mpl.figure.prototype.handle_rubberband = function (fig, msg) {\n",
       "    var x0 = msg['x0'] / fig.ratio;\n",
       "    var y0 = (fig.canvas.height - msg['y0']) / fig.ratio;\n",
       "    var x1 = msg['x1'] / fig.ratio;\n",
       "    var y1 = (fig.canvas.height - msg['y1']) / fig.ratio;\n",
       "    x0 = Math.floor(x0) + 0.5;\n",
       "    y0 = Math.floor(y0) + 0.5;\n",
       "    x1 = Math.floor(x1) + 0.5;\n",
       "    y1 = Math.floor(y1) + 0.5;\n",
       "    var min_x = Math.min(x0, x1);\n",
       "    var min_y = Math.min(y0, y1);\n",
       "    var width = Math.abs(x1 - x0);\n",
       "    var height = Math.abs(y1 - y0);\n",
       "\n",
       "    fig.rubberband_context.clearRect(\n",
       "        0,\n",
       "        0,\n",
       "        fig.canvas.width / fig.ratio,\n",
       "        fig.canvas.height / fig.ratio\n",
       "    );\n",
       "\n",
       "    fig.rubberband_context.strokeRect(min_x, min_y, width, height);\n",
       "};\n",
       "\n",
       "mpl.figure.prototype.handle_figure_label = function (fig, msg) {\n",
       "    // Updates the figure title.\n",
       "    fig.header.textContent = msg['label'];\n",
       "};\n",
       "\n",
       "mpl.figure.prototype.handle_cursor = function (fig, msg) {\n",
       "    fig.rubberband_canvas.style.cursor = msg['cursor'];\n",
       "};\n",
       "\n",
       "mpl.figure.prototype.handle_message = function (fig, msg) {\n",
       "    fig.message.textContent = msg['message'];\n",
       "};\n",
       "\n",
       "mpl.figure.prototype.handle_draw = function (fig, _msg) {\n",
       "    // Request the server to send over a new figure.\n",
       "    fig.send_draw_message();\n",
       "};\n",
       "\n",
       "mpl.figure.prototype.handle_image_mode = function (fig, msg) {\n",
       "    fig.image_mode = msg['mode'];\n",
       "};\n",
       "\n",
       "mpl.figure.prototype.handle_history_buttons = function (fig, msg) {\n",
       "    for (var key in msg) {\n",
       "        if (!(key in fig.buttons)) {\n",
       "            continue;\n",
       "        }\n",
       "        fig.buttons[key].disabled = !msg[key];\n",
       "        fig.buttons[key].setAttribute('aria-disabled', !msg[key]);\n",
       "    }\n",
       "};\n",
       "\n",
       "mpl.figure.prototype.handle_navigate_mode = function (fig, msg) {\n",
       "    if (msg['mode'] === 'PAN') {\n",
       "        fig.buttons['Pan'].classList.add('active');\n",
       "        fig.buttons['Zoom'].classList.remove('active');\n",
       "    } else if (msg['mode'] === 'ZOOM') {\n",
       "        fig.buttons['Pan'].classList.remove('active');\n",
       "        fig.buttons['Zoom'].classList.add('active');\n",
       "    } else {\n",
       "        fig.buttons['Pan'].classList.remove('active');\n",
       "        fig.buttons['Zoom'].classList.remove('active');\n",
       "    }\n",
       "};\n",
       "\n",
       "mpl.figure.prototype.updated_canvas_event = function () {\n",
       "    // Called whenever the canvas gets updated.\n",
       "    this.send_message('ack', {});\n",
       "};\n",
       "\n",
       "// A function to construct a web socket function for onmessage handling.\n",
       "// Called in the figure constructor.\n",
       "mpl.figure.prototype._make_on_message_function = function (fig) {\n",
       "    return function socket_on_message(evt) {\n",
       "        if (evt.data instanceof Blob) {\n",
       "            var img = evt.data;\n",
       "            if (img.type !== 'image/png') {\n",
       "                /* FIXME: We get \"Resource interpreted as Image but\n",
       "                 * transferred with MIME type text/plain:\" errors on\n",
       "                 * Chrome.  But how to set the MIME type?  It doesn't seem\n",
       "                 * to be part of the websocket stream */\n",
       "                img.type = 'image/png';\n",
       "            }\n",
       "\n",
       "            /* Free the memory for the previous frames */\n",
       "            if (fig.imageObj.src) {\n",
       "                (window.URL || window.webkitURL).revokeObjectURL(\n",
       "                    fig.imageObj.src\n",
       "                );\n",
       "            }\n",
       "\n",
       "            fig.imageObj.src = (window.URL || window.webkitURL).createObjectURL(\n",
       "                img\n",
       "            );\n",
       "            fig.updated_canvas_event();\n",
       "            fig.waiting = false;\n",
       "            return;\n",
       "        } else if (\n",
       "            typeof evt.data === 'string' &&\n",
       "            evt.data.slice(0, 21) === 'data:image/png;base64'\n",
       "        ) {\n",
       "            fig.imageObj.src = evt.data;\n",
       "            fig.updated_canvas_event();\n",
       "            fig.waiting = false;\n",
       "            return;\n",
       "        }\n",
       "\n",
       "        var msg = JSON.parse(evt.data);\n",
       "        var msg_type = msg['type'];\n",
       "\n",
       "        // Call the  \"handle_{type}\" callback, which takes\n",
       "        // the figure and JSON message as its only arguments.\n",
       "        try {\n",
       "            var callback = fig['handle_' + msg_type];\n",
       "        } catch (e) {\n",
       "            console.log(\n",
       "                \"No handler for the '\" + msg_type + \"' message type: \",\n",
       "                msg\n",
       "            );\n",
       "            return;\n",
       "        }\n",
       "\n",
       "        if (callback) {\n",
       "            try {\n",
       "                // console.log(\"Handling '\" + msg_type + \"' message: \", msg);\n",
       "                callback(fig, msg);\n",
       "            } catch (e) {\n",
       "                console.log(\n",
       "                    \"Exception inside the 'handler_\" + msg_type + \"' callback:\",\n",
       "                    e,\n",
       "                    e.stack,\n",
       "                    msg\n",
       "                );\n",
       "            }\n",
       "        }\n",
       "    };\n",
       "};\n",
       "\n",
       "// from https://stackoverflow.com/questions/1114465/getting-mouse-location-in-canvas\n",
       "mpl.findpos = function (e) {\n",
       "    //this section is from http://www.quirksmode.org/js/events_properties.html\n",
       "    var targ;\n",
       "    if (!e) {\n",
       "        e = window.event;\n",
       "    }\n",
       "    if (e.target) {\n",
       "        targ = e.target;\n",
       "    } else if (e.srcElement) {\n",
       "        targ = e.srcElement;\n",
       "    }\n",
       "    if (targ.nodeType === 3) {\n",
       "        // defeat Safari bug\n",
       "        targ = targ.parentNode;\n",
       "    }\n",
       "\n",
       "    // pageX,Y are the mouse positions relative to the document\n",
       "    var boundingRect = targ.getBoundingClientRect();\n",
       "    var x = e.pageX - (boundingRect.left + document.body.scrollLeft);\n",
       "    var y = e.pageY - (boundingRect.top + document.body.scrollTop);\n",
       "\n",
       "    return { x: x, y: y };\n",
       "};\n",
       "\n",
       "/*\n",
       " * return a copy of an object with only non-object keys\n",
       " * we need this to avoid circular references\n",
       " * https://stackoverflow.com/a/24161582/3208463\n",
       " */\n",
       "function simpleKeys(original) {\n",
       "    return Object.keys(original).reduce(function (obj, key) {\n",
       "        if (typeof original[key] !== 'object') {\n",
       "            obj[key] = original[key];\n",
       "        }\n",
       "        return obj;\n",
       "    }, {});\n",
       "}\n",
       "\n",
       "mpl.figure.prototype.mouse_event = function (event, name) {\n",
       "    var canvas_pos = mpl.findpos(event);\n",
       "\n",
       "    if (name === 'button_press') {\n",
       "        this.canvas.focus();\n",
       "        this.canvas_div.focus();\n",
       "    }\n",
       "\n",
       "    var x = canvas_pos.x * this.ratio;\n",
       "    var y = canvas_pos.y * this.ratio;\n",
       "\n",
       "    this.send_message(name, {\n",
       "        x: x,\n",
       "        y: y,\n",
       "        button: event.button,\n",
       "        step: event.step,\n",
       "        guiEvent: simpleKeys(event),\n",
       "    });\n",
       "\n",
       "    /* This prevents the web browser from automatically changing to\n",
       "     * the text insertion cursor when the button is pressed.  We want\n",
       "     * to control all of the cursor setting manually through the\n",
       "     * 'cursor' event from matplotlib */\n",
       "    event.preventDefault();\n",
       "    return false;\n",
       "};\n",
       "\n",
       "mpl.figure.prototype._key_event_extra = function (_event, _name) {\n",
       "    // Handle any extra behaviour associated with a key event\n",
       "};\n",
       "\n",
       "mpl.figure.prototype.key_event = function (event, name) {\n",
       "    // Prevent repeat events\n",
       "    if (name === 'key_press') {\n",
       "        if (event.key === this._key) {\n",
       "            return;\n",
       "        } else {\n",
       "            this._key = event.key;\n",
       "        }\n",
       "    }\n",
       "    if (name === 'key_release') {\n",
       "        this._key = null;\n",
       "    }\n",
       "\n",
       "    var value = '';\n",
       "    if (event.ctrlKey && event.key !== 'Control') {\n",
       "        value += 'ctrl+';\n",
       "    }\n",
       "    else if (event.altKey && event.key !== 'Alt') {\n",
       "        value += 'alt+';\n",
       "    }\n",
       "    else if (event.shiftKey && event.key !== 'Shift') {\n",
       "        value += 'shift+';\n",
       "    }\n",
       "\n",
       "    value += 'k' + event.key;\n",
       "\n",
       "    this._key_event_extra(event, name);\n",
       "\n",
       "    this.send_message(name, { key: value, guiEvent: simpleKeys(event) });\n",
       "    return false;\n",
       "};\n",
       "\n",
       "mpl.figure.prototype.toolbar_button_onclick = function (name) {\n",
       "    if (name === 'download') {\n",
       "        this.handle_save(this, null);\n",
       "    } else {\n",
       "        this.send_message('toolbar_button', { name: name });\n",
       "    }\n",
       "};\n",
       "\n",
       "mpl.figure.prototype.toolbar_button_onmouseover = function (tooltip) {\n",
       "    this.message.textContent = tooltip;\n",
       "};\n",
       "\n",
       "///////////////// REMAINING CONTENT GENERATED BY embed_js.py /////////////////\n",
       "// prettier-ignore\n",
       "var _JSXTOOLS_RESIZE_OBSERVER=function(A){var t,i=new WeakMap,n=new WeakMap,a=new WeakMap,r=new WeakMap,o=new Set;function s(e){if(!(this instanceof s))throw new TypeError(\"Constructor requires 'new' operator\");i.set(this,e)}function h(){throw new TypeError(\"Function is not a constructor\")}function c(e,t,i,n){e=0 in arguments?Number(arguments[0]):0,t=1 in arguments?Number(arguments[1]):0,i=2 in arguments?Number(arguments[2]):0,n=3 in arguments?Number(arguments[3]):0,this.right=(this.x=this.left=e)+(this.width=i),this.bottom=(this.y=this.top=t)+(this.height=n),Object.freeze(this)}function d(){t=requestAnimationFrame(d);var s=new WeakMap,p=new Set;o.forEach((function(t){r.get(t).forEach((function(i){var r=t instanceof window.SVGElement,o=a.get(t),d=r?0:parseFloat(o.paddingTop),f=r?0:parseFloat(o.paddingRight),l=r?0:parseFloat(o.paddingBottom),u=r?0:parseFloat(o.paddingLeft),g=r?0:parseFloat(o.borderTopWidth),m=r?0:parseFloat(o.borderRightWidth),w=r?0:parseFloat(o.borderBottomWidth),b=u+f,F=d+l,v=(r?0:parseFloat(o.borderLeftWidth))+m,W=g+w,y=r?0:t.offsetHeight-W-t.clientHeight,E=r?0:t.offsetWidth-v-t.clientWidth,R=b+v,z=F+W,M=r?t.width:parseFloat(o.width)-R-E,O=r?t.height:parseFloat(o.height)-z-y;if(n.has(t)){var k=n.get(t);if(k[0]===M&&k[1]===O)return}n.set(t,[M,O]);var S=Object.create(h.prototype);S.target=t,S.contentRect=new c(u,d,M,O),s.has(i)||(s.set(i,[]),p.add(i)),s.get(i).push(S)}))})),p.forEach((function(e){i.get(e).call(e,s.get(e),e)}))}return s.prototype.observe=function(i){if(i instanceof window.Element){r.has(i)||(r.set(i,new Set),o.add(i),a.set(i,window.getComputedStyle(i)));var n=r.get(i);n.has(this)||n.add(this),cancelAnimationFrame(t),t=requestAnimationFrame(d)}},s.prototype.unobserve=function(i){if(i instanceof window.Element&&r.has(i)){var n=r.get(i);n.has(this)&&(n.delete(this),n.size||(r.delete(i),o.delete(i))),n.size||r.delete(i),o.size||cancelAnimationFrame(t)}},A.DOMRectReadOnly=c,A.ResizeObserver=s,A.ResizeObserverEntry=h,A}; // eslint-disable-line\n",
       "mpl.toolbar_items = [[\"Home\", \"Reset original view\", \"fa fa-home icon-home\", \"home\"], [\"Back\", \"Back to previous view\", \"fa fa-arrow-left icon-arrow-left\", \"back\"], [\"Forward\", \"Forward to next view\", \"fa fa-arrow-right icon-arrow-right\", \"forward\"], [\"\", \"\", \"\", \"\"], [\"Pan\", \"Left button pans, Right button zooms\\nx/y fixes axis, CTRL fixes aspect\", \"fa fa-arrows icon-move\", \"pan\"], [\"Zoom\", \"Zoom to rectangle\\nx/y fixes axis\", \"fa fa-square-o icon-check-empty\", \"zoom\"], [\"\", \"\", \"\", \"\"], [\"Download\", \"Download plot\", \"fa fa-floppy-o icon-save\", \"download\"]];\n",
       "\n",
       "mpl.extensions = [\"eps\", \"jpeg\", \"pgf\", \"pdf\", \"png\", \"ps\", \"raw\", \"svg\", \"tif\"];\n",
       "\n",
       "mpl.default_extension = \"png\";/* global mpl */\n",
       "\n",
       "var comm_websocket_adapter = function (comm) {\n",
       "    // Create a \"websocket\"-like object which calls the given IPython comm\n",
       "    // object with the appropriate methods. Currently this is a non binary\n",
       "    // socket, so there is still some room for performance tuning.\n",
       "    var ws = {};\n",
       "\n",
       "    ws.binaryType = comm.kernel.ws.binaryType;\n",
       "    ws.readyState = comm.kernel.ws.readyState;\n",
       "    function updateReadyState(_event) {\n",
       "        if (comm.kernel.ws) {\n",
       "            ws.readyState = comm.kernel.ws.readyState;\n",
       "        } else {\n",
       "            ws.readyState = 3; // Closed state.\n",
       "        }\n",
       "    }\n",
       "    comm.kernel.ws.addEventListener('open', updateReadyState);\n",
       "    comm.kernel.ws.addEventListener('close', updateReadyState);\n",
       "    comm.kernel.ws.addEventListener('error', updateReadyState);\n",
       "\n",
       "    ws.close = function () {\n",
       "        comm.close();\n",
       "    };\n",
       "    ws.send = function (m) {\n",
       "        //console.log('sending', m);\n",
       "        comm.send(m);\n",
       "    };\n",
       "    // Register the callback with on_msg.\n",
       "    comm.on_msg(function (msg) {\n",
       "        //console.log('receiving', msg['content']['data'], msg);\n",
       "        var data = msg['content']['data'];\n",
       "        if (data['blob'] !== undefined) {\n",
       "            data = {\n",
       "                data: new Blob(msg['buffers'], { type: data['blob'] }),\n",
       "            };\n",
       "        }\n",
       "        // Pass the mpl event to the overridden (by mpl) onmessage function.\n",
       "        ws.onmessage(data);\n",
       "    });\n",
       "    return ws;\n",
       "};\n",
       "\n",
       "mpl.mpl_figure_comm = function (comm, msg) {\n",
       "    // This is the function which gets called when the mpl process\n",
       "    // starts-up an IPython Comm through the \"matplotlib\" channel.\n",
       "\n",
       "    var id = msg.content.data.id;\n",
       "    // Get hold of the div created by the display call when the Comm\n",
       "    // socket was opened in Python.\n",
       "    var element = document.getElementById(id);\n",
       "    var ws_proxy = comm_websocket_adapter(comm);\n",
       "\n",
       "    function ondownload(figure, _format) {\n",
       "        window.open(figure.canvas.toDataURL());\n",
       "    }\n",
       "\n",
       "    var fig = new mpl.figure(id, ws_proxy, ondownload, element);\n",
       "\n",
       "    // Call onopen now - mpl needs it, as it is assuming we've passed it a real\n",
       "    // web socket which is closed, not our websocket->open comm proxy.\n",
       "    ws_proxy.onopen();\n",
       "\n",
       "    fig.parent_element = element;\n",
       "    fig.cell_info = mpl.find_output_cell(\"<div id='\" + id + \"'></div>\");\n",
       "    if (!fig.cell_info) {\n",
       "        console.error('Failed to find cell for figure', id, fig);\n",
       "        return;\n",
       "    }\n",
       "    fig.cell_info[0].output_area.element.on(\n",
       "        'cleared',\n",
       "        { fig: fig },\n",
       "        fig._remove_fig_handler\n",
       "    );\n",
       "};\n",
       "\n",
       "mpl.figure.prototype.handle_close = function (fig, msg) {\n",
       "    var width = fig.canvas.width / fig.ratio;\n",
       "    fig.cell_info[0].output_area.element.off(\n",
       "        'cleared',\n",
       "        fig._remove_fig_handler\n",
       "    );\n",
       "    fig.resizeObserverInstance.unobserve(fig.canvas_div);\n",
       "\n",
       "    // Update the output cell to use the data from the current canvas.\n",
       "    fig.push_to_output();\n",
       "    var dataURL = fig.canvas.toDataURL();\n",
       "    // Re-enable the keyboard manager in IPython - without this line, in FF,\n",
       "    // the notebook keyboard shortcuts fail.\n",
       "    IPython.keyboard_manager.enable();\n",
       "    fig.parent_element.innerHTML =\n",
       "        '<img src=\"' + dataURL + '\" width=\"' + width + '\">';\n",
       "    fig.close_ws(fig, msg);\n",
       "};\n",
       "\n",
       "mpl.figure.prototype.close_ws = function (fig, msg) {\n",
       "    fig.send_message('closing', msg);\n",
       "    // fig.ws.close()\n",
       "};\n",
       "\n",
       "mpl.figure.prototype.push_to_output = function (_remove_interactive) {\n",
       "    // Turn the data on the canvas into data in the output cell.\n",
       "    var width = this.canvas.width / this.ratio;\n",
       "    var dataURL = this.canvas.toDataURL();\n",
       "    this.cell_info[1]['text/html'] =\n",
       "        '<img src=\"' + dataURL + '\" width=\"' + width + '\">';\n",
       "};\n",
       "\n",
       "mpl.figure.prototype.updated_canvas_event = function () {\n",
       "    // Tell IPython that the notebook contents must change.\n",
       "    IPython.notebook.set_dirty(true);\n",
       "    this.send_message('ack', {});\n",
       "    var fig = this;\n",
       "    // Wait a second, then push the new image to the DOM so\n",
       "    // that it is saved nicely (might be nice to debounce this).\n",
       "    setTimeout(function () {\n",
       "        fig.push_to_output();\n",
       "    }, 1000);\n",
       "};\n",
       "\n",
       "mpl.figure.prototype._init_toolbar = function () {\n",
       "    var fig = this;\n",
       "\n",
       "    var toolbar = document.createElement('div');\n",
       "    toolbar.classList = 'btn-toolbar';\n",
       "    this.root.appendChild(toolbar);\n",
       "\n",
       "    function on_click_closure(name) {\n",
       "        return function (_event) {\n",
       "            return fig.toolbar_button_onclick(name);\n",
       "        };\n",
       "    }\n",
       "\n",
       "    function on_mouseover_closure(tooltip) {\n",
       "        return function (event) {\n",
       "            if (!event.currentTarget.disabled) {\n",
       "                return fig.toolbar_button_onmouseover(tooltip);\n",
       "            }\n",
       "        };\n",
       "    }\n",
       "\n",
       "    fig.buttons = {};\n",
       "    var buttonGroup = document.createElement('div');\n",
       "    buttonGroup.classList = 'btn-group';\n",
       "    var button;\n",
       "    for (var toolbar_ind in mpl.toolbar_items) {\n",
       "        var name = mpl.toolbar_items[toolbar_ind][0];\n",
       "        var tooltip = mpl.toolbar_items[toolbar_ind][1];\n",
       "        var image = mpl.toolbar_items[toolbar_ind][2];\n",
       "        var method_name = mpl.toolbar_items[toolbar_ind][3];\n",
       "\n",
       "        if (!name) {\n",
       "            /* Instead of a spacer, we start a new button group. */\n",
       "            if (buttonGroup.hasChildNodes()) {\n",
       "                toolbar.appendChild(buttonGroup);\n",
       "            }\n",
       "            buttonGroup = document.createElement('div');\n",
       "            buttonGroup.classList = 'btn-group';\n",
       "            continue;\n",
       "        }\n",
       "\n",
       "        button = fig.buttons[name] = document.createElement('button');\n",
       "        button.classList = 'btn btn-default';\n",
       "        button.href = '#';\n",
       "        button.title = name;\n",
       "        button.innerHTML = '<i class=\"fa ' + image + ' fa-lg\"></i>';\n",
       "        button.addEventListener('click', on_click_closure(method_name));\n",
       "        button.addEventListener('mouseover', on_mouseover_closure(tooltip));\n",
       "        buttonGroup.appendChild(button);\n",
       "    }\n",
       "\n",
       "    if (buttonGroup.hasChildNodes()) {\n",
       "        toolbar.appendChild(buttonGroup);\n",
       "    }\n",
       "\n",
       "    // Add the status bar.\n",
       "    var status_bar = document.createElement('span');\n",
       "    status_bar.classList = 'mpl-message pull-right';\n",
       "    toolbar.appendChild(status_bar);\n",
       "    this.message = status_bar;\n",
       "\n",
       "    // Add the close button to the window.\n",
       "    var buttongrp = document.createElement('div');\n",
       "    buttongrp.classList = 'btn-group inline pull-right';\n",
       "    button = document.createElement('button');\n",
       "    button.classList = 'btn btn-mini btn-primary';\n",
       "    button.href = '#';\n",
       "    button.title = 'Stop Interaction';\n",
       "    button.innerHTML = '<i class=\"fa fa-power-off icon-remove icon-large\"></i>';\n",
       "    button.addEventListener('click', function (_evt) {\n",
       "        fig.handle_close(fig, {});\n",
       "    });\n",
       "    button.addEventListener(\n",
       "        'mouseover',\n",
       "        on_mouseover_closure('Stop Interaction')\n",
       "    );\n",
       "    buttongrp.appendChild(button);\n",
       "    var titlebar = this.root.querySelector('.ui-dialog-titlebar');\n",
       "    titlebar.insertBefore(buttongrp, titlebar.firstChild);\n",
       "};\n",
       "\n",
       "mpl.figure.prototype._remove_fig_handler = function (event) {\n",
       "    var fig = event.data.fig;\n",
       "    if (event.target !== this) {\n",
       "        // Ignore bubbled events from children.\n",
       "        return;\n",
       "    }\n",
       "    fig.close_ws(fig, {});\n",
       "};\n",
       "\n",
       "mpl.figure.prototype._root_extra_style = function (el) {\n",
       "    el.style.boxSizing = 'content-box'; // override notebook setting of border-box.\n",
       "};\n",
       "\n",
       "mpl.figure.prototype._canvas_extra_style = function (el) {\n",
       "    // this is important to make the div 'focusable\n",
       "    el.setAttribute('tabindex', 0);\n",
       "    // reach out to IPython and tell the keyboard manager to turn it's self\n",
       "    // off when our div gets focus\n",
       "\n",
       "    // location in version 3\n",
       "    if (IPython.notebook.keyboard_manager) {\n",
       "        IPython.notebook.keyboard_manager.register_events(el);\n",
       "    } else {\n",
       "        // location in version 2\n",
       "        IPython.keyboard_manager.register_events(el);\n",
       "    }\n",
       "};\n",
       "\n",
       "mpl.figure.prototype._key_event_extra = function (event, _name) {\n",
       "    // Check for shift+enter\n",
       "    if (event.shiftKey && event.which === 13) {\n",
       "        this.canvas_div.blur();\n",
       "        // select the cell after this one\n",
       "        var index = IPython.notebook.find_cell_index(this.cell_info[0]);\n",
       "        IPython.notebook.select(index + 1);\n",
       "    }\n",
       "};\n",
       "\n",
       "mpl.figure.prototype.handle_save = function (fig, _msg) {\n",
       "    fig.ondownload(fig, null);\n",
       "};\n",
       "\n",
       "mpl.find_output_cell = function (html_output) {\n",
       "    // Return the cell and output element which can be found *uniquely* in the notebook.\n",
       "    // Note - this is a bit hacky, but it is done because the \"notebook_saving.Notebook\"\n",
       "    // IPython event is triggered only after the cells have been serialised, which for\n",
       "    // our purposes (turning an active figure into a static one), is too late.\n",
       "    var cells = IPython.notebook.get_cells();\n",
       "    var ncells = cells.length;\n",
       "    for (var i = 0; i < ncells; i++) {\n",
       "        var cell = cells[i];\n",
       "        if (cell.cell_type === 'code') {\n",
       "            for (var j = 0; j < cell.output_area.outputs.length; j++) {\n",
       "                var data = cell.output_area.outputs[j];\n",
       "                if (data.data) {\n",
       "                    // IPython >= 3 moved mimebundle to data attribute of output\n",
       "                    data = data.data;\n",
       "                }\n",
       "                if (data['text/html'] === html_output) {\n",
       "                    return [cell, data, j];\n",
       "                }\n",
       "            }\n",
       "        }\n",
       "    }\n",
       "};\n",
       "\n",
       "// Register the function which deals with the matplotlib target/channel.\n",
       "// The kernel may be null if the page has been refreshed.\n",
       "if (IPython.notebook.kernel !== null) {\n",
       "    IPython.notebook.kernel.comm_manager.register_target(\n",
       "        'matplotlib',\n",
       "        mpl.mpl_figure_comm\n",
       "    );\n",
       "}\n"
      ],
      "text/plain": [
       "<IPython.core.display.Javascript object>"
      ]
     },
     "metadata": {},
     "output_type": "display_data"
    },
    {
     "data": {
      "text/html": [
       "<img src=\"data:image/png;base64,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\" width=\"640\">"
      ],
      "text/plain": [
       "<IPython.core.display.HTML object>"
      ]
     },
     "metadata": {},
     "output_type": "display_data"
    },
    {
     "data": {
      "text/plain": [
       "(array([1.0000e+00, 2.0000e+00, 0.0000e+00, 4.0000e+00, 0.0000e+00,\n",
       "        2.0000e+00, 1.2000e+01, 5.6000e+01, 9.6290e+03, 1.3180e+03,\n",
       "        6.5820e+03, 1.1453e+04, 8.8930e+03, 5.8770e+03, 3.4440e+03,\n",
       "        1.6420e+03, 6.9900e+02, 2.1300e+02, 1.1400e+02, 2.8000e+01,\n",
       "        9.0000e+00, 1.9000e+01, 0.0000e+00, 0.0000e+00, 3.0000e+00]),\n",
       " array([-3.28232  , -2.8916744, -2.5010288, -2.1103832, -1.7197376,\n",
       "        -1.329092 , -0.9384464, -0.5478008, -0.1571552,  0.2334904,\n",
       "         0.624136 ,  1.0147816,  1.4054272,  1.7960728,  2.1867184,\n",
       "         2.577364 ,  2.9680096,  3.3586552,  3.7493008,  4.1399464,\n",
       "         4.530592 ,  4.9212376,  5.3118832,  5.7025288,  6.0931744,\n",
       "         6.48382  ]),\n",
       " <BarContainer object of 25 artists>)"
      ]
     },
     "execution_count": 19,
     "metadata": {},
     "output_type": "execute_result"
    }
   ],
   "source": [
    "mag_diff = sdss_spec.psfMag_g.values - sdss_spec.modelMag_g.values # complete\n",
    "\n",
    "plt.hist(mag_diff, bins=25)# complete\n",
    "\n",
    "# plt.xlabel()# complete\n",
    "# plt.ylabel()# complete"
   ]
  },
  {
   "cell_type": "markdown",
   "metadata": {
    "slideshow": {
     "slide_type": "skip"
    }
   },
   "source": [
    "`pandas` can also be used to aggregate the results of a search.\n",
    "\n",
    "**Problem 0c**\n",
    "\n",
    "How many extended sources (`type` = `ext`) have `modelMag_i` between 19 and 20? Use as few lines as possible."
   ]
  },
  {
   "cell_type": "code",
   "execution_count": 26,
   "metadata": {
    "slideshow": {
     "slide_type": "skip"
    }
   },
   "outputs": [],
   "source": [
    "# complete"
   ]
  },
  {
   "cell_type": "markdown",
   "metadata": {
    "slideshow": {
     "slide_type": "skip"
    }
   },
   "source": [
    "`pandas` also enables [`GROUP BY`](http://pandas.pydata.org/pandas-docs/stable/user_guide/groupby.html) operations, where the data are split based on some criterion, a function is then applied to the groups, and the results are then combined back into a data structure."
   ]
  },
  {
   "cell_type": "markdown",
   "metadata": {
    "slideshow": {
     "slide_type": "skip"
    }
   },
   "source": [
    "**Problem 0d**\n",
    "\n",
    "Group the data by their `type` and then report the minimum, median, and maximum redshift of each group. Can you immediately tell anything about these sources based on these results?\n",
    "\n",
    "*Hint* - just execute the cell below."
   ]
  },
  {
   "cell_type": "code",
   "execution_count": 27,
   "metadata": {
    "slideshow": {
     "slide_type": "skip"
    }
   },
   "outputs": [
    {
     "name": "stdout",
     "output_type": "stream",
     "text": [
      "type\n",
      "ext   -0.005469\n",
      "ps    -0.010875\n",
      "Name: z, dtype: float64\n",
      "type\n",
      "ext    0.107352\n",
      "ps     0.000275\n",
      "Name: z, dtype: float64\n",
      "type\n",
      "ext    6.839257\n",
      "ps     6.687022\n",
      "Name: z, dtype: float64\n"
     ]
    }
   ],
   "source": [
    "grouped = sdss_spec.groupby([sdss_spec.type])\n",
    "print(grouped['z'].min())\n",
    "print(grouped['z'].median())\n",
    "print(grouped['z'].max())"
   ]
  },
  {
   "cell_type": "markdown",
   "metadata": {
    "slideshow": {
     "slide_type": "skip"
    }
   },
   "source": [
    "Finally, yesterday we only briefly discussed joining tables, but this is where relational databases really shine.\n",
    "\n",
    "For this example we only have a single table, so we will exclude any examples of a `pandas` join, but there is functionality to [join or merge](https://pandas.pydata.org/pandas-docs/stable/user_guide/merging.html) dataframes in a fashion that is fully analogous to databases."
   ]
  },
  {
   "cell_type": "markdown",
   "metadata": {
    "slideshow": {
     "slide_type": "slide"
    }
   },
   "source": [
    "## Problem 1) The Sins of Our Predecessors"
   ]
  },
  {
   "cell_type": "markdown",
   "metadata": {
    "slideshow": {
     "slide_type": "slide"
    }
   },
   "source": [
    "If at any point in your career you need to access archival infrared data, you will likely need to retrieve that information from the [NASA IPAC InfraRed Science Archive](https://irsa.ipac.caltech.edu). IRSA houses the data for every major NASA IR mission, and several ground-based missions as well (e.g., 2MASS, IRTF). Whether you are sudying brown dwarfs, explosive transients, solar system objects, star-formation, galaxy evolution, Milky Way dust and the resulting extinction of extragalactic observations, or quasars (and much more) the IR plays a critical role."
   ]
  },
  {
   "cell_type": "markdown",
   "metadata": {
    "slideshow": {
     "slide_type": "subslide"
    }
   },
   "source": [
    "Given the importance of IR observations, it stands to reason that IRSA would provide data in a simple to read format for modern machines, such as comma separated values or FITS binary tables...\n",
    "\n",
    "Right?..."
   ]
  },
  {
   "cell_type": "markdown",
   "metadata": {
    "slideshow": {
     "slide_type": "subslide"
    }
   },
   "source": [
    "**Right?...**"
   ]
  },
  {
   "cell_type": "markdown",
   "metadata": {
    "slideshow": {
     "slide_type": "subslide"
    }
   },
   "source": [
    "In fact, IRSA has created their own standard for storing data in a text file. The particulars of this format can be found in `irsa_catalog_WISE_iPTF14jg_search_results.tbl`, a file that is written in the standard IRSA format."
   ]
  },
  {
   "cell_type": "markdown",
   "metadata": {
    "slideshow": {
     "slide_type": "skip"
    }
   },
   "source": [
    "*shameless plug alert!* iPTF14jg is a [really strange star](https://arxiv.org/pdf/1901.10693.pdf) that exhibited a large outburst that we still don't totally understand. The associated data file includes [NEOWISE](https://neowise.ipac.caltech.edu/) observations of the mid-IR evolution of this outburst."
   ]
  },
  {
   "cell_type": "markdown",
   "metadata": {
    "slideshow": {
     "slide_type": "slide"
    }
   },
   "source": [
    "**Problem 1a**\n",
    "\n",
    "Using `pandas` read the data in the IRSA table file into a `DataFrame` object.\n",
    "\n",
    "*Hint 1* - you absolutely should look at the text file to develop a strategy to accomplish this goal.\n",
    "\n",
    "*Hint 2* - you may want to manipulate the text file so that it can more easily be read by `pandas`. **If you do this** be sure to copy the file to another name as you will want to leave the original intact. "
   ]
  },
  {
   "cell_type": "code",
   "execution_count": 74,
   "metadata": {
    "slideshow": {
     "slide_type": "subslide"
    }
   },
   "outputs": [
    {
     "data": {
      "text/html": [
       "<div>\n",
       "<style scoped>\n",
       "    .dataframe tbody tr th:only-of-type {\n",
       "        vertical-align: middle;\n",
       "    }\n",
       "\n",
       "    .dataframe tbody tr th {\n",
       "        vertical-align: top;\n",
       "    }\n",
       "\n",
       "    .dataframe thead th {\n",
       "        text-align: right;\n",
       "    }\n",
       "</style>\n",
       "<table border=\"1\" class=\"dataframe\">\n",
       "  <thead>\n",
       "    <tr style=\"text-align: right;\">\n",
       "      <th></th>\n",
       "      <th>Unnamed: 0</th>\n",
       "      <th>ra</th>\n",
       "      <th>dec</th>\n",
       "      <th>sigra</th>\n",
       "      <th>sigdec</th>\n",
       "      <th>sigradec</th>\n",
       "      <th>w1mpro</th>\n",
       "      <th>w1sigmpro</th>\n",
       "      <th>w1snr</th>\n",
       "      <th>w1rchi2</th>\n",
       "      <th>...</th>\n",
       "      <th>tmass_key</th>\n",
       "      <th>j_m_2mass</th>\n",
       "      <th>j_msig_2mass</th>\n",
       "      <th>h_m_2mass</th>\n",
       "      <th>h_msig_2mass</th>\n",
       "      <th>k_m_2mass</th>\n",
       "      <th>k_msig_2mass</th>\n",
       "      <th>dist</th>\n",
       "      <th>angle</th>\n",
       "      <th>Unnamed: 38</th>\n",
       "    </tr>\n",
       "  </thead>\n",
       "  <tbody>\n",
       "    <tr>\n",
       "      <th>0</th>\n",
       "      <td>NaN</td>\n",
       "      <td>double</td>\n",
       "      <td>double</td>\n",
       "      <td>double</td>\n",
       "      <td>double</td>\n",
       "      <td>double</td>\n",
       "      <td>double</td>\n",
       "      <td>double</td>\n",
       "      <td>double</td>\n",
       "      <td>double</td>\n",
       "      <td>...</td>\n",
       "      <td>int</td>\n",
       "      <td>double</td>\n",
       "      <td>double</td>\n",
       "      <td>double</td>\n",
       "      <td>double</td>\n",
       "      <td>double</td>\n",
       "      <td>double</td>\n",
       "      <td>double</td>\n",
       "      <td>double</td>\n",
       "      <td>NaN</td>\n",
       "    </tr>\n",
       "    <tr>\n",
       "      <th>1</th>\n",
       "      <td>NaN</td>\n",
       "      <td>deg</td>\n",
       "      <td>deg</td>\n",
       "      <td>arcsec</td>\n",
       "      <td>arcsec</td>\n",
       "      <td>arcsec</td>\n",
       "      <td>mag</td>\n",
       "      <td>mag</td>\n",
       "      <td></td>\n",
       "      <td></td>\n",
       "      <td>...</td>\n",
       "      <td></td>\n",
       "      <td>mag</td>\n",
       "      <td>mag</td>\n",
       "      <td>mag</td>\n",
       "      <td>mag</td>\n",
       "      <td>mag</td>\n",
       "      <td>mag</td>\n",
       "      <td>arcsec</td>\n",
       "      <td>deg</td>\n",
       "      <td>NaN</td>\n",
       "    </tr>\n",
       "    <tr>\n",
       "      <th>2</th>\n",
       "      <td>NaN</td>\n",
       "      <td>null</td>\n",
       "      <td>null</td>\n",
       "      <td>null</td>\n",
       "      <td>null</td>\n",
       "      <td>null</td>\n",
       "      <td>null</td>\n",
       "      <td>null</td>\n",
       "      <td>null</td>\n",
       "      <td>null</td>\n",
       "      <td>...</td>\n",
       "      <td>null</td>\n",
       "      <td>null</td>\n",
       "      <td>null</td>\n",
       "      <td>null</td>\n",
       "      <td>null</td>\n",
       "      <td>null</td>\n",
       "      <td>null</td>\n",
       "      <td>null</td>\n",
       "      <td>null</td>\n",
       "      <td>NaN</td>\n",
       "    </tr>\n",
       "    <tr>\n",
       "      <th>3</th>\n",
       "      <td>40.1255655 60.8793063 0.0947 0.0936  -0.0337 ...</td>\n",
       "      <td>NaN</td>\n",
       "      <td>NaN</td>\n",
       "      <td>NaN</td>\n",
       "      <td>NaN</td>\n",
       "      <td>NaN</td>\n",
       "      <td>NaN</td>\n",
       "      <td>NaN</td>\n",
       "      <td>NaN</td>\n",
       "      <td>NaN</td>\n",
       "      <td>...</td>\n",
       "      <td>NaN</td>\n",
       "      <td>NaN</td>\n",
       "      <td>NaN</td>\n",
       "      <td>NaN</td>\n",
       "      <td>NaN</td>\n",
       "      <td>NaN</td>\n",
       "      <td>NaN</td>\n",
       "      <td>NaN</td>\n",
       "      <td>NaN</td>\n",
       "      <td>NaN</td>\n",
       "    </tr>\n",
       "    <tr>\n",
       "      <th>4</th>\n",
       "      <td>40.1255740 60.8792970 0.0925 0.0874  -0.0397 ...</td>\n",
       "      <td>NaN</td>\n",
       "      <td>NaN</td>\n",
       "      <td>NaN</td>\n",
       "      <td>NaN</td>\n",
       "      <td>NaN</td>\n",
       "      <td>NaN</td>\n",
       "      <td>NaN</td>\n",
       "      <td>NaN</td>\n",
       "      <td>NaN</td>\n",
       "      <td>...</td>\n",
       "      <td>NaN</td>\n",
       "      <td>NaN</td>\n",
       "      <td>NaN</td>\n",
       "      <td>NaN</td>\n",
       "      <td>NaN</td>\n",
       "      <td>NaN</td>\n",
       "      <td>NaN</td>\n",
       "      <td>NaN</td>\n",
       "      <td>NaN</td>\n",
       "      <td>NaN</td>\n",
       "    </tr>\n",
       "    <tr>\n",
       "      <th>...</th>\n",
       "      <td>...</td>\n",
       "      <td>...</td>\n",
       "      <td>...</td>\n",
       "      <td>...</td>\n",
       "      <td>...</td>\n",
       "      <td>...</td>\n",
       "      <td>...</td>\n",
       "      <td>...</td>\n",
       "      <td>...</td>\n",
       "      <td>...</td>\n",
       "      <td>...</td>\n",
       "      <td>...</td>\n",
       "      <td>...</td>\n",
       "      <td>...</td>\n",
       "      <td>...</td>\n",
       "      <td>...</td>\n",
       "      <td>...</td>\n",
       "      <td>...</td>\n",
       "      <td>...</td>\n",
       "      <td>...</td>\n",
       "      <td>...</td>\n",
       "    </tr>\n",
       "    <tr>\n",
       "      <th>135</th>\n",
       "      <td>40.1252771 60.8793411 0.1150 0.1078  -0.0397 ...</td>\n",
       "      <td>NaN</td>\n",
       "      <td>NaN</td>\n",
       "      <td>NaN</td>\n",
       "      <td>NaN</td>\n",
       "      <td>NaN</td>\n",
       "      <td>NaN</td>\n",
       "      <td>NaN</td>\n",
       "      <td>NaN</td>\n",
       "      <td>NaN</td>\n",
       "      <td>...</td>\n",
       "      <td>NaN</td>\n",
       "      <td>NaN</td>\n",
       "      <td>NaN</td>\n",
       "      <td>NaN</td>\n",
       "      <td>NaN</td>\n",
       "      <td>NaN</td>\n",
       "      <td>NaN</td>\n",
       "      <td>NaN</td>\n",
       "      <td>NaN</td>\n",
       "      <td>NaN</td>\n",
       "    </tr>\n",
       "    <tr>\n",
       "      <th>136</th>\n",
       "      <td>40.1253172 60.8792186 0.1035 0.1091  -0.0272 ...</td>\n",
       "      <td>NaN</td>\n",
       "      <td>NaN</td>\n",
       "      <td>NaN</td>\n",
       "      <td>NaN</td>\n",
       "      <td>NaN</td>\n",
       "      <td>NaN</td>\n",
       "      <td>NaN</td>\n",
       "      <td>NaN</td>\n",
       "      <td>NaN</td>\n",
       "      <td>...</td>\n",
       "      <td>NaN</td>\n",
       "      <td>NaN</td>\n",
       "      <td>NaN</td>\n",
       "      <td>NaN</td>\n",
       "      <td>NaN</td>\n",
       "      <td>NaN</td>\n",
       "      <td>NaN</td>\n",
       "      <td>NaN</td>\n",
       "      <td>NaN</td>\n",
       "      <td>NaN</td>\n",
       "    </tr>\n",
       "    <tr>\n",
       "      <th>137</th>\n",
       "      <td>40.1256247 60.8791518 0.1463 0.1293  -0.0575 ...</td>\n",
       "      <td>NaN</td>\n",
       "      <td>NaN</td>\n",
       "      <td>NaN</td>\n",
       "      <td>NaN</td>\n",
       "      <td>NaN</td>\n",
       "      <td>NaN</td>\n",
       "      <td>NaN</td>\n",
       "      <td>NaN</td>\n",
       "      <td>NaN</td>\n",
       "      <td>...</td>\n",
       "      <td>NaN</td>\n",
       "      <td>NaN</td>\n",
       "      <td>NaN</td>\n",
       "      <td>NaN</td>\n",
       "      <td>NaN</td>\n",
       "      <td>NaN</td>\n",
       "      <td>NaN</td>\n",
       "      <td>NaN</td>\n",
       "      <td>NaN</td>\n",
       "      <td>NaN</td>\n",
       "    </tr>\n",
       "    <tr>\n",
       "      <th>138</th>\n",
       "      <td>40.1252789 60.8792352 0.1174 0.1057  -0.0497 ...</td>\n",
       "      <td>NaN</td>\n",
       "      <td>NaN</td>\n",
       "      <td>NaN</td>\n",
       "      <td>NaN</td>\n",
       "      <td>NaN</td>\n",
       "      <td>NaN</td>\n",
       "      <td>NaN</td>\n",
       "      <td>NaN</td>\n",
       "      <td>NaN</td>\n",
       "      <td>...</td>\n",
       "      <td>NaN</td>\n",
       "      <td>NaN</td>\n",
       "      <td>NaN</td>\n",
       "      <td>NaN</td>\n",
       "      <td>NaN</td>\n",
       "      <td>NaN</td>\n",
       "      <td>NaN</td>\n",
       "      <td>NaN</td>\n",
       "      <td>NaN</td>\n",
       "      <td>NaN</td>\n",
       "    </tr>\n",
       "    <tr>\n",
       "      <th>139</th>\n",
       "      <td>40.1260438 60.8791845 0.1911 0.1661  -0.0549 ...</td>\n",
       "      <td>NaN</td>\n",
       "      <td>NaN</td>\n",
       "      <td>NaN</td>\n",
       "      <td>NaN</td>\n",
       "      <td>NaN</td>\n",
       "      <td>NaN</td>\n",
       "      <td>NaN</td>\n",
       "      <td>NaN</td>\n",
       "      <td>NaN</td>\n",
       "      <td>...</td>\n",
       "      <td>NaN</td>\n",
       "      <td>NaN</td>\n",
       "      <td>NaN</td>\n",
       "      <td>NaN</td>\n",
       "      <td>NaN</td>\n",
       "      <td>NaN</td>\n",
       "      <td>NaN</td>\n",
       "      <td>NaN</td>\n",
       "      <td>NaN</td>\n",
       "      <td>NaN</td>\n",
       "    </tr>\n",
       "  </tbody>\n",
       "</table>\n",
       "<p>140 rows × 39 columns</p>\n",
       "</div>"
      ],
      "text/plain": [
       "                                            Unnamed: 0  ra          \\\n",
       "0                                                  NaN  double       \n",
       "1                                                  NaN  deg          \n",
       "2                                                  NaN  null         \n",
       "3     40.1255655 60.8793063 0.0947 0.0936  -0.0337 ...         NaN   \n",
       "4     40.1255740 60.8792970 0.0925 0.0874  -0.0397 ...         NaN   \n",
       "..                                                 ...         ...   \n",
       "135   40.1252771 60.8793411 0.1150 0.1078  -0.0397 ...         NaN   \n",
       "136   40.1253172 60.8792186 0.1035 0.1091  -0.0272 ...         NaN   \n",
       "137   40.1256247 60.8791518 0.1463 0.1293  -0.0575 ...         NaN   \n",
       "138   40.1252789 60.8792352 0.1174 0.1057  -0.0497 ...         NaN   \n",
       "139   40.1260438 60.8791845 0.1911 0.1661  -0.0549 ...         NaN   \n",
       "\n",
       "     dec         sigra   sigdec  sigradec  w1mpro  w1sigmpro  w1snr   \\\n",
       "0    double      double  double  double    double  double     double   \n",
       "1    deg         arcsec  arcsec  arcsec    mag     mag                 \n",
       "2    null        null    null    null      null    null       null     \n",
       "3           NaN     NaN     NaN       NaN     NaN        NaN     NaN   \n",
       "4           NaN     NaN     NaN       NaN     NaN        NaN     NaN   \n",
       "..          ...     ...     ...       ...     ...        ...     ...   \n",
       "135         NaN     NaN     NaN       NaN     NaN        NaN     NaN   \n",
       "136         NaN     NaN     NaN       NaN     NaN        NaN     NaN   \n",
       "137         NaN     NaN     NaN       NaN     NaN        NaN     NaN   \n",
       "138         NaN     NaN     NaN       NaN     NaN        NaN     NaN   \n",
       "139         NaN     NaN     NaN       NaN     NaN        NaN     NaN   \n",
       "\n",
       "     w1rchi2    ...  tmass_key  j_m_2mass  j_msig_2mass  h_m_2mass  \\\n",
       "0    double     ...  int        double     double        double      \n",
       "1               ...             mag        mag           mag         \n",
       "2    null       ...  null       null       null          null        \n",
       "3          NaN  ...        NaN        NaN           NaN        NaN   \n",
       "4          NaN  ...        NaN        NaN           NaN        NaN   \n",
       "..         ...  ...        ...        ...           ...        ...   \n",
       "135        NaN  ...        NaN        NaN           NaN        NaN   \n",
       "136        NaN  ...        NaN        NaN           NaN        NaN   \n",
       "137        NaN  ...        NaN        NaN           NaN        NaN   \n",
       "138        NaN  ...        NaN        NaN           NaN        NaN   \n",
       "139        NaN  ...        NaN        NaN           NaN        NaN   \n",
       "\n",
       "     h_msig_2mass  k_m_2mass  k_msig_2mass  dist      angle      Unnamed: 38  \n",
       "0    double        double     double        double    double             NaN  \n",
       "1    mag           mag        mag           arcsec    deg                NaN  \n",
       "2    null          null       null          null      null               NaN  \n",
       "3             NaN        NaN           NaN       NaN         NaN         NaN  \n",
       "4             NaN        NaN           NaN       NaN         NaN         NaN  \n",
       "..            ...        ...           ...       ...         ...         ...  \n",
       "135           NaN        NaN           NaN       NaN         NaN         NaN  \n",
       "136           NaN        NaN           NaN       NaN         NaN         NaN  \n",
       "137           NaN        NaN           NaN       NaN         NaN         NaN  \n",
       "138           NaN        NaN           NaN       NaN         NaN         NaN  \n",
       "139           NaN        NaN           NaN       NaN         NaN         NaN  \n",
       "\n",
       "[140 rows x 39 columns]"
      ]
     },
     "execution_count": 74,
     "metadata": {},
     "output_type": "execute_result"
    }
   ],
   "source": [
    "irsa_data = pd.read_csv('dsfp_wrangling/irsa_catalog_WISE_iPTF14jg_search_results.tbl', comment='\\\\', delimiter='|', skiprows=4) # Use pandas to read in the IRSA data\n",
    "irsa_data"
   ]
  },
  {
   "cell_type": "markdown",
   "metadata": {
    "slideshow": {
     "slide_type": "subslide"
    }
   },
   "source": [
    "That pure python solution is a bit annoying as it requires a for loop with a break, and specific knowledge about how IRSA tables handler data headers (hence the use of `linenum + 4` for `skiprows`). Alternatively, one could  manipulate the data file to read in the data."
   ]
  },
  {
   "cell_type": "code",
   "execution_count": null,
   "metadata": {
    "slideshow": {
     "slide_type": "subslide"
    }
   },
   "outputs": [],
   "source": [
    "# 2nd solution - YOU DON'T NEED TO DO THIS"
   ]
  },
  {
   "cell_type": "markdown",
   "metadata": {
    "slideshow": {
     "slide_type": "subslide"
    }
   },
   "source": [
    "That truly wasn't all that better - as it required a bunch of clicks/text editor edits. (There are programs such as `sed` and `awk` that could be used to execute all the necessary edits from the command line, but that too is cumbersome and somewhat like the initial all `python` solution). \n",
    "\n",
    "If astronomers are creating data in a \"standard\" format, then it ought to be easy for other astronomers to access that data."
   ]
  },
  {
   "cell_type": "markdown",
   "metadata": {
    "slideshow": {
     "slide_type": "subslide"
    }
   },
   "source": [
    "Fortunately, in this particular case, there is an easy solution - [`astropy Tables`](http://docs.astropy.org/en/stable/table/). \n",
    "\n",
    "IRSA tables are so commonly used throughout the community, that the folks at `astropy` have created a convenience method for all of us to read in tables created in that particular (unusual?) format."
   ]
  },
  {
   "cell_type": "markdown",
   "metadata": {
    "slideshow": {
     "slide_type": "slide"
    }
   },
   "source": [
    "**Problem 1b**\n",
    "\n",
    "Use [`Table.read()`](http://docs.astropy.org/en/stable/api/astropy.table.Table.html#astropy.table.Table.read) to read in `irsa_catalog_WISE_iPTF14jg_search_results.tbl` to an `astropy Table` object."
   ]
  },
  {
   "cell_type": "code",
   "execution_count": 67,
   "metadata": {},
   "outputs": [],
   "source": [
    "Table.read?"
   ]
  },
  {
   "cell_type": "code",
   "execution_count": 68,
   "metadata": {
    "slideshow": {
     "slide_type": "subslide"
    }
   },
   "outputs": [
    {
     "data": {
      "text/html": [
       "<div><i>Table length=137</i>\n",
       "<table id=\"table5095062400\" class=\"table-striped table-bordered table-condensed\">\n",
       "<thead><tr><th>ra</th><th>dec</th><th>sigra</th><th>sigdec</th><th>sigradec</th><th>w1mpro</th><th>w1sigmpro</th><th>w1snr</th><th>w1rchi2</th><th>w2mpro</th><th>w2sigmpro</th><th>w2snr</th><th>w2rchi2</th><th>nb</th><th>na</th><th>cc_flags</th><th>ph_qual</th><th>qual_frame</th><th>mjd</th><th>allwise_cntr</th><th>w1mpro_allwise</th><th>w1sigmpro_allwise</th><th>w2mpro_allwise</th><th>w2sigmpro_allwise</th><th>w3mpro_allwise</th><th>w3sigmpro_allwise</th><th>w4mpro_allwise</th><th>w4sigmpro_allwise</th><th>tmass_key</th><th>j_m_2mass</th><th>j_msig_2mass</th><th>h_m_2mass</th><th>h_msig_2mass</th><th>k_m_2mass</th><th>k_msig_2mass</th><th>dist</th><th>angle</th></tr></thead>\n",
       "<thead><tr><th>deg</th><th>deg</th><th>arcsec</th><th>arcsec</th><th>arcsec</th><th>mag</th><th>mag</th><th></th><th></th><th>mag</th><th>mag</th><th></th><th></th><th></th><th></th><th></th><th></th><th></th><th>mjdate</th><th></th><th>mag</th><th>mag</th><th>mag</th><th>mag</th><th>mag</th><th>mag</th><th>mag</th><th>mag</th><th></th><th>mag</th><th>mag</th><th>mag</th><th>mag</th><th>mag</th><th>mag</th><th>arcsec</th><th>deg</th></tr></thead>\n",
       "<thead><tr><th>float64</th><th>float64</th><th>float64</th><th>float64</th><th>float64</th><th>float64</th><th>float64</th><th>float64</th><th>float64</th><th>float64</th><th>float64</th><th>float64</th><th>float64</th><th>int64</th><th>int64</th><th>str4</th><th>str2</th><th>int64</th><th>float64</th><th>int64</th><th>float64</th><th>float64</th><th>float64</th><th>float64</th><th>float64</th><th>float64</th><th>float64</th><th>float64</th><th>int64</th><th>float64</th><th>float64</th><th>float64</th><th>float64</th><th>float64</th><th>float64</th><th>float64</th><th>float64</th></tr></thead>\n",
       "<tr><td>40.1255655</td><td>60.8793063</td><td>0.0947</td><td>0.0936</td><td>-0.0337</td><td>13.251</td><td>0.038</td><td>28.8</td><td>0.8767</td><td>12.735</td><td>0.058</td><td>18.6</td><td>0.7135</td><td>1</td><td>0</td><td>0000</td><td>AA</td><td>10</td><td>57621.23501414</td><td>--</td><td>--</td><td>--</td><td>--</td><td>--</td><td>--</td><td>--</td><td>--</td><td>--</td><td>--</td><td>--</td><td>--</td><td>--</td><td>--</td><td>--</td><td>--</td><td>0.028668</td><td>242.330013</td></tr>\n",
       "<tr><td>40.125574</td><td>60.879297</td><td>0.0925</td><td>0.0874</td><td>-0.0397</td><td>13.241</td><td>0.036</td><td>30.0</td><td>1.261</td><td>12.629</td><td>0.051</td><td>21.2</td><td>1.121</td><td>1</td><td>0</td><td>0000</td><td>AA</td><td>5</td><td>57621.62810604</td><td>--</td><td>--</td><td>--</td><td>--</td><td>--</td><td>--</td><td>--</td><td>--</td><td>--</td><td>--</td><td>--</td><td>--</td><td>--</td><td>--</td><td>--</td><td>--</td><td>0.048011</td><td>192.659014</td></tr>\n",
       "<tr><td>40.1256226</td><td>60.8793176</td><td>0.0808</td><td>0.0794</td><td>0.0098</td><td>12.753</td><td>0.039</td><td>27.8</td><td>0.764</td><td>11.901</td><td>0.034</td><td>32.0</td><td>1.059</td><td>1</td><td>0</td><td>0000</td><td>AA</td><td>10</td><td>57063.79830186</td><td>--</td><td>--</td><td>--</td><td>--</td><td>--</td><td>--</td><td>--</td><td>--</td><td>--</td><td>--</td><td>--</td><td>--</td><td>--</td><td>--</td><td>--</td><td>--</td><td>0.079498</td><td>69.867298</td></tr>\n",
       "<tr><td>40.1255528</td><td>60.8792864</td><td>0.0663</td><td>0.0608</td><td>-0.0156</td><td>12.774</td><td>0.028</td><td>38.6</td><td>1.361</td><td>11.935</td><td>0.037</td><td>29.3</td><td>0.7133</td><td>1</td><td>0</td><td>0000</td><td>AA</td><td>10</td><td>57256.77485551</td><td>--</td><td>--</td><td>--</td><td>--</td><td>--</td><td>--</td><td>--</td><td>--</td><td>--</td><td>--</td><td>--</td><td>--</td><td>--</td><td>--</td><td>--</td><td>--</td><td>0.097389</td><td>209.287467</td></tr>\n",
       "<tr><td>40.1255725</td><td>60.8792803</td><td>0.0645</td><td>0.0599</td><td>-0.0223</td><td>12.84</td><td>0.028</td><td>38.7</td><td>1.555</td><td>11.897</td><td>0.031</td><td>35.1</td><td>1.045</td><td>1</td><td>0</td><td>0000</td><td>AA</td><td>5</td><td>57257.10275142</td><td>--</td><td>--</td><td>--</td><td>--</td><td>--</td><td>--</td><td>--</td><td>--</td><td>--</td><td>--</td><td>--</td><td>--</td><td>--</td><td>--</td><td>--</td><td>--</td><td>0.107707</td><td>187.00605</td></tr>\n",
       "<tr><td>40.1255736</td><td>60.8792799</td><td>0.1164</td><td>0.1059</td><td>-0.039</td><td>13.587</td><td>0.041</td><td>26.4</td><td>1.647</td><td>13.145</td><td>0.076</td><td>14.3</td><td>1.03</td><td>1</td><td>0</td><td>0000</td><td>AA</td><td>5</td><td>57987.97028435</td><td>--</td><td>--</td><td>--</td><td>--</td><td>--</td><td>--</td><td>--</td><td>--</td><td>--</td><td>--</td><td>--</td><td>--</td><td>--</td><td>--</td><td>--</td><td>--</td><td>0.108928</td><td>185.907602</td></tr>\n",
       "<tr><td>40.1255644</td><td>60.8792744</td><td>0.0856</td><td>0.086</td><td>-0.031</td><td>13.198</td><td>0.035</td><td>31.2</td><td>1.725</td><td>12.644</td><td>0.05</td><td>21.7</td><td>0.7308</td><td>1</td><td>0</td><td>0000</td><td>AA</td><td>5</td><td>57620.84192211</td><td>--</td><td>--</td><td>--</td><td>--</td><td>--</td><td>--</td><td>--</td><td>--</td><td>--</td><td>--</td><td>--</td><td>--</td><td>--</td><td>--</td><td>--</td><td>--</td><td>0.131052</td><td>192.038104</td></tr>\n",
       "<tr><td>40.1255517</td><td>60.8792713</td><td>0.0679</td><td>0.0685</td><td>-0.0218</td><td>12.807</td><td>0.028</td><td>38.8</td><td>1.466</td><td>11.989</td><td>0.038</td><td>28.3</td><td>0.7736</td><td>1</td><td>0</td><td>0000</td><td>AA</td><td>10</td><td>57256.64356978</td><td>--</td><td>--</td><td>--</td><td>--</td><td>--</td><td>--</td><td>--</td><td>--</td><td>--</td><td>--</td><td>--</td><td>--</td><td>--</td><td>--</td><td>--</td><td>--</td><td>0.147884</td><td>199.589209</td></tr>\n",
       "<tr><td>40.1255718</td><td>60.8792687</td><td>0.1224</td><td>0.1104</td><td>-0.0547</td><td>13.496</td><td>0.044</td><td>24.6</td><td>0.9767</td><td>12.739</td><td>0.064</td><td>17.1</td><td>1.444</td><td>1</td><td>0</td><td>0000</td><td>AA</td><td>10</td><td>57787.46478715</td><td>--</td><td>--</td><td>--</td><td>--</td><td>--</td><td>--</td><td>--</td><td>--</td><td>--</td><td>--</td><td>--</td><td>--</td><td>--</td><td>--</td><td>--</td><td>--</td><td>0.149378</td><td>185.518975</td></tr>\n",
       "<tr><td>40.1256236</td><td>60.8792728</td><td>0.1107</td><td>0.0933</td><td>-0.0383</td><td>13.355</td><td>0.038</td><td>28.7</td><td>1.508</td><td>12.658</td><td>0.055</td><td>19.7</td><td>0.6638</td><td>1</td><td>0</td><td>0000</td><td>AA</td><td>5</td><td>57621.16956245</td><td>--</td><td>--</td><td>--</td><td>--</td><td>--</td><td>--</td><td>--</td><td>--</td><td>--</td><td>--</td><td>--</td><td>--</td><td>--</td><td>--</td><td>--</td><td>--</td><td>0.15417</td><td>150.300579</td></tr>\n",
       "<tr><td>40.1256406</td><td>60.8792778</td><td>0.0666</td><td>0.0631</td><td>-0.0228</td><td>12.774</td><td>0.027</td><td>39.6</td><td>1.482</td><td>11.893</td><td>0.039</td><td>28.1</td><td>1.025</td><td>1</td><td>0</td><td>0000</td><td>AA</td><td>10</td><td>57257.03717229</td><td>--</td><td>--</td><td>--</td><td>--</td><td>--</td><td>--</td><td>--</td><td>--</td><td>--</td><td>--</td><td>--</td><td>--</td><td>--</td><td>--</td><td>--</td><td>--</td><td>0.157204</td><td>137.514297</td></tr>\n",
       "<tr><td>...</td><td>...</td><td>...</td><td>...</td><td>...</td><td>...</td><td>...</td><td>...</td><td>...</td><td>...</td><td>...</td><td>...</td><td>...</td><td>...</td><td>...</td><td>...</td><td>...</td><td>...</td><td>...</td><td>...</td><td>...</td><td>...</td><td>...</td><td>...</td><td>...</td><td>...</td><td>...</td><td>...</td><td>...</td><td>...</td><td>...</td><td>...</td><td>...</td><td>...</td><td>...</td><td>...</td><td>...</td></tr>\n",
       "<tr><td>40.1255491</td><td>60.8791925</td><td>0.1361</td><td>0.1355</td><td>-0.062</td><td>13.705</td><td>0.049</td><td>22.3</td><td>0.6866</td><td>12.985</td><td>0.085</td><td>12.8</td><td>0.5531</td><td>1</td><td>0</td><td>0000</td><td>AA</td><td>5</td><td>57988.82140999</td><td>--</td><td>--</td><td>--</td><td>--</td><td>--</td><td>--</td><td>--</td><td>--</td><td>--</td><td>--</td><td>--</td><td>--</td><td>--</td><td>--</td><td>--</td><td>--</td><td>0.426454</td><td>187.293029</td></tr>\n",
       "<tr><td>40.1253863</td><td>60.8792324</td><td>0.1362</td><td>0.12</td><td>-0.0418</td><td>13.803</td><td>0.049</td><td>22.3</td><td>0.7825</td><td>13.145</td><td>0.071</td><td>15.2</td><td>0.8457</td><td>1</td><td>0</td><td>0000</td><td>AA</td><td>5</td><td>57988.16676654</td><td>--</td><td>--</td><td>--</td><td>--</td><td>--</td><td>--</td><td>--</td><td>--</td><td>--</td><td>--</td><td>--</td><td>--</td><td>--</td><td>--</td><td>--</td><td>--</td><td>0.439544</td><td>230.53831</td></tr>\n",
       "<tr><td>40.1254017</td><td>60.8792188</td><td>0.1756</td><td>0.1349</td><td>-0.0354</td><td>13.417</td><td>0.08</td><td>13.5</td><td>1.913</td><td>12.771</td><td>0.072</td><td>15.2</td><td>0.4021</td><td>1</td><td>0</td><td>0000</td><td>AA</td><td>10</td><td>57790.47736456</td><td>--</td><td>--</td><td>--</td><td>--</td><td>--</td><td>--</td><td>--</td><td>--</td><td>--</td><td>--</td><td>--</td><td>--</td><td>--</td><td>--</td><td>--</td><td>--</td><td>0.453174</td><td>223.574167</td></tr>\n",
       "<tr><td>40.1254504</td><td>60.8791953</td><td>0.065</td><td>0.0627</td><td>-0.0236</td><td>12.829</td><td>0.031</td><td>35.0</td><td>2.803</td><td>11.903</td><td>0.037</td><td>29.2</td><td>1.251</td><td>1</td><td>0</td><td>0000</td><td>AA</td><td>5</td><td>57423.45964858</td><td>--</td><td>--</td><td>--</td><td>--</td><td>--</td><td>--</td><td>--</td><td>--</td><td>--</td><td>--</td><td>--</td><td>--</td><td>--</td><td>--</td><td>--</td><td>--</td><td>0.471232</td><td>208.805123</td></tr>\n",
       "<tr><td>40.1254195</td><td>60.879191</td><td>0.0736</td><td>0.0604</td><td>-0.0255</td><td>12.777</td><td>0.027</td><td>39.9</td><td>0.8821</td><td>11.964</td><td>0.033</td><td>33.1</td><td>0.8097</td><td>1</td><td>0</td><td>0000</td><td>AA</td><td>10</td><td>57063.99542123</td><td>--</td><td>--</td><td>--</td><td>--</td><td>--</td><td>--</td><td>--</td><td>--</td><td>--</td><td>--</td><td>--</td><td>--</td><td>--</td><td>--</td><td>--</td><td>--</td><td>0.512441</td><td>213.279623</td></tr>\n",
       "<tr><td>40.1253594</td><td>60.8792163</td><td>0.0631</td><td>0.0675</td><td>-0.0093</td><td>12.791</td><td>0.03</td><td>36.6</td><td>1.13</td><td>11.972</td><td>0.039</td><td>27.5</td><td>0.6409</td><td>1</td><td>0</td><td>0000</td><td>AA</td><td>10</td><td>57422.73853115</td><td>--</td><td>--</td><td>--</td><td>--</td><td>--</td><td>--</td><td>--</td><td>--</td><td>--</td><td>--</td><td>--</td><td>--</td><td>--</td><td>--</td><td>--</td><td>--</td><td>0.512985</td><td>228.885562</td></tr>\n",
       "<tr><td>40.1252771</td><td>60.8793411</td><td>0.115</td><td>0.1078</td><td>-0.0397</td><td>13.511</td><td>0.041</td><td>26.2</td><td>1.299</td><td>12.668</td><td>0.061</td><td>17.8</td><td>0.6642</td><td>1</td><td>0</td><td>0000</td><td>AA</td><td>5</td><td>57790.01894558</td><td>--</td><td>--</td><td>--</td><td>--</td><td>--</td><td>--</td><td>--</td><td>--</td><td>--</td><td>--</td><td>--</td><td>--</td><td>--</td><td>--</td><td>--</td><td>--</td><td>0.542346</td><td>281.913746</td></tr>\n",
       "<tr><td>40.1253172</td><td>60.8792186</td><td>0.1035</td><td>0.1091</td><td>-0.0272</td><td>13.328</td><td>0.038</td><td>28.6</td><td>1.868</td><td>12.893</td><td>0.091</td><td>11.9</td><td>1.075</td><td>1</td><td>0</td><td>0000</td><td>AA</td><td>5</td><td>57790.21542903</td><td>--</td><td>--</td><td>--</td><td>--</td><td>--</td><td>--</td><td>--</td><td>--</td><td>--</td><td>--</td><td>--</td><td>--</td><td>--</td><td>--</td><td>--</td><td>--</td><td>0.565899</td><td>234.448038</td></tr>\n",
       "<tr><td>40.1256247</td><td>60.8791518</td><td>0.1463</td><td>0.1293</td><td>-0.0575</td><td>13.734</td><td>0.048</td><td>22.9</td><td>0.9954</td><td>13.257</td><td>0.122</td><td>8.9</td><td>0.5377</td><td>1</td><td>0</td><td>0000</td><td>AB</td><td>5</td><td>57988.36312131</td><td>--</td><td>--</td><td>--</td><td>--</td><td>--</td><td>--</td><td>--</td><td>--</td><td>--</td><td>--</td><td>--</td><td>--</td><td>--</td><td>--</td><td>--</td><td>--</td><td>0.574875</td><td>172.170603</td></tr>\n",
       "<tr><td>40.1252789</td><td>60.8792352</td><td>0.1174</td><td>0.1057</td><td>-0.0497</td><td>13.36</td><td>0.049</td><td>22.3</td><td>0.7856</td><td>12.729</td><td>0.06</td><td>18.1</td><td>0.7291</td><td>1</td><td>0</td><td>0000</td><td>AA</td><td>5</td><td>57787.33375567</td><td>--</td><td>--</td><td>--</td><td>--</td><td>--</td><td>--</td><td>--</td><td>--</td><td>--</td><td>--</td><td>--</td><td>--</td><td>--</td><td>--</td><td>--</td><td>--</td><td>0.59227</td><td>242.957045</td></tr>\n",
       "<tr><td>40.1260438</td><td>60.8791845</td><td>0.1911</td><td>0.1661</td><td>-0.0549</td><td>14.036</td><td>0.07</td><td>15.4</td><td>4.369</td><td>13.472</td><td>0.094</td><td>11.6</td><td>1.701</td><td>1</td><td>0</td><td>0000</td><td>AA</td><td>0</td><td>57988.49402461</td><td>--</td><td>--</td><td>--</td><td>--</td><td>--</td><td>--</td><td>--</td><td>--</td><td>--</td><td>--</td><td>--</td><td>--</td><td>--</td><td>--</td><td>--</td><td>--</td><td>0.929713</td><td>119.074968</td></tr>\n",
       "</table></div>"
      ],
      "text/plain": [
       "<Table length=137>\n",
       "    ra        dec      sigra   sigdec sigradec  w1mpro ... h_msig_2mass k_m_2mass k_msig_2mass   dist     angle   \n",
       "   deg        deg      arcsec  arcsec  arcsec    mag   ...     mag         mag        mag       arcsec     deg    \n",
       " float64    float64   float64 float64 float64  float64 ...   float64     float64    float64    float64   float64  \n",
       "---------- ---------- ------- ------- -------- ------- ... ------------ --------- ------------ -------- ----------\n",
       "40.1255655 60.8793063  0.0947  0.0936  -0.0337  13.251 ...           --        --           -- 0.028668 242.330013\n",
       " 40.125574  60.879297  0.0925  0.0874  -0.0397  13.241 ...           --        --           -- 0.048011 192.659014\n",
       "40.1256226 60.8793176  0.0808  0.0794   0.0098  12.753 ...           --        --           -- 0.079498  69.867298\n",
       "40.1255528 60.8792864  0.0663  0.0608  -0.0156  12.774 ...           --        --           -- 0.097389 209.287467\n",
       "40.1255725 60.8792803  0.0645  0.0599  -0.0223   12.84 ...           --        --           -- 0.107707  187.00605\n",
       "40.1255736 60.8792799  0.1164  0.1059   -0.039  13.587 ...           --        --           -- 0.108928 185.907602\n",
       "40.1255644 60.8792744  0.0856   0.086   -0.031  13.198 ...           --        --           -- 0.131052 192.038104\n",
       "40.1255517 60.8792713  0.0679  0.0685  -0.0218  12.807 ...           --        --           -- 0.147884 199.589209\n",
       "40.1255718 60.8792687  0.1224  0.1104  -0.0547  13.496 ...           --        --           -- 0.149378 185.518975\n",
       "40.1256236 60.8792728  0.1107  0.0933  -0.0383  13.355 ...           --        --           --  0.15417 150.300579\n",
       "40.1256406 60.8792778  0.0666  0.0631  -0.0228  12.774 ...           --        --           -- 0.157204 137.514297\n",
       "       ...        ...     ...     ...      ...     ... ...          ...       ...          ...      ...        ...\n",
       "40.1255491 60.8791925  0.1361  0.1355   -0.062  13.705 ...           --        --           -- 0.426454 187.293029\n",
       "40.1253863 60.8792324  0.1362    0.12  -0.0418  13.803 ...           --        --           -- 0.439544  230.53831\n",
       "40.1254017 60.8792188  0.1756  0.1349  -0.0354  13.417 ...           --        --           -- 0.453174 223.574167\n",
       "40.1254504 60.8791953   0.065  0.0627  -0.0236  12.829 ...           --        --           -- 0.471232 208.805123\n",
       "40.1254195  60.879191  0.0736  0.0604  -0.0255  12.777 ...           --        --           -- 0.512441 213.279623\n",
       "40.1253594 60.8792163  0.0631  0.0675  -0.0093  12.791 ...           --        --           -- 0.512985 228.885562\n",
       "40.1252771 60.8793411   0.115  0.1078  -0.0397  13.511 ...           --        --           -- 0.542346 281.913746\n",
       "40.1253172 60.8792186  0.1035  0.1091  -0.0272  13.328 ...           --        --           -- 0.565899 234.448038\n",
       "40.1256247 60.8791518  0.1463  0.1293  -0.0575  13.734 ...           --        --           -- 0.574875 172.170603\n",
       "40.1252789 60.8792352  0.1174  0.1057  -0.0497   13.36 ...           --        --           --  0.59227 242.957045\n",
       "40.1260438 60.8791845  0.1911  0.1661  -0.0549  14.036 ...           --        --           -- 0.929713 119.074968"
      ]
     },
     "execution_count": 68,
     "metadata": {},
     "output_type": "execute_result"
    }
   ],
   "source": [
    "from astropy.table import Table\n",
    "\n",
    "Table.read('dsfp_wrangling/irsa_catalog_WISE_iPTF14jg_search_results.tbl', format='ipac') # complete"
   ]
  },
  {
   "cell_type": "markdown",
   "metadata": {
    "slideshow": {
     "slide_type": "subslide"
    }
   },
   "source": [
    "A benefit to using this method, as opposed to `pandas`, is that data typing and data units are naturally read from the IRSA table and included with the associated columns. Thus, if you are uncertain if some brightness measurement is in magnitudes or Janskys, the `astropy Table` can report on that information.\n",
    "\n",
    "Unfortunately, `astropy` does *not* know about every strange formating decision that every astronomer has made at some point in their lives (as we are about to see...) "
   ]
  },
  {
   "cell_type": "markdown",
   "metadata": {
    "slideshow": {
     "slide_type": "slide"
    }
   },
   "source": [
    "## Problem 2) The Sins of Our Journals"
   ]
  },
  {
   "cell_type": "markdown",
   "metadata": {
    "slideshow": {
     "slide_type": "slide"
    }
   },
   "source": [
    "Unlike IRSA/IPAC, which uses a weird but nevertheless consistent format for data tables, data retrieved from Journal articles essentially follows no rules. In principle, tables in Journal articles are supposed to be provided in a machine readable format. In practice, as we are about to see, this is far from the case.\n",
    "\n",
    "For this particular wrangling case study we will focus on supernova light curves, a simple thing to report: time, filter, brightness, uncertainty on that brightness, that the community has nevertheless managed to mangle into some truly wild and difficult to parse forms."
   ]
  },
  {
   "cell_type": "markdown",
   "metadata": {
    "slideshow": {
     "slide_type": "skip"
    }
   },
   "source": [
    "(Sorry for the heavy emphasis on time-domain examples - I'm pulling straight from my own life today, but the issues described here are not perfectly addressed by any subfield within the astro umbrella)"
   ]
  },
  {
   "cell_type": "markdown",
   "metadata": {
    "slideshow": {
     "slide_type": "slide"
    }
   },
   "source": [
    "Here is the LaTeX-formatted version of Table 4 from [Miller et al. 2011](https://iopscience.iop.org/article/10.1088/0004-637X/730/2/80/meta):\n",
    "\n",
    "<img style=\"display: block; margin-left: auto; margin-right: auto\" src=\"images/Miller11_tbl4.png\" width=\"350\" align=\"middle\">"
   ]
  },
  {
   "cell_type": "markdown",
   "metadata": {
    "slideshow": {
     "slide_type": "subslide"
    }
   },
   "source": [
    "That is a very simple table to interpret, no?\n",
    "\n",
    "Have a look at the [\"machine-readible\" file](https://northwestern.box.com/s/o9nxkr3o79xunfo2o7r8nnas2sskncrc) that ApJ provides for readers that might want to evaluate these photometric measurements."
   ]
  },
  {
   "cell_type": "markdown",
   "metadata": {
    "slideshow": {
     "slide_type": "slide"
    }
   },
   "source": [
    "**Problem 2a** \n",
    "\n",
    "Read the ApJ version of Table 4 from from Miller et al. 2011 – called `Miller_et_al2011_table4.txt` – into either a `pandas DataFrame` or an `astropy Table`."
   ]
  },
  {
   "cell_type": "code",
   "execution_count": 120,
   "metadata": {
    "scrolled": true,
    "slideshow": {
     "slide_type": "subslide"
    }
   },
   "outputs": [
    {
     "data": {
      "text/html": [
       "<div>\n",
       "<style scoped>\n",
       "    .dataframe tbody tr th:only-of-type {\n",
       "        vertical-align: middle;\n",
       "    }\n",
       "\n",
       "    .dataframe tbody tr th {\n",
       "        vertical-align: top;\n",
       "    }\n",
       "\n",
       "    .dataframe thead th {\n",
       "        text-align: right;\n",
       "    }\n",
       "</style>\n",
       "<table border=\"1\" class=\"dataframe\">\n",
       "  <thead>\n",
       "    <tr style=\"text-align: right;\">\n",
       "      <th></th>\n",
       "      <th>t_mid^a</th>\n",
       "      <th>J mag</th>\n",
       "      <th>H mag</th>\n",
       "      <th>K_s mag</th>\n",
       "      <th>Unnamed: 4</th>\n",
       "    </tr>\n",
       "  </thead>\n",
       "  <tbody>\n",
       "    <tr>\n",
       "      <th>0</th>\n",
       "      <td>(MJD)</td>\n",
       "      <td>(Vega)</td>\n",
       "      <td>(Vega)</td>\n",
       "      <td>(Vega)</td>\n",
       "      <td>NaN</td>\n",
       "    </tr>\n",
       "    <tr>\n",
       "      <th>1</th>\n",
       "      <td>55466.137</td>\n",
       "      <td>10.04 +or- 0.03</td>\n",
       "      <td>9.14 +or- 0.03</td>\n",
       "      <td>8.65 +or- 0.03</td>\n",
       "      <td>NaN</td>\n",
       "    </tr>\n",
       "    <tr>\n",
       "      <th>2</th>\n",
       "      <td>55468.145</td>\n",
       "      <td>9.99 +or- 0.03</td>\n",
       "      <td>9.06 +or- 0.04</td>\n",
       "      <td>8.64 +or- 0.04</td>\n",
       "      <td>NaN</td>\n",
       "    </tr>\n",
       "    <tr>\n",
       "      <th>3</th>\n",
       "      <td>55469.148</td>\n",
       "      <td>10.04 +or- 0.03</td>\n",
       "      <td>9.07 +or- 0.03</td>\n",
       "      <td>8.70 +or- 0.03</td>\n",
       "      <td>NaN</td>\n",
       "    </tr>\n",
       "    <tr>\n",
       "      <th>4</th>\n",
       "      <td>55479.109</td>\n",
       "      <td>10.11 +or- 0.03</td>\n",
       "      <td>9.11 +or- 0.03</td>\n",
       "      <td>8.63 +or- 0.04</td>\n",
       "      <td>NaN</td>\n",
       "    </tr>\n",
       "    <tr>\n",
       "      <th>5</th>\n",
       "      <td>55504.164</td>\n",
       "      <td>10.20 +or- 0.03</td>\n",
       "      <td>9.24 +or- 0.03</td>\n",
       "      <td>8.74 +or- 0.03</td>\n",
       "      <td>NaN</td>\n",
       "    </tr>\n",
       "    <tr>\n",
       "      <th>6</th>\n",
       "      <td>55513.195</td>\n",
       "      <td>10.29 +or- 0.03</td>\n",
       "      <td>9.34 +or- 0.03</td>\n",
       "      <td>8.79 +or- 0.03</td>\n",
       "      <td>NaN</td>\n",
       "    </tr>\n",
       "    <tr>\n",
       "      <th>7</th>\n",
       "      <td>55518.168</td>\n",
       "      <td>10.32 +or- 0.03</td>\n",
       "      <td>9.34 +or- 0.04</td>\n",
       "      <td>8.84 +or- 0.03</td>\n",
       "      <td>NaN</td>\n",
       "    </tr>\n",
       "    <tr>\n",
       "      <th>8</th>\n",
       "      <td>55527.117</td>\n",
       "      <td>10.35 +or- 0.03</td>\n",
       "      <td>9.40 +or- 0.03</td>\n",
       "      <td>8.89 +or- 0.03</td>\n",
       "      <td>NaN</td>\n",
       "    </tr>\n",
       "    <tr>\n",
       "      <th>9</th>\n",
       "      <td>55531.145</td>\n",
       "      <td>10.40 +or- 0.03</td>\n",
       "      <td>9.44 +or- 0.03</td>\n",
       "      <td>8.97 +or- 0.03</td>\n",
       "      <td>NaN</td>\n",
       "    </tr>\n",
       "    <tr>\n",
       "      <th>10</th>\n",
       "      <td>55543.066</td>\n",
       "      <td>10.45 +or- 0.03</td>\n",
       "      <td>9.48 +or- 0.04</td>\n",
       "      <td>9.06 +or- 0.04</td>\n",
       "      <td>NaN</td>\n",
       "    </tr>\n",
       "  </tbody>\n",
       "</table>\n",
       "</div>"
      ],
      "text/plain": [
       "      t_mid^a            J mag           H mag         K_s mag  Unnamed: 4\n",
       "0       (MJD)           (Vega)          (Vega)          (Vega)         NaN\n",
       "1   55466.137  10.04 +or- 0.03  9.14 +or- 0.03  8.65 +or- 0.03         NaN\n",
       "2   55468.145   9.99 +or- 0.03  9.06 +or- 0.04  8.64 +or- 0.04         NaN\n",
       "3   55469.148  10.04 +or- 0.03  9.07 +or- 0.03  8.70 +or- 0.03         NaN\n",
       "4   55479.109  10.11 +or- 0.03  9.11 +or- 0.03  8.63 +or- 0.04         NaN\n",
       "5   55504.164  10.20 +or- 0.03  9.24 +or- 0.03  8.74 +or- 0.03         NaN\n",
       "6   55513.195  10.29 +or- 0.03  9.34 +or- 0.03  8.79 +or- 0.03         NaN\n",
       "7   55518.168  10.32 +or- 0.03  9.34 +or- 0.04  8.84 +or- 0.03         NaN\n",
       "8   55527.117  10.35 +or- 0.03  9.40 +or- 0.03  8.89 +or- 0.03         NaN\n",
       "9   55531.145  10.40 +or- 0.03  9.44 +or- 0.03  8.97 +or- 0.03         NaN\n",
       "10  55543.066  10.45 +or- 0.03  9.48 +or- 0.04  9.06 +or- 0.04         NaN"
      ]
     },
     "execution_count": 120,
     "metadata": {},
     "output_type": "execute_result"
    }
   ],
   "source": [
    "miller_table_pd = pd.read_csv('dsfp_wrangling/Miller_et_al2011_table4.txt', skiprows=[0, 1, 2, 16, 17], delimiter='\\t') # read in the data from Miller et al 2011\n",
    "miller_table_pd"
   ]
  },
  {
   "cell_type": "code",
   "execution_count": 128,
   "metadata": {
    "scrolled": false
   },
   "outputs": [
    {
     "ename": "InconsistentTableError",
     "evalue": "Could not find table start",
     "output_type": "error",
     "traceback": [
      "\u001b[0;31m---------------------------------------------------------------------------\u001b[0m",
      "\u001b[0;31mInconsistentTableError\u001b[0m                    Traceback (most recent call last)",
      "Input \u001b[0;32mIn [128]\u001b[0m, in \u001b[0;36m<cell line: 1>\u001b[0;34m()\u001b[0m\n\u001b[0;32m----> 1\u001b[0m miller_table_astropy \u001b[38;5;241m=\u001b[39m \u001b[43mTable\u001b[49m\u001b[38;5;241;43m.\u001b[39;49m\u001b[43mread\u001b[49m\u001b[43m(\u001b[49m\u001b[38;5;124;43m'\u001b[39;49m\u001b[38;5;124;43mdsfp_wrangling/Miller_et_al2011_table4.txt\u001b[39;49m\u001b[38;5;124;43m'\u001b[39;49m\u001b[43m,\u001b[49m\u001b[43m \u001b[49m\u001b[38;5;28;43mformat\u001b[39;49m\u001b[38;5;241;43m=\u001b[39;49m\u001b[38;5;124;43m'\u001b[39;49m\u001b[38;5;124;43mlatex\u001b[39;49m\u001b[38;5;124;43m'\u001b[39;49m\u001b[43m,\u001b[49m\u001b[43m \u001b[49m\u001b[43mdelimiter\u001b[49m\u001b[38;5;241;43m=\u001b[39;49m\u001b[38;5;124;43m'\u001b[39;49m\u001b[38;5;130;43;01m\\t\u001b[39;49;00m\u001b[38;5;124;43m'\u001b[39;49m\u001b[43m)\u001b[49m\n\u001b[1;32m      2\u001b[0m miller_table_astropy\n",
      "File \u001b[0;32m~/miniforge3/envs/dsfp/lib/python3.9/site-packages/astropy/table/connect.py:62\u001b[0m, in \u001b[0;36mTableRead.__call__\u001b[0;34m(self, *args, **kwargs)\u001b[0m\n\u001b[1;32m     59\u001b[0m units \u001b[38;5;241m=\u001b[39m kwargs\u001b[38;5;241m.\u001b[39mpop(\u001b[38;5;124m'\u001b[39m\u001b[38;5;124munits\u001b[39m\u001b[38;5;124m'\u001b[39m, \u001b[38;5;28;01mNone\u001b[39;00m)\n\u001b[1;32m     60\u001b[0m descriptions \u001b[38;5;241m=\u001b[39m kwargs\u001b[38;5;241m.\u001b[39mpop(\u001b[38;5;124m'\u001b[39m\u001b[38;5;124mdescriptions\u001b[39m\u001b[38;5;124m'\u001b[39m, \u001b[38;5;28;01mNone\u001b[39;00m)\n\u001b[0;32m---> 62\u001b[0m out \u001b[38;5;241m=\u001b[39m \u001b[38;5;28;43mself\u001b[39;49m\u001b[38;5;241;43m.\u001b[39;49m\u001b[43mregistry\u001b[49m\u001b[38;5;241;43m.\u001b[39;49m\u001b[43mread\u001b[49m\u001b[43m(\u001b[49m\u001b[38;5;28;43mcls\u001b[39;49m\u001b[43m,\u001b[49m\u001b[43m \u001b[49m\u001b[38;5;241;43m*\u001b[39;49m\u001b[43margs\u001b[49m\u001b[43m,\u001b[49m\u001b[43m \u001b[49m\u001b[38;5;241;43m*\u001b[39;49m\u001b[38;5;241;43m*\u001b[39;49m\u001b[43mkwargs\u001b[49m\u001b[43m)\u001b[49m\n\u001b[1;32m     64\u001b[0m \u001b[38;5;66;03m# For some readers (e.g., ascii.ecsv), the returned `out` class is not\u001b[39;00m\n\u001b[1;32m     65\u001b[0m \u001b[38;5;66;03m# guaranteed to be the same as the desired output `cls`.  If so,\u001b[39;00m\n\u001b[1;32m     66\u001b[0m \u001b[38;5;66;03m# try coercing to desired class without copying (io.registry.read\u001b[39;00m\n\u001b[1;32m     67\u001b[0m \u001b[38;5;66;03m# would normally do a copy).  The normal case here is swapping\u001b[39;00m\n\u001b[1;32m     68\u001b[0m \u001b[38;5;66;03m# Table <=> QTable.\u001b[39;00m\n\u001b[1;32m     69\u001b[0m \u001b[38;5;28;01mif\u001b[39;00m \u001b[38;5;28mcls\u001b[39m \u001b[38;5;129;01mis\u001b[39;00m \u001b[38;5;129;01mnot\u001b[39;00m out\u001b[38;5;241m.\u001b[39m\u001b[38;5;18m__class__\u001b[39m:\n",
      "File \u001b[0;32m~/miniforge3/envs/dsfp/lib/python3.9/site-packages/astropy/io/registry/core.py:212\u001b[0m, in \u001b[0;36mUnifiedInputRegistry.read\u001b[0;34m(self, cls, format, cache, *args, **kwargs)\u001b[0m\n\u001b[1;32m    208\u001b[0m     \u001b[38;5;28mformat\u001b[39m \u001b[38;5;241m=\u001b[39m \u001b[38;5;28mself\u001b[39m\u001b[38;5;241m.\u001b[39m_get_valid_format(\n\u001b[1;32m    209\u001b[0m         \u001b[38;5;124m'\u001b[39m\u001b[38;5;124mread\u001b[39m\u001b[38;5;124m'\u001b[39m, \u001b[38;5;28mcls\u001b[39m, path, fileobj, args, kwargs)\n\u001b[1;32m    211\u001b[0m reader \u001b[38;5;241m=\u001b[39m \u001b[38;5;28mself\u001b[39m\u001b[38;5;241m.\u001b[39mget_reader(\u001b[38;5;28mformat\u001b[39m, \u001b[38;5;28mcls\u001b[39m)\n\u001b[0;32m--> 212\u001b[0m data \u001b[38;5;241m=\u001b[39m \u001b[43mreader\u001b[49m\u001b[43m(\u001b[49m\u001b[38;5;241;43m*\u001b[39;49m\u001b[43margs\u001b[49m\u001b[43m,\u001b[49m\u001b[43m \u001b[49m\u001b[38;5;241;43m*\u001b[39;49m\u001b[38;5;241;43m*\u001b[39;49m\u001b[43mkwargs\u001b[49m\u001b[43m)\u001b[49m\n\u001b[1;32m    214\u001b[0m \u001b[38;5;28;01mif\u001b[39;00m \u001b[38;5;129;01mnot\u001b[39;00m \u001b[38;5;28misinstance\u001b[39m(data, \u001b[38;5;28mcls\u001b[39m):\n\u001b[1;32m    215\u001b[0m     \u001b[38;5;66;03m# User has read with a subclass where only the parent class is\u001b[39;00m\n\u001b[1;32m    216\u001b[0m     \u001b[38;5;66;03m# registered.  This returns the parent class, so try coercing\u001b[39;00m\n\u001b[1;32m    217\u001b[0m     \u001b[38;5;66;03m# to desired subclass.\u001b[39;00m\n\u001b[1;32m    218\u001b[0m     \u001b[38;5;28;01mtry\u001b[39;00m:\n",
      "File \u001b[0;32m~/miniforge3/envs/dsfp/lib/python3.9/site-packages/astropy/io/ascii/connect.py:18\u001b[0m, in \u001b[0;36mio_read\u001b[0;34m(format, filename, **kwargs)\u001b[0m\n\u001b[1;32m     16\u001b[0m     \u001b[38;5;28mformat\u001b[39m \u001b[38;5;241m=\u001b[39m re\u001b[38;5;241m.\u001b[39msub(\u001b[38;5;124mr\u001b[39m\u001b[38;5;124m'\u001b[39m\u001b[38;5;124m^ascii\u001b[39m\u001b[38;5;124m\\\u001b[39m\u001b[38;5;124m.\u001b[39m\u001b[38;5;124m'\u001b[39m, \u001b[38;5;124m'\u001b[39m\u001b[38;5;124m'\u001b[39m, \u001b[38;5;28mformat\u001b[39m)\n\u001b[1;32m     17\u001b[0m     kwargs[\u001b[38;5;124m'\u001b[39m\u001b[38;5;124mformat\u001b[39m\u001b[38;5;124m'\u001b[39m] \u001b[38;5;241m=\u001b[39m \u001b[38;5;28mformat\u001b[39m\n\u001b[0;32m---> 18\u001b[0m \u001b[38;5;28;01mreturn\u001b[39;00m \u001b[43mread\u001b[49m\u001b[43m(\u001b[49m\u001b[43mfilename\u001b[49m\u001b[43m,\u001b[49m\u001b[43m \u001b[49m\u001b[38;5;241;43m*\u001b[39;49m\u001b[38;5;241;43m*\u001b[39;49m\u001b[43mkwargs\u001b[49m\u001b[43m)\u001b[49m\n",
      "File \u001b[0;32m~/miniforge3/envs/dsfp/lib/python3.9/site-packages/astropy/io/ascii/ui.py:396\u001b[0m, in \u001b[0;36mread\u001b[0;34m(table, guess, **kwargs)\u001b[0m\n\u001b[1;32m    394\u001b[0m     \u001b[38;5;28;01melse\u001b[39;00m:\n\u001b[1;32m    395\u001b[0m         reader \u001b[38;5;241m=\u001b[39m get_reader(\u001b[38;5;241m*\u001b[39m\u001b[38;5;241m*\u001b[39mnew_kwargs)\n\u001b[0;32m--> 396\u001b[0m         dat \u001b[38;5;241m=\u001b[39m \u001b[43mreader\u001b[49m\u001b[38;5;241;43m.\u001b[39;49m\u001b[43mread\u001b[49m\u001b[43m(\u001b[49m\u001b[43mtable\u001b[49m\u001b[43m)\u001b[49m\n\u001b[1;32m    397\u001b[0m         _read_trace\u001b[38;5;241m.\u001b[39mappend({\u001b[38;5;124m'\u001b[39m\u001b[38;5;124mkwargs\u001b[39m\u001b[38;5;124m'\u001b[39m: copy\u001b[38;5;241m.\u001b[39mdeepcopy(new_kwargs),\n\u001b[1;32m    398\u001b[0m                             \u001b[38;5;124m'\u001b[39m\u001b[38;5;124mReader\u001b[39m\u001b[38;5;124m'\u001b[39m: reader\u001b[38;5;241m.\u001b[39m\u001b[38;5;18m__class__\u001b[39m,\n\u001b[1;32m    399\u001b[0m                             \u001b[38;5;124m'\u001b[39m\u001b[38;5;124mstatus\u001b[39m\u001b[38;5;124m'\u001b[39m: \u001b[38;5;124m'\u001b[39m\u001b[38;5;124mSuccess with specified Reader class \u001b[39m\u001b[38;5;124m'\u001b[39m\n\u001b[1;32m    400\u001b[0m                                       \u001b[38;5;124m'\u001b[39m\u001b[38;5;124m(no guessing)\u001b[39m\u001b[38;5;124m'\u001b[39m})\n\u001b[1;32m    402\u001b[0m \u001b[38;5;66;03m# Static analysis (pyright) indicates `dat` might be left undefined, so just\u001b[39;00m\n\u001b[1;32m    403\u001b[0m \u001b[38;5;66;03m# to be sure define it at the beginning and check here.\u001b[39;00m\n",
      "File \u001b[0;32m~/miniforge3/envs/dsfp/lib/python3.9/site-packages/astropy/io/ascii/core.py:1359\u001b[0m, in \u001b[0;36mBaseReader.read\u001b[0;34m(self, table)\u001b[0m\n\u001b[1;32m   1356\u001b[0m \u001b[38;5;28mself\u001b[39m\u001b[38;5;241m.\u001b[39mlines \u001b[38;5;241m=\u001b[39m \u001b[38;5;28mself\u001b[39m\u001b[38;5;241m.\u001b[39minputter\u001b[38;5;241m.\u001b[39mget_lines(table, newline\u001b[38;5;241m=\u001b[39mnewline)\n\u001b[1;32m   1358\u001b[0m \u001b[38;5;66;03m# Set self.data.data_lines to a slice of lines contain the data rows\u001b[39;00m\n\u001b[0;32m-> 1359\u001b[0m \u001b[38;5;28;43mself\u001b[39;49m\u001b[38;5;241;43m.\u001b[39;49m\u001b[43mdata\u001b[49m\u001b[38;5;241;43m.\u001b[39;49m\u001b[43mget_data_lines\u001b[49m\u001b[43m(\u001b[49m\u001b[38;5;28;43mself\u001b[39;49m\u001b[38;5;241;43m.\u001b[39;49m\u001b[43mlines\u001b[49m\u001b[43m)\u001b[49m\n\u001b[1;32m   1361\u001b[0m \u001b[38;5;66;03m# Extract table meta values (e.g. keywords, comments, etc).  Updates self.meta.\u001b[39;00m\n\u001b[1;32m   1362\u001b[0m \u001b[38;5;28mself\u001b[39m\u001b[38;5;241m.\u001b[39mheader\u001b[38;5;241m.\u001b[39mupdate_meta(\u001b[38;5;28mself\u001b[39m\u001b[38;5;241m.\u001b[39mlines, \u001b[38;5;28mself\u001b[39m\u001b[38;5;241m.\u001b[39mmeta)\n",
      "File \u001b[0;32m~/miniforge3/envs/dsfp/lib/python3.9/site-packages/astropy/io/ascii/core.py:805\u001b[0m, in \u001b[0;36mBaseData.get_data_lines\u001b[0;34m(self, lines)\u001b[0m\n\u001b[1;32m    802\u001b[0m \u001b[38;5;124;03m\"\"\"READ: Set ``data_lines`` attribute to lines slice comprising table data values.\u001b[39;00m\n\u001b[1;32m    803\u001b[0m \u001b[38;5;124;03m\"\"\"\u001b[39;00m\n\u001b[1;32m    804\u001b[0m data_lines \u001b[38;5;241m=\u001b[39m \u001b[38;5;28mself\u001b[39m\u001b[38;5;241m.\u001b[39mprocess_lines(lines)\n\u001b[0;32m--> 805\u001b[0m start_line \u001b[38;5;241m=\u001b[39m \u001b[43m_get_line_index\u001b[49m\u001b[43m(\u001b[49m\u001b[38;5;28;43mself\u001b[39;49m\u001b[38;5;241;43m.\u001b[39;49m\u001b[43mstart_line\u001b[49m\u001b[43m,\u001b[49m\u001b[43m \u001b[49m\u001b[43mdata_lines\u001b[49m\u001b[43m)\u001b[49m\n\u001b[1;32m    806\u001b[0m end_line \u001b[38;5;241m=\u001b[39m _get_line_index(\u001b[38;5;28mself\u001b[39m\u001b[38;5;241m.\u001b[39mend_line, data_lines)\n\u001b[1;32m    808\u001b[0m \u001b[38;5;28;01mif\u001b[39;00m start_line \u001b[38;5;129;01mis\u001b[39;00m \u001b[38;5;129;01mnot\u001b[39;00m \u001b[38;5;28;01mNone\u001b[39;00m \u001b[38;5;129;01mor\u001b[39;00m end_line \u001b[38;5;129;01mis\u001b[39;00m \u001b[38;5;129;01mnot\u001b[39;00m \u001b[38;5;28;01mNone\u001b[39;00m:\n",
      "File \u001b[0;32m~/miniforge3/envs/dsfp/lib/python3.9/site-packages/astropy/io/ascii/core.py:548\u001b[0m, in \u001b[0;36m_get_line_index\u001b[0;34m(line_or_func, lines)\u001b[0m\n\u001b[1;32m    543\u001b[0m \u001b[38;5;124;03m\"\"\"Return the appropriate line index, depending on ``line_or_func`` which\u001b[39;00m\n\u001b[1;32m    544\u001b[0m \u001b[38;5;124;03mcan be either a function, a positive or negative int, or None.\u001b[39;00m\n\u001b[1;32m    545\u001b[0m \u001b[38;5;124;03m\"\"\"\u001b[39;00m\n\u001b[1;32m    547\u001b[0m \u001b[38;5;28;01mif\u001b[39;00m \u001b[38;5;28mhasattr\u001b[39m(line_or_func, \u001b[38;5;124m'\u001b[39m\u001b[38;5;124m__call__\u001b[39m\u001b[38;5;124m'\u001b[39m):\n\u001b[0;32m--> 548\u001b[0m     \u001b[38;5;28;01mreturn\u001b[39;00m \u001b[43mline_or_func\u001b[49m\u001b[43m(\u001b[49m\u001b[43mlines\u001b[49m\u001b[43m)\u001b[49m\n\u001b[1;32m    549\u001b[0m \u001b[38;5;28;01melif\u001b[39;00m line_or_func:\n\u001b[1;32m    550\u001b[0m     \u001b[38;5;28;01mif\u001b[39;00m line_or_func \u001b[38;5;241m>\u001b[39m\u001b[38;5;241m=\u001b[39m \u001b[38;5;241m0\u001b[39m:\n",
      "File \u001b[0;32m~/miniforge3/envs/dsfp/lib/python3.9/site-packages/astropy/io/ascii/latex.py:178\u001b[0m, in \u001b[0;36mLatexData.start_line\u001b[0;34m(self, lines)\u001b[0m\n\u001b[1;32m    176\u001b[0m start \u001b[38;5;241m=\u001b[39m \u001b[38;5;28mself\u001b[39m\u001b[38;5;241m.\u001b[39mheader\u001b[38;5;241m.\u001b[39mstart_line(lines)\n\u001b[1;32m    177\u001b[0m \u001b[38;5;28;01mif\u001b[39;00m start \u001b[38;5;129;01mis\u001b[39;00m \u001b[38;5;28;01mNone\u001b[39;00m:\n\u001b[0;32m--> 178\u001b[0m     \u001b[38;5;28;01mraise\u001b[39;00m core\u001b[38;5;241m.\u001b[39mInconsistentTableError(\u001b[38;5;124mr\u001b[39m\u001b[38;5;124m'\u001b[39m\u001b[38;5;124mCould not find table start\u001b[39m\u001b[38;5;124m'\u001b[39m)\n\u001b[1;32m    179\u001b[0m \u001b[38;5;28;01mreturn\u001b[39;00m start \u001b[38;5;241m+\u001b[39m \u001b[38;5;241m1\u001b[39m\n",
      "\u001b[0;31mInconsistentTableError\u001b[0m: Could not find table start"
     ]
    }
   ],
   "source": [
    "miller_table_astropy = Table.read('dsfp_wrangling/Miller_et_al2011_table4.txt', format='latex', delimiter='\\t')\n",
    "miller_table_astropy"
   ]
  },
  {
   "cell_type": "markdown",
   "metadata": {
    "slideshow": {
     "slide_type": "slide"
    }
   },
   "source": [
    "That wasn't too terrible. But what if we consider a more typical light curve table, where there are loads of missing data, such as Table 2 from [Foley et al. 2009](https://iopscience.iop.org/article/10.1088/0004-6256/138/2/376#aj309430t2):\n",
    "\n",
    "<img style=\"display: block; margin-left: auto; margin-right: auto\" src=\"images/Foley09_tbl2.png\" width=\"350\" align=\"middle\">"
   ]
  },
  {
   "cell_type": "markdown",
   "metadata": {
    "slideshow": {
     "slide_type": "subslide"
    }
   },
   "source": [
    "Again, this table is straightforward to read, and it isn't hard to imagine how one could construct a machine-readable csv or other file from this information. But alas, this is not what is available from ApJ. So, we will need to figure out how to deal with both the missing data, \"...\", and the weird convention that many astronomers use where the uncertainties are (a) not reported in their own column, and (b) are not provided in the same units as the measurement itself. I can understand the former, but the later is somewhat baffling..."
   ]
  },
  {
   "cell_type": "markdown",
   "metadata": {
    "slideshow": {
     "slide_type": "slide"
    }
   },
   "source": [
    "**Problem 2b** \n",
    "\n",
    "Read the ApJ version of Table 2 from from Foley et al. 2009 – called `Foley_et_al2009_table2.txt` – into either a `pandas DataFrame` or an `astropy Table`."
   ]
  },
  {
   "cell_type": "code",
   "execution_count": 132,
   "metadata": {
    "scrolled": false,
    "slideshow": {
     "slide_type": "subslide"
    }
   },
   "outputs": [
    {
     "data": {
      "text/html": [
       "<div>\n",
       "<style scoped>\n",
       "    .dataframe tbody tr th:only-of-type {\n",
       "        vertical-align: middle;\n",
       "    }\n",
       "\n",
       "    .dataframe tbody tr th {\n",
       "        vertical-align: top;\n",
       "    }\n",
       "\n",
       "    .dataframe thead th {\n",
       "        text-align: right;\n",
       "    }\n",
       "</style>\n",
       "<table border=\"1\" class=\"dataframe\">\n",
       "  <thead>\n",
       "    <tr style=\"text-align: right;\">\n",
       "      <th></th>\n",
       "      <th>JD</th>\n",
       "      <th>B (mag)</th>\n",
       "      <th>V (mag)</th>\n",
       "      <th>R (mag)</th>\n",
       "      <th>I (mag)</th>\n",
       "      <th>Unfiltered (mag)</th>\n",
       "      <th>Telescope</th>\n",
       "      <th>Unnamed: 7</th>\n",
       "    </tr>\n",
       "  </thead>\n",
       "  <tbody>\n",
       "    <tr>\n",
       "      <th>0</th>\n",
       "      <td>2454764.80</td>\n",
       "      <td>sdotsdotsdot</td>\n",
       "      <td>sdotsdotsdot</td>\n",
       "      <td>sdotsdotsdot</td>\n",
       "      <td>sdotsdotsdot</td>\n",
       "      <td>&gt;19.5</td>\n",
       "      <td>KAIT</td>\n",
       "      <td>NaN</td>\n",
       "    </tr>\n",
       "    <tr>\n",
       "      <th>1</th>\n",
       "      <td>2454778.69</td>\n",
       "      <td>sdotsdotsdot</td>\n",
       "      <td>sdotsdotsdot</td>\n",
       "      <td>sdotsdotsdot</td>\n",
       "      <td>sdotsdotsdot</td>\n",
       "      <td>18.069 (092)</td>\n",
       "      <td>KAIT</td>\n",
       "      <td>NaN</td>\n",
       "    </tr>\n",
       "    <tr>\n",
       "      <th>2</th>\n",
       "      <td>2454781.76</td>\n",
       "      <td>18.340 (084)</td>\n",
       "      <td>17.828 (037)</td>\n",
       "      <td>sdotsdotsdot</td>\n",
       "      <td>sdotsdotsdot</td>\n",
       "      <td>sdotsdotsdot</td>\n",
       "      <td>KAIT</td>\n",
       "      <td>NaN</td>\n",
       "    </tr>\n",
       "    <tr>\n",
       "      <th>3</th>\n",
       "      <td>2454783.74</td>\n",
       "      <td>18.229 (062)</td>\n",
       "      <td>17.718 (042)</td>\n",
       "      <td>17.509 (041)</td>\n",
       "      <td>17.377 (054)</td>\n",
       "      <td>sdotsdotsdot</td>\n",
       "      <td>KAIT</td>\n",
       "      <td>NaN</td>\n",
       "    </tr>\n",
       "    <tr>\n",
       "      <th>4</th>\n",
       "      <td>2454784.64</td>\n",
       "      <td>sdotsdotsdot</td>\n",
       "      <td>sdotsdotsdot</td>\n",
       "      <td>sdotsdotsdot</td>\n",
       "      <td>sdotsdotsdot</td>\n",
       "      <td>17.736 (091)</td>\n",
       "      <td>KAIT</td>\n",
       "      <td>NaN</td>\n",
       "    </tr>\n",
       "    <tr>\n",
       "      <th>5</th>\n",
       "      <td>2454784.71</td>\n",
       "      <td>18.230 (030)</td>\n",
       "      <td>17.635 (030)</td>\n",
       "      <td>17.570 (030)</td>\n",
       "      <td>17.392 (030)</td>\n",
       "      <td>sdotsdotsdot</td>\n",
       "      <td>Nickel</td>\n",
       "      <td>NaN</td>\n",
       "    </tr>\n",
       "    <tr>\n",
       "      <th>6</th>\n",
       "      <td>2454785.67</td>\n",
       "      <td>18.385 (030)</td>\n",
       "      <td>17.660 (027)</td>\n",
       "      <td>17.610 (023)</td>\n",
       "      <td>17.425 (034)</td>\n",
       "      <td>17.683 (038)</td>\n",
       "      <td>KAIT</td>\n",
       "      <td>NaN</td>\n",
       "    </tr>\n",
       "    <tr>\n",
       "      <th>7</th>\n",
       "      <td>2454786.80</td>\n",
       "      <td>18.415 (030)</td>\n",
       "      <td>17.710 (030)</td>\n",
       "      <td>17.544 (030)</td>\n",
       "      <td>17.358 (030)</td>\n",
       "      <td>sdotsdotsdot</td>\n",
       "      <td>Nickel</td>\n",
       "      <td>NaN</td>\n",
       "    </tr>\n",
       "    <tr>\n",
       "      <th>8</th>\n",
       "      <td>2454787.67</td>\n",
       "      <td>18.596 (030)</td>\n",
       "      <td>17.762 (030)</td>\n",
       "      <td>17.552 (030)</td>\n",
       "      <td>17.376 (030)</td>\n",
       "      <td>sdotsdotsdot</td>\n",
       "      <td>KAIT</td>\n",
       "      <td>NaN</td>\n",
       "    </tr>\n",
       "    <tr>\n",
       "      <th>9</th>\n",
       "      <td>2454789.68</td>\n",
       "      <td>18.904 (030)</td>\n",
       "      <td>17.827 (014)</td>\n",
       "      <td>17.573 (011)</td>\n",
       "      <td>17.353 (030)</td>\n",
       "      <td>17.732 (028)</td>\n",
       "      <td>KAIT</td>\n",
       "      <td>NaN</td>\n",
       "    </tr>\n",
       "    <tr>\n",
       "      <th>10</th>\n",
       "      <td>2454790.71</td>\n",
       "      <td>18.969 (030)</td>\n",
       "      <td>17.871 (030)</td>\n",
       "      <td>17.560 (030)</td>\n",
       "      <td>17.278 (030)</td>\n",
       "      <td>sdotsdotsdot</td>\n",
       "      <td>Nickel</td>\n",
       "      <td>NaN</td>\n",
       "    </tr>\n",
       "    <tr>\n",
       "      <th>11</th>\n",
       "      <td>2454792.70</td>\n",
       "      <td>19.563 (054)</td>\n",
       "      <td>18.127 (022)</td>\n",
       "      <td>17.689 (016)</td>\n",
       "      <td>17.443 (030)</td>\n",
       "      <td>sdotsdotsdot</td>\n",
       "      <td>KAIT</td>\n",
       "      <td>NaN</td>\n",
       "    </tr>\n",
       "    <tr>\n",
       "      <th>12</th>\n",
       "      <td>2454794.68</td>\n",
       "      <td>19.789 (072)</td>\n",
       "      <td>18.377 (032)</td>\n",
       "      <td>17.904 (025)</td>\n",
       "      <td>17.541 (037)</td>\n",
       "      <td>sdotsdotsdot</td>\n",
       "      <td>KAIT</td>\n",
       "      <td>NaN</td>\n",
       "    </tr>\n",
       "    <tr>\n",
       "      <th>13</th>\n",
       "      <td>2454795.78</td>\n",
       "      <td>20.297 (216)</td>\n",
       "      <td>sdotsdotsdot</td>\n",
       "      <td>sdotsdotsdot</td>\n",
       "      <td>sdotsdotsdot</td>\n",
       "      <td>18.009 (103)</td>\n",
       "      <td>KAIT</td>\n",
       "      <td>NaN</td>\n",
       "    </tr>\n",
       "    <tr>\n",
       "      <th>14</th>\n",
       "      <td>2454798.65</td>\n",
       "      <td>20.390 (123)</td>\n",
       "      <td>18.791 (033)</td>\n",
       "      <td>18.308 (022)</td>\n",
       "      <td>17.876 (039)</td>\n",
       "      <td>18.388 (022)</td>\n",
       "      <td>KAIT</td>\n",
       "      <td>NaN</td>\n",
       "    </tr>\n",
       "    <tr>\n",
       "      <th>15</th>\n",
       "      <td>2454799.66</td>\n",
       "      <td>sdotsdotsdot</td>\n",
       "      <td>18.921 (046)</td>\n",
       "      <td>18.343 (029)</td>\n",
       "      <td>17.919 (050)</td>\n",
       "      <td>18.468 (040)</td>\n",
       "      <td>KAIT</td>\n",
       "      <td>NaN</td>\n",
       "    </tr>\n",
       "    <tr>\n",
       "      <th>16</th>\n",
       "      <td>2454800.67</td>\n",
       "      <td>sdotsdotsdot</td>\n",
       "      <td>18.942 (035)</td>\n",
       "      <td>18.347 (029)</td>\n",
       "      <td>17.892 (033)</td>\n",
       "      <td>18.482 (027)</td>\n",
       "      <td>KAIT</td>\n",
       "      <td>NaN</td>\n",
       "    </tr>\n",
       "    <tr>\n",
       "      <th>17</th>\n",
       "      <td>2454801.64</td>\n",
       "      <td>sdotsdotsdot</td>\n",
       "      <td>19.004 (044)</td>\n",
       "      <td>18.438 (026)</td>\n",
       "      <td>17.964 (036)</td>\n",
       "      <td>18.589 (031)</td>\n",
       "      <td>KAIT</td>\n",
       "      <td>NaN</td>\n",
       "    </tr>\n",
       "    <tr>\n",
       "      <th>18</th>\n",
       "      <td>2454802.74</td>\n",
       "      <td>sdotsdotsdot</td>\n",
       "      <td>19.064 (082)</td>\n",
       "      <td>18.472 (037)</td>\n",
       "      <td>17.921 (030)</td>\n",
       "      <td>18.635 (026)</td>\n",
       "      <td>KAIT</td>\n",
       "      <td>NaN</td>\n",
       "    </tr>\n",
       "    <tr>\n",
       "      <th>19</th>\n",
       "      <td>2454803.63</td>\n",
       "      <td>sdotsdotsdot</td>\n",
       "      <td>19.130 (054)</td>\n",
       "      <td>18.569 (031)</td>\n",
       "      <td>18.087 (047)</td>\n",
       "      <td>18.589 (030)</td>\n",
       "      <td>KAIT</td>\n",
       "      <td>NaN</td>\n",
       "    </tr>\n",
       "    <tr>\n",
       "      <th>20</th>\n",
       "      <td>2454805.63</td>\n",
       "      <td>sdotsdotsdot</td>\n",
       "      <td>19.211 (095)</td>\n",
       "      <td>18.851 (055)</td>\n",
       "      <td>18.142 (056)</td>\n",
       "      <td>18.682 (048)</td>\n",
       "      <td>KAIT</td>\n",
       "      <td>NaN</td>\n",
       "    </tr>\n",
       "    <tr>\n",
       "      <th>21</th>\n",
       "      <td>2454809.67</td>\n",
       "      <td>sdotsdotsdot</td>\n",
       "      <td>19.288 (206)</td>\n",
       "      <td>19.104 (135)</td>\n",
       "      <td>sdotsdotsdot</td>\n",
       "      <td>18.909 (078)</td>\n",
       "      <td>KAIT</td>\n",
       "      <td>NaN</td>\n",
       "    </tr>\n",
       "    <tr>\n",
       "      <th>22</th>\n",
       "      <td>2454811.61</td>\n",
       "      <td>sdotsdotsdot</td>\n",
       "      <td>19.462 (103)</td>\n",
       "      <td>19.069 (073)</td>\n",
       "      <td>18.374 (067)</td>\n",
       "      <td>19.150 (060)</td>\n",
       "      <td>KAIT</td>\n",
       "      <td>NaN</td>\n",
       "    </tr>\n",
       "    <tr>\n",
       "      <th>23</th>\n",
       "      <td>2454812.62</td>\n",
       "      <td>sdotsdotsdot</td>\n",
       "      <td>19.458 (207)</td>\n",
       "      <td>19.118 (065)</td>\n",
       "      <td>18.482 (077)</td>\n",
       "      <td>19.070 (049)</td>\n",
       "      <td>KAIT</td>\n",
       "      <td>NaN</td>\n",
       "    </tr>\n",
       "    <tr>\n",
       "      <th>24</th>\n",
       "      <td>2454831.63</td>\n",
       "      <td>21.372 (030)</td>\n",
       "      <td>20.191 (030)</td>\n",
       "      <td>19.647 (030)</td>\n",
       "      <td>18.864 (030)</td>\n",
       "      <td>sdotsdotsdot</td>\n",
       "      <td>Nickel</td>\n",
       "      <td>NaN</td>\n",
       "    </tr>\n",
       "  </tbody>\n",
       "</table>\n",
       "</div>"
      ],
      "text/plain": [
       "            JD         B (mag)         V (mag)         R (mag)  \\\n",
       "0   2454764.80   sdotsdotsdot    sdotsdotsdot    sdotsdotsdot    \n",
       "1   2454778.69   sdotsdotsdot    sdotsdotsdot    sdotsdotsdot    \n",
       "2   2454781.76    18.340 (084)    17.828 (037)   sdotsdotsdot    \n",
       "3   2454783.74    18.229 (062)    17.718 (042)    17.509 (041)   \n",
       "4   2454784.64   sdotsdotsdot    sdotsdotsdot    sdotsdotsdot    \n",
       "5   2454784.71    18.230 (030)    17.635 (030)    17.570 (030)   \n",
       "6   2454785.67    18.385 (030)    17.660 (027)    17.610 (023)   \n",
       "7   2454786.80    18.415 (030)    17.710 (030)    17.544 (030)   \n",
       "8   2454787.67    18.596 (030)    17.762 (030)    17.552 (030)   \n",
       "9   2454789.68    18.904 (030)    17.827 (014)    17.573 (011)   \n",
       "10  2454790.71    18.969 (030)    17.871 (030)    17.560 (030)   \n",
       "11  2454792.70    19.563 (054)    18.127 (022)    17.689 (016)   \n",
       "12  2454794.68    19.789 (072)    18.377 (032)    17.904 (025)   \n",
       "13  2454795.78    20.297 (216)   sdotsdotsdot    sdotsdotsdot    \n",
       "14  2454798.65    20.390 (123)    18.791 (033)    18.308 (022)   \n",
       "15  2454799.66   sdotsdotsdot     18.921 (046)    18.343 (029)   \n",
       "16  2454800.67   sdotsdotsdot     18.942 (035)    18.347 (029)   \n",
       "17  2454801.64   sdotsdotsdot     19.004 (044)    18.438 (026)   \n",
       "18  2454802.74   sdotsdotsdot     19.064 (082)    18.472 (037)   \n",
       "19  2454803.63   sdotsdotsdot     19.130 (054)    18.569 (031)   \n",
       "20  2454805.63   sdotsdotsdot     19.211 (095)    18.851 (055)   \n",
       "21  2454809.67   sdotsdotsdot     19.288 (206)    19.104 (135)   \n",
       "22  2454811.61   sdotsdotsdot     19.462 (103)    19.069 (073)   \n",
       "23  2454812.62   sdotsdotsdot     19.458 (207)    19.118 (065)   \n",
       "24  2454831.63    21.372 (030)    20.191 (030)    19.647 (030)   \n",
       "\n",
       "           I (mag) Unfiltered (mag) Telescope  Unnamed: 7  \n",
       "0    sdotsdotsdot             >19.5      KAIT         NaN  \n",
       "1    sdotsdotsdot      18.069 (092)      KAIT         NaN  \n",
       "2    sdotsdotsdot     sdotsdotsdot       KAIT         NaN  \n",
       "3     17.377 (054)    sdotsdotsdot       KAIT         NaN  \n",
       "4    sdotsdotsdot      17.736 (091)      KAIT         NaN  \n",
       "5     17.392 (030)    sdotsdotsdot     Nickel         NaN  \n",
       "6     17.425 (034)     17.683 (038)      KAIT         NaN  \n",
       "7     17.358 (030)    sdotsdotsdot     Nickel         NaN  \n",
       "8     17.376 (030)    sdotsdotsdot       KAIT         NaN  \n",
       "9     17.353 (030)     17.732 (028)      KAIT         NaN  \n",
       "10    17.278 (030)    sdotsdotsdot     Nickel         NaN  \n",
       "11    17.443 (030)    sdotsdotsdot       KAIT         NaN  \n",
       "12    17.541 (037)    sdotsdotsdot       KAIT         NaN  \n",
       "13   sdotsdotsdot      18.009 (103)      KAIT         NaN  \n",
       "14    17.876 (039)     18.388 (022)      KAIT         NaN  \n",
       "15    17.919 (050)     18.468 (040)      KAIT         NaN  \n",
       "16    17.892 (033)     18.482 (027)      KAIT         NaN  \n",
       "17    17.964 (036)     18.589 (031)      KAIT         NaN  \n",
       "18    17.921 (030)     18.635 (026)      KAIT         NaN  \n",
       "19    18.087 (047)     18.589 (030)      KAIT         NaN  \n",
       "20    18.142 (056)     18.682 (048)      KAIT         NaN  \n",
       "21   sdotsdotsdot      18.909 (078)      KAIT         NaN  \n",
       "22    18.374 (067)     19.150 (060)      KAIT         NaN  \n",
       "23    18.482 (077)     19.070 (049)      KAIT         NaN  \n",
       "24    18.864 (030)    sdotsdotsdot     Nickel         NaN  "
      ]
     },
     "execution_count": 132,
     "metadata": {},
     "output_type": "execute_result"
    }
   ],
   "source": [
    "# read in the data from Foley et al 2009\n",
    "foley_table_pd = pd.read_csv('dsfp_wrangling/Foley_et_al2009_table2.txt', skiprows=[0, 1, 2, 30, 31], delimiter='\\t') # read in the data from Miller et al 2011\n",
    "foley_table_pd"
   ]
  },
  {
   "cell_type": "code",
   "execution_count": 140,
   "metadata": {},
   "outputs": [
    {
     "ename": "InconsistentTableError",
     "evalue": "\nERROR: Unable to guess table format with the guesses listed below:\nReader:FastTab fast_reader: {'enable': True} fill_values: [('', '0')]\nReader:Tab fast_reader: {'enable': True} fill_values: [('', '0')]\nReader:Tab fast_reader: {'enable': True} fill_values: [('', '0')]\n\n************************************************************************\n** ERROR: Unable to guess table format with the guesses listed above. **\n**                                                                    **\n** To figure out why the table did not read, use guess=False and      **\n** fast_reader=False, along with any appropriate arguments to read(). **\n** In particular specify the format and any known attributes like the **\n** delimiter.                                                         **\n************************************************************************",
     "output_type": "error",
     "traceback": [
      "\u001b[0;31m---------------------------------------------------------------------------\u001b[0m",
      "\u001b[0;31mInconsistentTableError\u001b[0m                    Traceback (most recent call last)",
      "File \u001b[0;32m~/miniforge3/envs/dsfp/lib/python3.9/site-packages/astropy/io/ascii/ui.py:542\u001b[0m, in \u001b[0;36m_guess\u001b[0;34m(table, read_kwargs, format, fast_reader)\u001b[0m\n\u001b[1;32m    541\u001b[0m reader \u001b[38;5;241m=\u001b[39m get_reader(\u001b[38;5;241m*\u001b[39m\u001b[38;5;241m*\u001b[39mread_kwargs)\n\u001b[0;32m--> 542\u001b[0m dat \u001b[38;5;241m=\u001b[39m \u001b[43mreader\u001b[49m\u001b[38;5;241;43m.\u001b[39;49m\u001b[43mread\u001b[49m\u001b[43m(\u001b[49m\u001b[43mtable\u001b[49m\u001b[43m)\u001b[49m\n\u001b[1;32m    543\u001b[0m _read_trace\u001b[38;5;241m.\u001b[39mappend({\u001b[38;5;124m'\u001b[39m\u001b[38;5;124mkwargs\u001b[39m\u001b[38;5;124m'\u001b[39m: copy\u001b[38;5;241m.\u001b[39mdeepcopy(read_kwargs),\n\u001b[1;32m    544\u001b[0m                     \u001b[38;5;124m'\u001b[39m\u001b[38;5;124mReader\u001b[39m\u001b[38;5;124m'\u001b[39m: reader\u001b[38;5;241m.\u001b[39m\u001b[38;5;18m__class__\u001b[39m,\n\u001b[1;32m    545\u001b[0m                     \u001b[38;5;124m'\u001b[39m\u001b[38;5;124mstatus\u001b[39m\u001b[38;5;124m'\u001b[39m: \u001b[38;5;124m'\u001b[39m\u001b[38;5;124mSuccess with original kwargs without strict_names \u001b[39m\u001b[38;5;124m'\u001b[39m\n\u001b[1;32m    546\u001b[0m                               \u001b[38;5;124m'\u001b[39m\u001b[38;5;124m(guessing)\u001b[39m\u001b[38;5;124m'\u001b[39m})\n",
      "File \u001b[0;32m~/miniforge3/envs/dsfp/lib/python3.9/site-packages/astropy/io/ascii/core.py:1391\u001b[0m, in \u001b[0;36mBaseReader.read\u001b[0;34m(self, table)\u001b[0m\n\u001b[1;32m   1384\u001b[0m         errmsg \u001b[38;5;241m=\u001b[39m (\u001b[38;5;124m'\u001b[39m\u001b[38;5;124mNumber of header columns (\u001b[39m\u001b[38;5;132;01m{}\u001b[39;00m\u001b[38;5;124m) inconsistent with\u001b[39m\u001b[38;5;124m'\u001b[39m\n\u001b[1;32m   1385\u001b[0m                   \u001b[38;5;124m'\u001b[39m\u001b[38;5;124m data columns (\u001b[39m\u001b[38;5;132;01m{}\u001b[39;00m\u001b[38;5;124m) at data line \u001b[39m\u001b[38;5;132;01m{}\u001b[39;00m\u001b[38;5;130;01m\\n\u001b[39;00m\u001b[38;5;124m'\u001b[39m\n\u001b[1;32m   1386\u001b[0m                   \u001b[38;5;124m'\u001b[39m\u001b[38;5;124mHeader values: \u001b[39m\u001b[38;5;132;01m{}\u001b[39;00m\u001b[38;5;130;01m\\n\u001b[39;00m\u001b[38;5;124m'\u001b[39m\n\u001b[1;32m   1387\u001b[0m                   \u001b[38;5;124m'\u001b[39m\u001b[38;5;124mData values: \u001b[39m\u001b[38;5;132;01m{}\u001b[39;00m\u001b[38;5;124m'\u001b[39m\u001b[38;5;241m.\u001b[39mformat(\n\u001b[1;32m   1388\u001b[0m                       n_cols, \u001b[38;5;28mlen\u001b[39m(str_vals), i,\n\u001b[1;32m   1389\u001b[0m                       [x\u001b[38;5;241m.\u001b[39mname \u001b[38;5;28;01mfor\u001b[39;00m x \u001b[38;5;129;01min\u001b[39;00m cols], str_vals))\n\u001b[0;32m-> 1391\u001b[0m         \u001b[38;5;28;01mraise\u001b[39;00m InconsistentTableError(errmsg)\n\u001b[1;32m   1393\u001b[0m \u001b[38;5;28;01mfor\u001b[39;00m j, col \u001b[38;5;129;01min\u001b[39;00m \u001b[38;5;28menumerate\u001b[39m(cols):\n",
      "\u001b[0;31mInconsistentTableError\u001b[0m: Number of header columns (1) inconsistent with data columns (8) at data line 1\nHeader values: ['Table 2']\nData values: ['JD', 'B (mag)', 'V (mag)', 'R (mag)', 'I (mag)', 'Unfiltered (mag)', 'Telescope', '']",
      "\nDuring handling of the above exception, another exception occurred:\n",
      "\u001b[0;31mInconsistentTableError\u001b[0m                    Traceback (most recent call last)",
      "Input \u001b[0;32mIn [140]\u001b[0m, in \u001b[0;36m<cell line: 1>\u001b[0;34m()\u001b[0m\n\u001b[0;32m----> 1\u001b[0m foley_table_astroy \u001b[38;5;241m=\u001b[39m \u001b[43mTable\u001b[49m\u001b[38;5;241;43m.\u001b[39;49m\u001b[43mread\u001b[49m\u001b[43m(\u001b[49m\u001b[38;5;124;43m'\u001b[39;49m\u001b[38;5;124;43mdsfp_wrangling/Foley_et_al2009_table2.txt\u001b[39;49m\u001b[38;5;124;43m'\u001b[39;49m\u001b[43m,\u001b[49m\u001b[43m \u001b[49m\u001b[38;5;28;43mformat\u001b[39;49m\u001b[38;5;241;43m=\u001b[39;49m\u001b[38;5;124;43m'\u001b[39;49m\u001b[38;5;124;43mascii.tab\u001b[39;49m\u001b[38;5;124;43m'\u001b[39;49m\u001b[43m)\u001b[49m \u001b[38;5;66;03m# read in the data from Miller et al 2011\u001b[39;00m\n\u001b[1;32m      2\u001b[0m foley_table_astroy\n",
      "File \u001b[0;32m~/miniforge3/envs/dsfp/lib/python3.9/site-packages/astropy/table/connect.py:62\u001b[0m, in \u001b[0;36mTableRead.__call__\u001b[0;34m(self, *args, **kwargs)\u001b[0m\n\u001b[1;32m     59\u001b[0m units \u001b[38;5;241m=\u001b[39m kwargs\u001b[38;5;241m.\u001b[39mpop(\u001b[38;5;124m'\u001b[39m\u001b[38;5;124munits\u001b[39m\u001b[38;5;124m'\u001b[39m, \u001b[38;5;28;01mNone\u001b[39;00m)\n\u001b[1;32m     60\u001b[0m descriptions \u001b[38;5;241m=\u001b[39m kwargs\u001b[38;5;241m.\u001b[39mpop(\u001b[38;5;124m'\u001b[39m\u001b[38;5;124mdescriptions\u001b[39m\u001b[38;5;124m'\u001b[39m, \u001b[38;5;28;01mNone\u001b[39;00m)\n\u001b[0;32m---> 62\u001b[0m out \u001b[38;5;241m=\u001b[39m \u001b[38;5;28;43mself\u001b[39;49m\u001b[38;5;241;43m.\u001b[39;49m\u001b[43mregistry\u001b[49m\u001b[38;5;241;43m.\u001b[39;49m\u001b[43mread\u001b[49m\u001b[43m(\u001b[49m\u001b[38;5;28;43mcls\u001b[39;49m\u001b[43m,\u001b[49m\u001b[43m \u001b[49m\u001b[38;5;241;43m*\u001b[39;49m\u001b[43margs\u001b[49m\u001b[43m,\u001b[49m\u001b[43m \u001b[49m\u001b[38;5;241;43m*\u001b[39;49m\u001b[38;5;241;43m*\u001b[39;49m\u001b[43mkwargs\u001b[49m\u001b[43m)\u001b[49m\n\u001b[1;32m     64\u001b[0m \u001b[38;5;66;03m# For some readers (e.g., ascii.ecsv), the returned `out` class is not\u001b[39;00m\n\u001b[1;32m     65\u001b[0m \u001b[38;5;66;03m# guaranteed to be the same as the desired output `cls`.  If so,\u001b[39;00m\n\u001b[1;32m     66\u001b[0m \u001b[38;5;66;03m# try coercing to desired class without copying (io.registry.read\u001b[39;00m\n\u001b[1;32m     67\u001b[0m \u001b[38;5;66;03m# would normally do a copy).  The normal case here is swapping\u001b[39;00m\n\u001b[1;32m     68\u001b[0m \u001b[38;5;66;03m# Table <=> QTable.\u001b[39;00m\n\u001b[1;32m     69\u001b[0m \u001b[38;5;28;01mif\u001b[39;00m \u001b[38;5;28mcls\u001b[39m \u001b[38;5;129;01mis\u001b[39;00m \u001b[38;5;129;01mnot\u001b[39;00m out\u001b[38;5;241m.\u001b[39m\u001b[38;5;18m__class__\u001b[39m:\n",
      "File \u001b[0;32m~/miniforge3/envs/dsfp/lib/python3.9/site-packages/astropy/io/registry/core.py:212\u001b[0m, in \u001b[0;36mUnifiedInputRegistry.read\u001b[0;34m(self, cls, format, cache, *args, **kwargs)\u001b[0m\n\u001b[1;32m    208\u001b[0m     \u001b[38;5;28mformat\u001b[39m \u001b[38;5;241m=\u001b[39m \u001b[38;5;28mself\u001b[39m\u001b[38;5;241m.\u001b[39m_get_valid_format(\n\u001b[1;32m    209\u001b[0m         \u001b[38;5;124m'\u001b[39m\u001b[38;5;124mread\u001b[39m\u001b[38;5;124m'\u001b[39m, \u001b[38;5;28mcls\u001b[39m, path, fileobj, args, kwargs)\n\u001b[1;32m    211\u001b[0m reader \u001b[38;5;241m=\u001b[39m \u001b[38;5;28mself\u001b[39m\u001b[38;5;241m.\u001b[39mget_reader(\u001b[38;5;28mformat\u001b[39m, \u001b[38;5;28mcls\u001b[39m)\n\u001b[0;32m--> 212\u001b[0m data \u001b[38;5;241m=\u001b[39m \u001b[43mreader\u001b[49m\u001b[43m(\u001b[49m\u001b[38;5;241;43m*\u001b[39;49m\u001b[43margs\u001b[49m\u001b[43m,\u001b[49m\u001b[43m \u001b[49m\u001b[38;5;241;43m*\u001b[39;49m\u001b[38;5;241;43m*\u001b[39;49m\u001b[43mkwargs\u001b[49m\u001b[43m)\u001b[49m\n\u001b[1;32m    214\u001b[0m \u001b[38;5;28;01mif\u001b[39;00m \u001b[38;5;129;01mnot\u001b[39;00m \u001b[38;5;28misinstance\u001b[39m(data, \u001b[38;5;28mcls\u001b[39m):\n\u001b[1;32m    215\u001b[0m     \u001b[38;5;66;03m# User has read with a subclass where only the parent class is\u001b[39;00m\n\u001b[1;32m    216\u001b[0m     \u001b[38;5;66;03m# registered.  This returns the parent class, so try coercing\u001b[39;00m\n\u001b[1;32m    217\u001b[0m     \u001b[38;5;66;03m# to desired subclass.\u001b[39;00m\n\u001b[1;32m    218\u001b[0m     \u001b[38;5;28;01mtry\u001b[39;00m:\n",
      "File \u001b[0;32m~/miniforge3/envs/dsfp/lib/python3.9/site-packages/astropy/io/ascii/connect.py:18\u001b[0m, in \u001b[0;36mio_read\u001b[0;34m(format, filename, **kwargs)\u001b[0m\n\u001b[1;32m     16\u001b[0m     \u001b[38;5;28mformat\u001b[39m \u001b[38;5;241m=\u001b[39m re\u001b[38;5;241m.\u001b[39msub(\u001b[38;5;124mr\u001b[39m\u001b[38;5;124m'\u001b[39m\u001b[38;5;124m^ascii\u001b[39m\u001b[38;5;124m\\\u001b[39m\u001b[38;5;124m.\u001b[39m\u001b[38;5;124m'\u001b[39m, \u001b[38;5;124m'\u001b[39m\u001b[38;5;124m'\u001b[39m, \u001b[38;5;28mformat\u001b[39m)\n\u001b[1;32m     17\u001b[0m     kwargs[\u001b[38;5;124m'\u001b[39m\u001b[38;5;124mformat\u001b[39m\u001b[38;5;124m'\u001b[39m] \u001b[38;5;241m=\u001b[39m \u001b[38;5;28mformat\u001b[39m\n\u001b[0;32m---> 18\u001b[0m \u001b[38;5;28;01mreturn\u001b[39;00m \u001b[43mread\u001b[49m\u001b[43m(\u001b[49m\u001b[43mfilename\u001b[49m\u001b[43m,\u001b[49m\u001b[43m \u001b[49m\u001b[38;5;241;43m*\u001b[39;49m\u001b[38;5;241;43m*\u001b[39;49m\u001b[43mkwargs\u001b[49m\u001b[43m)\u001b[49m\n",
      "File \u001b[0;32m~/miniforge3/envs/dsfp/lib/python3.9/site-packages/astropy/io/ascii/ui.py:359\u001b[0m, in \u001b[0;36mread\u001b[0;34m(table, guess, **kwargs)\u001b[0m\n\u001b[1;32m    353\u001b[0m             new_kwargs[\u001b[38;5;124m'\u001b[39m\u001b[38;5;124mguess_html\u001b[39m\u001b[38;5;124m'\u001b[39m] \u001b[38;5;241m=\u001b[39m _probably_html(table)\n\u001b[1;32m    355\u001b[0m \u001b[38;5;66;03m# Get the table from guess in ``dat``.  If ``dat`` comes back as None\u001b[39;00m\n\u001b[1;32m    356\u001b[0m \u001b[38;5;66;03m# then there was just one set of kwargs in the guess list so fall\u001b[39;00m\n\u001b[1;32m    357\u001b[0m \u001b[38;5;66;03m# through below to the non-guess way so that any problems result in a\u001b[39;00m\n\u001b[1;32m    358\u001b[0m \u001b[38;5;66;03m# more useful traceback.\u001b[39;00m\n\u001b[0;32m--> 359\u001b[0m dat \u001b[38;5;241m=\u001b[39m \u001b[43m_guess\u001b[49m\u001b[43m(\u001b[49m\u001b[43mtable\u001b[49m\u001b[43m,\u001b[49m\u001b[43m \u001b[49m\u001b[43mnew_kwargs\u001b[49m\u001b[43m,\u001b[49m\u001b[43m \u001b[49m\u001b[38;5;28;43mformat\u001b[39;49m\u001b[43m,\u001b[49m\u001b[43m \u001b[49m\u001b[43mfast_reader\u001b[49m\u001b[43m)\u001b[49m\n\u001b[1;32m    360\u001b[0m \u001b[38;5;28;01mif\u001b[39;00m dat \u001b[38;5;129;01mis\u001b[39;00m \u001b[38;5;28;01mNone\u001b[39;00m:\n\u001b[1;32m    361\u001b[0m     guess \u001b[38;5;241m=\u001b[39m \u001b[38;5;28;01mFalse\u001b[39;00m\n",
      "File \u001b[0;32m~/miniforge3/envs/dsfp/lib/python3.9/site-packages/astropy/io/ascii/ui.py:573\u001b[0m, in \u001b[0;36m_guess\u001b[0;34m(table, read_kwargs, format, fast_reader)\u001b[0m\n\u001b[1;32m    563\u001b[0m msg \u001b[38;5;241m=\u001b[39m [\u001b[38;5;124m'\u001b[39m\u001b[38;5;124m'\u001b[39m,\n\u001b[1;32m    564\u001b[0m        \u001b[38;5;124m'\u001b[39m\u001b[38;5;124m************************************************************************\u001b[39m\u001b[38;5;124m'\u001b[39m,\n\u001b[1;32m    565\u001b[0m        \u001b[38;5;124m'\u001b[39m\u001b[38;5;124m** ERROR: Unable to guess table format with the guesses listed above. **\u001b[39m\u001b[38;5;124m'\u001b[39m,\n\u001b[0;32m   (...)\u001b[0m\n\u001b[1;32m    570\u001b[0m        \u001b[38;5;124m'\u001b[39m\u001b[38;5;124m** delimiter.                                                         **\u001b[39m\u001b[38;5;124m'\u001b[39m,\n\u001b[1;32m    571\u001b[0m        \u001b[38;5;124m'\u001b[39m\u001b[38;5;124m************************************************************************\u001b[39m\u001b[38;5;124m'\u001b[39m]\n\u001b[1;32m    572\u001b[0m lines\u001b[38;5;241m.\u001b[39mextend(msg)\n\u001b[0;32m--> 573\u001b[0m \u001b[38;5;28;01mraise\u001b[39;00m core\u001b[38;5;241m.\u001b[39mInconsistentTableError(\u001b[38;5;124m'\u001b[39m\u001b[38;5;130;01m\\n\u001b[39;00m\u001b[38;5;124m'\u001b[39m\u001b[38;5;241m.\u001b[39mjoin(lines))\n",
      "\u001b[0;31mInconsistentTableError\u001b[0m: \nERROR: Unable to guess table format with the guesses listed below:\nReader:FastTab fast_reader: {'enable': True} fill_values: [('', '0')]\nReader:Tab fast_reader: {'enable': True} fill_values: [('', '0')]\nReader:Tab fast_reader: {'enable': True} fill_values: [('', '0')]\n\n************************************************************************\n** ERROR: Unable to guess table format with the guesses listed above. **\n**                                                                    **\n** To figure out why the table did not read, use guess=False and      **\n** fast_reader=False, along with any appropriate arguments to read(). **\n** In particular specify the format and any known attributes like the **\n** delimiter.                                                         **\n************************************************************************"
     ]
    }
   ],
   "source": [
    "foley_table_astroy = Table.read('dsfp_wrangling/Foley_et_al2009_table2.txt', remove,format='ascii.tab') # read in the data from Miller et al 2011\n",
    "foley_table_astroy"
   ]
  },
  {
   "cell_type": "markdown",
   "metadata": {
    "slideshow": {
     "slide_type": "subslide"
    }
   },
   "source": [
    "Okay - there is nothing elegant about that particular solution. But it works, and wranglin' ain't pretty. \n",
    "\n",
    "It is likely that you developed a solution that looks very different from this one, and that is fine. When data are provided in an unrulely format, the most important thing is to develop some method, any method, for converting the information into a useful format. Following whatever path you used above, it should now be easy to plot the light curve of SN 2008ha."
   ]
  },
  {
   "cell_type": "markdown",
   "metadata": {
    "slideshow": {
     "slide_type": "slide"
    }
   },
   "source": [
    "## Problem 3) My Heart Will Go On\n",
    "\n",
    "Sometimes there is no difficultly whatsoever in reading in the data (as was the case in **Problems 1** and **2**), but instead the difficultly lies in wranglin' the data to be appropriate for the model that you are building.\n",
    "\n",
    "For the next problem we will work with the famous [Titanic survival](https://www.kaggle.com/c/titanic/data?) data set. "
   ]
  },
  {
   "cell_type": "markdown",
   "metadata": {
    "slideshow": {
     "slide_type": "subslide"
    }
   },
   "source": [
    "Briefly, [the Titantic](https://thefilmcricket.files.wordpress.com/2012/04/film-titanic_clar.jpg) is a [famous](https://wallpapercave.com/wp/jrF8rQK.jpg) historical ship that was thought to be unsinkable. **Spoiler alert** it hit an iceberg and sank. The data in the Titanic data set includes information about 891 passengers from the Titanic, as well as whether or not they survived. The aim of this data set is to build a machine learning model to predict which passengers survived and which did not."
   ]
  },
  {
   "cell_type": "markdown",
   "metadata": {
    "slideshow": {
     "slide_type": "subslide"
    }
   },
   "source": [
    "The features include: \n",
    "\n",
    "|Feature    | Description |\n",
    "|:---------:|:--------------------------------------:|\n",
    "|PassengerId| Running index that describes the individual passengers|\n",
    "|Pclass| A proxy for socio-economic status (1 = Upper class, 2 = Middle Class, 3 = Lower Class)|\n",
    "|Name| The passenger's name|\n",
    "|Sex | The passenger's sex|\n",
    "|Age | The passenger's age - note age's ending in 0.5 are estimated |\n",
    "|SibSp| The sum of the passenger's sibblings and spouces on board|\n",
    "|Parch| The sum of the passenger's parents and children on board|\n",
    "|Ticket| The ticket number for the passenger|\n",
    "|Fare| The price paid for the ticket by th passenger|\n",
    "|Cabin| The Cabin in which the passenger stayed|\n",
    "|Embarked| The point of Origin for the Passenger: C = Cherbourg, S = Southampton, Q = Queenstown|"
   ]
  },
  {
   "cell_type": "markdown",
   "metadata": {
    "slideshow": {
     "slide_type": "subslide"
    }
   },
   "source": [
    "And of course, we are trying to predict:\n",
    "\n",
    "|Label    | Description |\n",
    "|:---------:|:--------------------------------------:|\n",
    "|Survived| 1 = yes; 0 = no|\n"
   ]
  },
  {
   "cell_type": "markdown",
   "metadata": {
    "slideshow": {
     "slide_type": "slide"
    }
   },
   "source": [
    "**Problem 3a**\n",
    "\n",
    "Read in the Titanic training data and create the `scikit-learn` standard `X` and `y` arrays to hold the features and the labels, respectively."
   ]
  },
  {
   "cell_type": "code",
   "execution_count": 141,
   "metadata": {
    "scrolled": false,
    "slideshow": {
     "slide_type": "slide"
    }
   },
   "outputs": [
    {
     "data": {
      "text/html": [
       "<div>\n",
       "<style scoped>\n",
       "    .dataframe tbody tr th:only-of-type {\n",
       "        vertical-align: middle;\n",
       "    }\n",
       "\n",
       "    .dataframe tbody tr th {\n",
       "        vertical-align: top;\n",
       "    }\n",
       "\n",
       "    .dataframe thead th {\n",
       "        text-align: right;\n",
       "    }\n",
       "</style>\n",
       "<table border=\"1\" class=\"dataframe\">\n",
       "  <thead>\n",
       "    <tr style=\"text-align: right;\">\n",
       "      <th></th>\n",
       "      <th>PassengerId</th>\n",
       "      <th>Survived</th>\n",
       "      <th>Pclass</th>\n",
       "      <th>Name</th>\n",
       "      <th>Sex</th>\n",
       "      <th>Age</th>\n",
       "      <th>SibSp</th>\n",
       "      <th>Parch</th>\n",
       "      <th>Ticket</th>\n",
       "      <th>Fare</th>\n",
       "      <th>Cabin</th>\n",
       "      <th>Embarked</th>\n",
       "    </tr>\n",
       "  </thead>\n",
       "  <tbody>\n",
       "    <tr>\n",
       "      <th>0</th>\n",
       "      <td>1</td>\n",
       "      <td>0</td>\n",
       "      <td>3</td>\n",
       "      <td>Braund, Mr. Owen Harris</td>\n",
       "      <td>male</td>\n",
       "      <td>22.0</td>\n",
       "      <td>1</td>\n",
       "      <td>0</td>\n",
       "      <td>A/5 21171</td>\n",
       "      <td>7.2500</td>\n",
       "      <td>NaN</td>\n",
       "      <td>S</td>\n",
       "    </tr>\n",
       "    <tr>\n",
       "      <th>1</th>\n",
       "      <td>2</td>\n",
       "      <td>1</td>\n",
       "      <td>1</td>\n",
       "      <td>Cumings, Mrs. John Bradley (Florence Briggs Th...</td>\n",
       "      <td>female</td>\n",
       "      <td>38.0</td>\n",
       "      <td>1</td>\n",
       "      <td>0</td>\n",
       "      <td>PC 17599</td>\n",
       "      <td>71.2833</td>\n",
       "      <td>C85</td>\n",
       "      <td>C</td>\n",
       "    </tr>\n",
       "    <tr>\n",
       "      <th>2</th>\n",
       "      <td>3</td>\n",
       "      <td>1</td>\n",
       "      <td>3</td>\n",
       "      <td>Heikkinen, Miss. Laina</td>\n",
       "      <td>female</td>\n",
       "      <td>26.0</td>\n",
       "      <td>0</td>\n",
       "      <td>0</td>\n",
       "      <td>STON/O2. 3101282</td>\n",
       "      <td>7.9250</td>\n",
       "      <td>NaN</td>\n",
       "      <td>S</td>\n",
       "    </tr>\n",
       "    <tr>\n",
       "      <th>3</th>\n",
       "      <td>4</td>\n",
       "      <td>1</td>\n",
       "      <td>1</td>\n",
       "      <td>Futrelle, Mrs. Jacques Heath (Lily May Peel)</td>\n",
       "      <td>female</td>\n",
       "      <td>35.0</td>\n",
       "      <td>1</td>\n",
       "      <td>0</td>\n",
       "      <td>113803</td>\n",
       "      <td>53.1000</td>\n",
       "      <td>C123</td>\n",
       "      <td>S</td>\n",
       "    </tr>\n",
       "    <tr>\n",
       "      <th>4</th>\n",
       "      <td>5</td>\n",
       "      <td>0</td>\n",
       "      <td>3</td>\n",
       "      <td>Allen, Mr. William Henry</td>\n",
       "      <td>male</td>\n",
       "      <td>35.0</td>\n",
       "      <td>0</td>\n",
       "      <td>0</td>\n",
       "      <td>373450</td>\n",
       "      <td>8.0500</td>\n",
       "      <td>NaN</td>\n",
       "      <td>S</td>\n",
       "    </tr>\n",
       "    <tr>\n",
       "      <th>...</th>\n",
       "      <td>...</td>\n",
       "      <td>...</td>\n",
       "      <td>...</td>\n",
       "      <td>...</td>\n",
       "      <td>...</td>\n",
       "      <td>...</td>\n",
       "      <td>...</td>\n",
       "      <td>...</td>\n",
       "      <td>...</td>\n",
       "      <td>...</td>\n",
       "      <td>...</td>\n",
       "      <td>...</td>\n",
       "    </tr>\n",
       "    <tr>\n",
       "      <th>886</th>\n",
       "      <td>887</td>\n",
       "      <td>0</td>\n",
       "      <td>2</td>\n",
       "      <td>Montvila, Rev. Juozas</td>\n",
       "      <td>male</td>\n",
       "      <td>27.0</td>\n",
       "      <td>0</td>\n",
       "      <td>0</td>\n",
       "      <td>211536</td>\n",
       "      <td>13.0000</td>\n",
       "      <td>NaN</td>\n",
       "      <td>S</td>\n",
       "    </tr>\n",
       "    <tr>\n",
       "      <th>887</th>\n",
       "      <td>888</td>\n",
       "      <td>1</td>\n",
       "      <td>1</td>\n",
       "      <td>Graham, Miss. Margaret Edith</td>\n",
       "      <td>female</td>\n",
       "      <td>19.0</td>\n",
       "      <td>0</td>\n",
       "      <td>0</td>\n",
       "      <td>112053</td>\n",
       "      <td>30.0000</td>\n",
       "      <td>B42</td>\n",
       "      <td>S</td>\n",
       "    </tr>\n",
       "    <tr>\n",
       "      <th>888</th>\n",
       "      <td>889</td>\n",
       "      <td>0</td>\n",
       "      <td>3</td>\n",
       "      <td>Johnston, Miss. Catherine Helen \"Carrie\"</td>\n",
       "      <td>female</td>\n",
       "      <td>NaN</td>\n",
       "      <td>1</td>\n",
       "      <td>2</td>\n",
       "      <td>W./C. 6607</td>\n",
       "      <td>23.4500</td>\n",
       "      <td>NaN</td>\n",
       "      <td>S</td>\n",
       "    </tr>\n",
       "    <tr>\n",
       "      <th>889</th>\n",
       "      <td>890</td>\n",
       "      <td>1</td>\n",
       "      <td>1</td>\n",
       "      <td>Behr, Mr. Karl Howell</td>\n",
       "      <td>male</td>\n",
       "      <td>26.0</td>\n",
       "      <td>0</td>\n",
       "      <td>0</td>\n",
       "      <td>111369</td>\n",
       "      <td>30.0000</td>\n",
       "      <td>C148</td>\n",
       "      <td>C</td>\n",
       "    </tr>\n",
       "    <tr>\n",
       "      <th>890</th>\n",
       "      <td>891</td>\n",
       "      <td>0</td>\n",
       "      <td>3</td>\n",
       "      <td>Dooley, Mr. Patrick</td>\n",
       "      <td>male</td>\n",
       "      <td>32.0</td>\n",
       "      <td>0</td>\n",
       "      <td>0</td>\n",
       "      <td>370376</td>\n",
       "      <td>7.7500</td>\n",
       "      <td>NaN</td>\n",
       "      <td>Q</td>\n",
       "    </tr>\n",
       "  </tbody>\n",
       "</table>\n",
       "<p>891 rows × 12 columns</p>\n",
       "</div>"
      ],
      "text/plain": [
       "    PassengerId  Survived  Pclass  \\\n",
       "0             1         0       3   \n",
       "1             2         1       1   \n",
       "2             3         1       3   \n",
       "3             4         1       1   \n",
       "4             5         0       3   \n",
       "..          ...       ...     ...   \n",
       "886         887         0       2   \n",
       "887         888         1       1   \n",
       "888         889         0       3   \n",
       "889         890         1       1   \n",
       "890         891         0       3   \n",
       "\n",
       "                                                  Name     Sex   Age  SibSp  \\\n",
       "0                              Braund, Mr. Owen Harris    male  22.0      1   \n",
       "1    Cumings, Mrs. John Bradley (Florence Briggs Th...  female  38.0      1   \n",
       "2                               Heikkinen, Miss. Laina  female  26.0      0   \n",
       "3         Futrelle, Mrs. Jacques Heath (Lily May Peel)  female  35.0      1   \n",
       "4                             Allen, Mr. William Henry    male  35.0      0   \n",
       "..                                                 ...     ...   ...    ...   \n",
       "886                              Montvila, Rev. Juozas    male  27.0      0   \n",
       "887                       Graham, Miss. Margaret Edith  female  19.0      0   \n",
       "888           Johnston, Miss. Catherine Helen \"Carrie\"  female   NaN      1   \n",
       "889                              Behr, Mr. Karl Howell    male  26.0      0   \n",
       "890                                Dooley, Mr. Patrick    male  32.0      0   \n",
       "\n",
       "     Parch            Ticket     Fare Cabin Embarked  \n",
       "0        0         A/5 21171   7.2500   NaN        S  \n",
       "1        0          PC 17599  71.2833   C85        C  \n",
       "2        0  STON/O2. 3101282   7.9250   NaN        S  \n",
       "3        0            113803  53.1000  C123        S  \n",
       "4        0            373450   8.0500   NaN        S  \n",
       "..     ...               ...      ...   ...      ...  \n",
       "886      0            211536  13.0000   NaN        S  \n",
       "887      0            112053  30.0000   B42        S  \n",
       "888      2        W./C. 6607  23.4500   NaN        S  \n",
       "889      0            111369  30.0000  C148        C  \n",
       "890      0            370376   7.7500   NaN        Q  \n",
       "\n",
       "[891 rows x 12 columns]"
      ]
     },
     "execution_count": 141,
     "metadata": {},
     "output_type": "execute_result"
    }
   ],
   "source": [
    "# titanic_df = pd.read_csv( # complete\n",
    "\n",
    "# feat_list = list(titanic_df.columns)\n",
    "# label = 'Survived'\n",
    "# feat_list.remove(label)\n",
    "# X = # complete\n",
    "# y = # complete"
   ]
  },
  {
   "cell_type": "code",
   "execution_count": 149,
   "metadata": {},
   "outputs": [
    {
     "data": {
      "text/html": [
       "<div>\n",
       "<style scoped>\n",
       "    .dataframe tbody tr th:only-of-type {\n",
       "        vertical-align: middle;\n",
       "    }\n",
       "\n",
       "    .dataframe tbody tr th {\n",
       "        vertical-align: top;\n",
       "    }\n",
       "\n",
       "    .dataframe thead th {\n",
       "        text-align: right;\n",
       "    }\n",
       "</style>\n",
       "<table border=\"1\" class=\"dataframe\">\n",
       "  <thead>\n",
       "    <tr style=\"text-align: right;\">\n",
       "      <th></th>\n",
       "      <th>PassengerId</th>\n",
       "      <th>Survived</th>\n",
       "      <th>Pclass</th>\n",
       "      <th>Name</th>\n",
       "      <th>Sex</th>\n",
       "      <th>Age</th>\n",
       "      <th>SibSp</th>\n",
       "      <th>Parch</th>\n",
       "      <th>Ticket</th>\n",
       "      <th>Fare</th>\n",
       "      <th>Cabin</th>\n",
       "      <th>Embarked</th>\n",
       "    </tr>\n",
       "  </thead>\n",
       "  <tbody>\n",
       "    <tr>\n",
       "      <th>0</th>\n",
       "      <td>1</td>\n",
       "      <td>0</td>\n",
       "      <td>3</td>\n",
       "      <td>Braund, Mr. Owen Harris</td>\n",
       "      <td>male</td>\n",
       "      <td>22.0</td>\n",
       "      <td>1</td>\n",
       "      <td>0</td>\n",
       "      <td>A/5 21171</td>\n",
       "      <td>7.2500</td>\n",
       "      <td>NaN</td>\n",
       "      <td>S</td>\n",
       "    </tr>\n",
       "    <tr>\n",
       "      <th>1</th>\n",
       "      <td>2</td>\n",
       "      <td>1</td>\n",
       "      <td>1</td>\n",
       "      <td>Cumings, Mrs. John Bradley (Florence Briggs Th...</td>\n",
       "      <td>female</td>\n",
       "      <td>38.0</td>\n",
       "      <td>1</td>\n",
       "      <td>0</td>\n",
       "      <td>PC 17599</td>\n",
       "      <td>71.2833</td>\n",
       "      <td>C85</td>\n",
       "      <td>C</td>\n",
       "    </tr>\n",
       "    <tr>\n",
       "      <th>2</th>\n",
       "      <td>3</td>\n",
       "      <td>1</td>\n",
       "      <td>3</td>\n",
       "      <td>Heikkinen, Miss. Laina</td>\n",
       "      <td>female</td>\n",
       "      <td>26.0</td>\n",
       "      <td>0</td>\n",
       "      <td>0</td>\n",
       "      <td>STON/O2. 3101282</td>\n",
       "      <td>7.9250</td>\n",
       "      <td>NaN</td>\n",
       "      <td>S</td>\n",
       "    </tr>\n",
       "    <tr>\n",
       "      <th>3</th>\n",
       "      <td>4</td>\n",
       "      <td>1</td>\n",
       "      <td>1</td>\n",
       "      <td>Futrelle, Mrs. Jacques Heath (Lily May Peel)</td>\n",
       "      <td>female</td>\n",
       "      <td>35.0</td>\n",
       "      <td>1</td>\n",
       "      <td>0</td>\n",
       "      <td>113803</td>\n",
       "      <td>53.1000</td>\n",
       "      <td>C123</td>\n",
       "      <td>S</td>\n",
       "    </tr>\n",
       "    <tr>\n",
       "      <th>4</th>\n",
       "      <td>5</td>\n",
       "      <td>0</td>\n",
       "      <td>3</td>\n",
       "      <td>Allen, Mr. William Henry</td>\n",
       "      <td>male</td>\n",
       "      <td>35.0</td>\n",
       "      <td>0</td>\n",
       "      <td>0</td>\n",
       "      <td>373450</td>\n",
       "      <td>8.0500</td>\n",
       "      <td>NaN</td>\n",
       "      <td>S</td>\n",
       "    </tr>\n",
       "    <tr>\n",
       "      <th>...</th>\n",
       "      <td>...</td>\n",
       "      <td>...</td>\n",
       "      <td>...</td>\n",
       "      <td>...</td>\n",
       "      <td>...</td>\n",
       "      <td>...</td>\n",
       "      <td>...</td>\n",
       "      <td>...</td>\n",
       "      <td>...</td>\n",
       "      <td>...</td>\n",
       "      <td>...</td>\n",
       "      <td>...</td>\n",
       "    </tr>\n",
       "    <tr>\n",
       "      <th>886</th>\n",
       "      <td>887</td>\n",
       "      <td>0</td>\n",
       "      <td>2</td>\n",
       "      <td>Montvila, Rev. Juozas</td>\n",
       "      <td>male</td>\n",
       "      <td>27.0</td>\n",
       "      <td>0</td>\n",
       "      <td>0</td>\n",
       "      <td>211536</td>\n",
       "      <td>13.0000</td>\n",
       "      <td>NaN</td>\n",
       "      <td>S</td>\n",
       "    </tr>\n",
       "    <tr>\n",
       "      <th>887</th>\n",
       "      <td>888</td>\n",
       "      <td>1</td>\n",
       "      <td>1</td>\n",
       "      <td>Graham, Miss. Margaret Edith</td>\n",
       "      <td>female</td>\n",
       "      <td>19.0</td>\n",
       "      <td>0</td>\n",
       "      <td>0</td>\n",
       "      <td>112053</td>\n",
       "      <td>30.0000</td>\n",
       "      <td>B42</td>\n",
       "      <td>S</td>\n",
       "    </tr>\n",
       "    <tr>\n",
       "      <th>888</th>\n",
       "      <td>889</td>\n",
       "      <td>0</td>\n",
       "      <td>3</td>\n",
       "      <td>Johnston, Miss. Catherine Helen \"Carrie\"</td>\n",
       "      <td>female</td>\n",
       "      <td>NaN</td>\n",
       "      <td>1</td>\n",
       "      <td>2</td>\n",
       "      <td>W./C. 6607</td>\n",
       "      <td>23.4500</td>\n",
       "      <td>NaN</td>\n",
       "      <td>S</td>\n",
       "    </tr>\n",
       "    <tr>\n",
       "      <th>889</th>\n",
       "      <td>890</td>\n",
       "      <td>1</td>\n",
       "      <td>1</td>\n",
       "      <td>Behr, Mr. Karl Howell</td>\n",
       "      <td>male</td>\n",
       "      <td>26.0</td>\n",
       "      <td>0</td>\n",
       "      <td>0</td>\n",
       "      <td>111369</td>\n",
       "      <td>30.0000</td>\n",
       "      <td>C148</td>\n",
       "      <td>C</td>\n",
       "    </tr>\n",
       "    <tr>\n",
       "      <th>890</th>\n",
       "      <td>891</td>\n",
       "      <td>0</td>\n",
       "      <td>3</td>\n",
       "      <td>Dooley, Mr. Patrick</td>\n",
       "      <td>male</td>\n",
       "      <td>32.0</td>\n",
       "      <td>0</td>\n",
       "      <td>0</td>\n",
       "      <td>370376</td>\n",
       "      <td>7.7500</td>\n",
       "      <td>NaN</td>\n",
       "      <td>Q</td>\n",
       "    </tr>\n",
       "  </tbody>\n",
       "</table>\n",
       "<p>891 rows × 12 columns</p>\n",
       "</div>"
      ],
      "text/plain": [
       "    PassengerId  Survived  Pclass  \\\n",
       "0             1         0       3   \n",
       "1             2         1       1   \n",
       "2             3         1       3   \n",
       "3             4         1       1   \n",
       "4             5         0       3   \n",
       "..          ...       ...     ...   \n",
       "886         887         0       2   \n",
       "887         888         1       1   \n",
       "888         889         0       3   \n",
       "889         890         1       1   \n",
       "890         891         0       3   \n",
       "\n",
       "                                                  Name     Sex   Age  SibSp  \\\n",
       "0                              Braund, Mr. Owen Harris    male  22.0      1   \n",
       "1    Cumings, Mrs. John Bradley (Florence Briggs Th...  female  38.0      1   \n",
       "2                               Heikkinen, Miss. Laina  female  26.0      0   \n",
       "3         Futrelle, Mrs. Jacques Heath (Lily May Peel)  female  35.0      1   \n",
       "4                             Allen, Mr. William Henry    male  35.0      0   \n",
       "..                                                 ...     ...   ...    ...   \n",
       "886                              Montvila, Rev. Juozas    male  27.0      0   \n",
       "887                       Graham, Miss. Margaret Edith  female  19.0      0   \n",
       "888           Johnston, Miss. Catherine Helen \"Carrie\"  female   NaN      1   \n",
       "889                              Behr, Mr. Karl Howell    male  26.0      0   \n",
       "890                                Dooley, Mr. Patrick    male  32.0      0   \n",
       "\n",
       "     Parch            Ticket     Fare Cabin Embarked  \n",
       "0        0         A/5 21171   7.2500   NaN        S  \n",
       "1        0          PC 17599  71.2833   C85        C  \n",
       "2        0  STON/O2. 3101282   7.9250   NaN        S  \n",
       "3        0            113803  53.1000  C123        S  \n",
       "4        0            373450   8.0500   NaN        S  \n",
       "..     ...               ...      ...   ...      ...  \n",
       "886      0            211536  13.0000   NaN        S  \n",
       "887      0            112053  30.0000   B42        S  \n",
       "888      2        W./C. 6607  23.4500   NaN        S  \n",
       "889      0            111369  30.0000  C148        C  \n",
       "890      0            370376   7.7500   NaN        Q  \n",
       "\n",
       "[891 rows x 12 columns]"
      ]
     },
     "execution_count": 149,
     "metadata": {},
     "output_type": "execute_result"
    }
   ],
   "source": [
    "titanic_df = pd.read_csv('dsfp_wrangling/titanic_kaggle_training_set.csv') # complete\n",
    "titanic_df"
   ]
  },
  {
   "cell_type": "code",
   "execution_count": 150,
   "metadata": {},
   "outputs": [
    {
     "data": {
      "text/plain": [
       "['PassengerId',\n",
       " 'Survived',\n",
       " 'Pclass',\n",
       " 'Name',\n",
       " 'Sex',\n",
       " 'Age',\n",
       " 'SibSp',\n",
       " 'Parch',\n",
       " 'Ticket',\n",
       " 'Fare',\n",
       " 'Cabin',\n",
       " 'Embarked']"
      ]
     },
     "execution_count": 150,
     "metadata": {},
     "output_type": "execute_result"
    }
   ],
   "source": [
    "feat_list = list(titanic_df.columns)\n",
    "feat_list"
   ]
  },
  {
   "cell_type": "code",
   "execution_count": 151,
   "metadata": {},
   "outputs": [
    {
     "data": {
      "text/plain": [
       "['PassengerId',\n",
       " 'Pclass',\n",
       " 'Name',\n",
       " 'Sex',\n",
       " 'Age',\n",
       " 'SibSp',\n",
       " 'Parch',\n",
       " 'Ticket',\n",
       " 'Fare',\n",
       " 'Cabin',\n",
       " 'Embarked']"
      ]
     },
     "execution_count": 151,
     "metadata": {},
     "output_type": "execute_result"
    }
   ],
   "source": [
    "label = 'Survived'\n",
    "feat_list.remove(label)\n",
    "feat_list"
   ]
  },
  {
   "cell_type": "code",
   "execution_count": 155,
   "metadata": {},
   "outputs": [],
   "source": [
    "X = titanic_df[feat_list] # complete\n",
    "y = titanic_df['Survived'] # complete"
   ]
  },
  {
   "cell_type": "code",
   "execution_count": 156,
   "metadata": {},
   "outputs": [
    {
     "data": {
      "text/html": [
       "<div>\n",
       "<style scoped>\n",
       "    .dataframe tbody tr th:only-of-type {\n",
       "        vertical-align: middle;\n",
       "    }\n",
       "\n",
       "    .dataframe tbody tr th {\n",
       "        vertical-align: top;\n",
       "    }\n",
       "\n",
       "    .dataframe thead th {\n",
       "        text-align: right;\n",
       "    }\n",
       "</style>\n",
       "<table border=\"1\" class=\"dataframe\">\n",
       "  <thead>\n",
       "    <tr style=\"text-align: right;\">\n",
       "      <th></th>\n",
       "      <th>PassengerId</th>\n",
       "      <th>Pclass</th>\n",
       "      <th>Name</th>\n",
       "      <th>Sex</th>\n",
       "      <th>Age</th>\n",
       "      <th>SibSp</th>\n",
       "      <th>Parch</th>\n",
       "      <th>Ticket</th>\n",
       "      <th>Fare</th>\n",
       "      <th>Cabin</th>\n",
       "      <th>Embarked</th>\n",
       "    </tr>\n",
       "  </thead>\n",
       "  <tbody>\n",
       "    <tr>\n",
       "      <th>0</th>\n",
       "      <td>1</td>\n",
       "      <td>3</td>\n",
       "      <td>Braund, Mr. Owen Harris</td>\n",
       "      <td>male</td>\n",
       "      <td>22.0</td>\n",
       "      <td>1</td>\n",
       "      <td>0</td>\n",
       "      <td>A/5 21171</td>\n",
       "      <td>7.2500</td>\n",
       "      <td>NaN</td>\n",
       "      <td>S</td>\n",
       "    </tr>\n",
       "    <tr>\n",
       "      <th>1</th>\n",
       "      <td>2</td>\n",
       "      <td>1</td>\n",
       "      <td>Cumings, Mrs. John Bradley (Florence Briggs Th...</td>\n",
       "      <td>female</td>\n",
       "      <td>38.0</td>\n",
       "      <td>1</td>\n",
       "      <td>0</td>\n",
       "      <td>PC 17599</td>\n",
       "      <td>71.2833</td>\n",
       "      <td>C85</td>\n",
       "      <td>C</td>\n",
       "    </tr>\n",
       "    <tr>\n",
       "      <th>2</th>\n",
       "      <td>3</td>\n",
       "      <td>3</td>\n",
       "      <td>Heikkinen, Miss. Laina</td>\n",
       "      <td>female</td>\n",
       "      <td>26.0</td>\n",
       "      <td>0</td>\n",
       "      <td>0</td>\n",
       "      <td>STON/O2. 3101282</td>\n",
       "      <td>7.9250</td>\n",
       "      <td>NaN</td>\n",
       "      <td>S</td>\n",
       "    </tr>\n",
       "    <tr>\n",
       "      <th>3</th>\n",
       "      <td>4</td>\n",
       "      <td>1</td>\n",
       "      <td>Futrelle, Mrs. Jacques Heath (Lily May Peel)</td>\n",
       "      <td>female</td>\n",
       "      <td>35.0</td>\n",
       "      <td>1</td>\n",
       "      <td>0</td>\n",
       "      <td>113803</td>\n",
       "      <td>53.1000</td>\n",
       "      <td>C123</td>\n",
       "      <td>S</td>\n",
       "    </tr>\n",
       "    <tr>\n",
       "      <th>4</th>\n",
       "      <td>5</td>\n",
       "      <td>3</td>\n",
       "      <td>Allen, Mr. William Henry</td>\n",
       "      <td>male</td>\n",
       "      <td>35.0</td>\n",
       "      <td>0</td>\n",
       "      <td>0</td>\n",
       "      <td>373450</td>\n",
       "      <td>8.0500</td>\n",
       "      <td>NaN</td>\n",
       "      <td>S</td>\n",
       "    </tr>\n",
       "    <tr>\n",
       "      <th>...</th>\n",
       "      <td>...</td>\n",
       "      <td>...</td>\n",
       "      <td>...</td>\n",
       "      <td>...</td>\n",
       "      <td>...</td>\n",
       "      <td>...</td>\n",
       "      <td>...</td>\n",
       "      <td>...</td>\n",
       "      <td>...</td>\n",
       "      <td>...</td>\n",
       "      <td>...</td>\n",
       "    </tr>\n",
       "    <tr>\n",
       "      <th>886</th>\n",
       "      <td>887</td>\n",
       "      <td>2</td>\n",
       "      <td>Montvila, Rev. Juozas</td>\n",
       "      <td>male</td>\n",
       "      <td>27.0</td>\n",
       "      <td>0</td>\n",
       "      <td>0</td>\n",
       "      <td>211536</td>\n",
       "      <td>13.0000</td>\n",
       "      <td>NaN</td>\n",
       "      <td>S</td>\n",
       "    </tr>\n",
       "    <tr>\n",
       "      <th>887</th>\n",
       "      <td>888</td>\n",
       "      <td>1</td>\n",
       "      <td>Graham, Miss. Margaret Edith</td>\n",
       "      <td>female</td>\n",
       "      <td>19.0</td>\n",
       "      <td>0</td>\n",
       "      <td>0</td>\n",
       "      <td>112053</td>\n",
       "      <td>30.0000</td>\n",
       "      <td>B42</td>\n",
       "      <td>S</td>\n",
       "    </tr>\n",
       "    <tr>\n",
       "      <th>888</th>\n",
       "      <td>889</td>\n",
       "      <td>3</td>\n",
       "      <td>Johnston, Miss. Catherine Helen \"Carrie\"</td>\n",
       "      <td>female</td>\n",
       "      <td>NaN</td>\n",
       "      <td>1</td>\n",
       "      <td>2</td>\n",
       "      <td>W./C. 6607</td>\n",
       "      <td>23.4500</td>\n",
       "      <td>NaN</td>\n",
       "      <td>S</td>\n",
       "    </tr>\n",
       "    <tr>\n",
       "      <th>889</th>\n",
       "      <td>890</td>\n",
       "      <td>1</td>\n",
       "      <td>Behr, Mr. Karl Howell</td>\n",
       "      <td>male</td>\n",
       "      <td>26.0</td>\n",
       "      <td>0</td>\n",
       "      <td>0</td>\n",
       "      <td>111369</td>\n",
       "      <td>30.0000</td>\n",
       "      <td>C148</td>\n",
       "      <td>C</td>\n",
       "    </tr>\n",
       "    <tr>\n",
       "      <th>890</th>\n",
       "      <td>891</td>\n",
       "      <td>3</td>\n",
       "      <td>Dooley, Mr. Patrick</td>\n",
       "      <td>male</td>\n",
       "      <td>32.0</td>\n",
       "      <td>0</td>\n",
       "      <td>0</td>\n",
       "      <td>370376</td>\n",
       "      <td>7.7500</td>\n",
       "      <td>NaN</td>\n",
       "      <td>Q</td>\n",
       "    </tr>\n",
       "  </tbody>\n",
       "</table>\n",
       "<p>891 rows × 11 columns</p>\n",
       "</div>"
      ],
      "text/plain": [
       "    PassengerId  Pclass                                               Name  \\\n",
       "0             1       3                            Braund, Mr. Owen Harris   \n",
       "1             2       1  Cumings, Mrs. John Bradley (Florence Briggs Th...   \n",
       "2             3       3                             Heikkinen, Miss. Laina   \n",
       "3             4       1       Futrelle, Mrs. Jacques Heath (Lily May Peel)   \n",
       "4             5       3                           Allen, Mr. William Henry   \n",
       "..          ...     ...                                                ...   \n",
       "886         887       2                              Montvila, Rev. Juozas   \n",
       "887         888       1                       Graham, Miss. Margaret Edith   \n",
       "888         889       3           Johnston, Miss. Catherine Helen \"Carrie\"   \n",
       "889         890       1                              Behr, Mr. Karl Howell   \n",
       "890         891       3                                Dooley, Mr. Patrick   \n",
       "\n",
       "        Sex   Age  SibSp  Parch            Ticket     Fare Cabin Embarked  \n",
       "0      male  22.0      1      0         A/5 21171   7.2500   NaN        S  \n",
       "1    female  38.0      1      0          PC 17599  71.2833   C85        C  \n",
       "2    female  26.0      0      0  STON/O2. 3101282   7.9250   NaN        S  \n",
       "3    female  35.0      1      0            113803  53.1000  C123        S  \n",
       "4      male  35.0      0      0            373450   8.0500   NaN        S  \n",
       "..      ...   ...    ...    ...               ...      ...   ...      ...  \n",
       "886    male  27.0      0      0            211536  13.0000   NaN        S  \n",
       "887  female  19.0      0      0            112053  30.0000   B42        S  \n",
       "888  female   NaN      1      2        W./C. 6607  23.4500   NaN        S  \n",
       "889    male  26.0      0      0            111369  30.0000  C148        C  \n",
       "890    male  32.0      0      0            370376   7.7500   NaN        Q  \n",
       "\n",
       "[891 rows x 11 columns]"
      ]
     },
     "execution_count": 156,
     "metadata": {},
     "output_type": "execute_result"
    }
   ],
   "source": [
    "X"
   ]
  },
  {
   "cell_type": "markdown",
   "metadata": {
    "slideshow": {
     "slide_type": "slide"
    }
   },
   "source": [
    "Now that we have the data in the appropriate `X` and `y` arrays, estimate the accuracy with which a [K nearest neighbors](https://scikit-learn.org/stable/modules/generated/sklearn.neighbors.KNeighborsClassifier.html) classification model can predict whether or not a passenger would survive the Titanic disaster. Use $k=10$ fold cross validation for the prediction."
   ]
  },
  {
   "cell_type": "markdown",
   "metadata": {
    "slideshow": {
     "slide_type": "subslide"
    }
   },
   "source": [
    "**Problem 3b**\n",
    "\n",
    "Train a $k=7$ nearest neighbors machine learning model on the Titanic training set."
   ]
  },
  {
   "cell_type": "code",
   "execution_count": 157,
   "metadata": {
    "slideshow": {
     "slide_type": "subslide"
    }
   },
   "outputs": [
    {
     "ename": "ValueError",
     "evalue": "could not convert string to float: '# 62'",
     "output_type": "error",
     "traceback": [
      "\u001b[0;31m---------------------------------------------------------------------------\u001b[0m",
      "\u001b[0;31mValueError\u001b[0m                                Traceback (most recent call last)",
      "Input \u001b[0;32mIn [157]\u001b[0m, in \u001b[0;36m<cell line: 3>\u001b[0;34m()\u001b[0m\n\u001b[1;32m      1\u001b[0m \u001b[38;5;28;01mfrom\u001b[39;00m \u001b[38;5;21;01msklearn\u001b[39;00m\u001b[38;5;21;01m.\u001b[39;00m\u001b[38;5;21;01mneighbors\u001b[39;00m \u001b[38;5;28;01mimport\u001b[39;00m KNeighborsClassifier\n\u001b[1;32m      2\u001b[0m knn_clf \u001b[38;5;241m=\u001b[39m KNeighborsClassifier(n_neighbors\u001b[38;5;241m=\u001b[39m\u001b[38;5;241m7\u001b[39m) \u001b[38;5;66;03m# complete\u001b[39;00m\n\u001b[0;32m----> 3\u001b[0m \u001b[43mknn_clf\u001b[49m\u001b[38;5;241;43m.\u001b[39;49m\u001b[43mfit\u001b[49m\u001b[43m(\u001b[49m\u001b[43mX\u001b[49m\u001b[43m,\u001b[49m\u001b[43m \u001b[49m\u001b[43my\u001b[49m\u001b[43m)\u001b[49m\n",
      "File \u001b[0;32m~/miniforge3/envs/dsfp/lib/python3.9/site-packages/sklearn/neighbors/_classification.py:200\u001b[0m, in \u001b[0;36mKNeighborsClassifier.fit\u001b[0;34m(self, X, y)\u001b[0m\n\u001b[1;32m    181\u001b[0m \u001b[38;5;124;03m\"\"\"Fit the k-nearest neighbors classifier from the training dataset.\u001b[39;00m\n\u001b[1;32m    182\u001b[0m \n\u001b[1;32m    183\u001b[0m \u001b[38;5;124;03mParameters\u001b[39;00m\n\u001b[0;32m   (...)\u001b[0m\n\u001b[1;32m    196\u001b[0m \u001b[38;5;124;03m    The fitted k-nearest neighbors classifier.\u001b[39;00m\n\u001b[1;32m    197\u001b[0m \u001b[38;5;124;03m\"\"\"\u001b[39;00m\n\u001b[1;32m    198\u001b[0m \u001b[38;5;28mself\u001b[39m\u001b[38;5;241m.\u001b[39mweights \u001b[38;5;241m=\u001b[39m _check_weights(\u001b[38;5;28mself\u001b[39m\u001b[38;5;241m.\u001b[39mweights)\n\u001b[0;32m--> 200\u001b[0m \u001b[38;5;28;01mreturn\u001b[39;00m \u001b[38;5;28;43mself\u001b[39;49m\u001b[38;5;241;43m.\u001b[39;49m\u001b[43m_fit\u001b[49m\u001b[43m(\u001b[49m\u001b[43mX\u001b[49m\u001b[43m,\u001b[49m\u001b[43m \u001b[49m\u001b[43my\u001b[49m\u001b[43m)\u001b[49m\n",
      "File \u001b[0;32m~/miniforge3/envs/dsfp/lib/python3.9/site-packages/sklearn/neighbors/_base.py:407\u001b[0m, in \u001b[0;36mNeighborsBase._fit\u001b[0;34m(self, X, y)\u001b[0m\n\u001b[1;32m    405\u001b[0m \u001b[38;5;28;01mif\u001b[39;00m \u001b[38;5;28mself\u001b[39m\u001b[38;5;241m.\u001b[39m_get_tags()[\u001b[38;5;124m\"\u001b[39m\u001b[38;5;124mrequires_y\u001b[39m\u001b[38;5;124m\"\u001b[39m]:\n\u001b[1;32m    406\u001b[0m     \u001b[38;5;28;01mif\u001b[39;00m \u001b[38;5;129;01mnot\u001b[39;00m \u001b[38;5;28misinstance\u001b[39m(X, (KDTree, BallTree, NeighborsBase)):\n\u001b[0;32m--> 407\u001b[0m         X, y \u001b[38;5;241m=\u001b[39m \u001b[38;5;28;43mself\u001b[39;49m\u001b[38;5;241;43m.\u001b[39;49m\u001b[43m_validate_data\u001b[49m\u001b[43m(\u001b[49m\n\u001b[1;32m    408\u001b[0m \u001b[43m            \u001b[49m\u001b[43mX\u001b[49m\u001b[43m,\u001b[49m\u001b[43m \u001b[49m\u001b[43my\u001b[49m\u001b[43m,\u001b[49m\u001b[43m \u001b[49m\u001b[43maccept_sparse\u001b[49m\u001b[38;5;241;43m=\u001b[39;49m\u001b[38;5;124;43m\"\u001b[39;49m\u001b[38;5;124;43mcsr\u001b[39;49m\u001b[38;5;124;43m\"\u001b[39;49m\u001b[43m,\u001b[49m\u001b[43m \u001b[49m\u001b[43mmulti_output\u001b[49m\u001b[38;5;241;43m=\u001b[39;49m\u001b[38;5;28;43;01mTrue\u001b[39;49;00m\u001b[43m,\u001b[49m\u001b[43m \u001b[49m\u001b[43morder\u001b[49m\u001b[38;5;241;43m=\u001b[39;49m\u001b[38;5;124;43m\"\u001b[39;49m\u001b[38;5;124;43mC\u001b[39;49m\u001b[38;5;124;43m\"\u001b[39;49m\n\u001b[1;32m    409\u001b[0m \u001b[43m        \u001b[49m\u001b[43m)\u001b[49m\n\u001b[1;32m    411\u001b[0m     \u001b[38;5;28;01mif\u001b[39;00m is_classifier(\u001b[38;5;28mself\u001b[39m):\n\u001b[1;32m    412\u001b[0m         \u001b[38;5;66;03m# Classification targets require a specific format\u001b[39;00m\n\u001b[1;32m    413\u001b[0m         \u001b[38;5;28;01mif\u001b[39;00m y\u001b[38;5;241m.\u001b[39mndim \u001b[38;5;241m==\u001b[39m \u001b[38;5;241m1\u001b[39m \u001b[38;5;129;01mor\u001b[39;00m y\u001b[38;5;241m.\u001b[39mndim \u001b[38;5;241m==\u001b[39m \u001b[38;5;241m2\u001b[39m \u001b[38;5;129;01mand\u001b[39;00m y\u001b[38;5;241m.\u001b[39mshape[\u001b[38;5;241m1\u001b[39m] \u001b[38;5;241m==\u001b[39m \u001b[38;5;241m1\u001b[39m:\n",
      "File \u001b[0;32m~/miniforge3/envs/dsfp/lib/python3.9/site-packages/sklearn/base.py:596\u001b[0m, in \u001b[0;36mBaseEstimator._validate_data\u001b[0;34m(self, X, y, reset, validate_separately, **check_params)\u001b[0m\n\u001b[1;32m    594\u001b[0m         y \u001b[38;5;241m=\u001b[39m check_array(y, input_name\u001b[38;5;241m=\u001b[39m\u001b[38;5;124m\"\u001b[39m\u001b[38;5;124my\u001b[39m\u001b[38;5;124m\"\u001b[39m, \u001b[38;5;241m*\u001b[39m\u001b[38;5;241m*\u001b[39mcheck_y_params)\n\u001b[1;32m    595\u001b[0m     \u001b[38;5;28;01melse\u001b[39;00m:\n\u001b[0;32m--> 596\u001b[0m         X, y \u001b[38;5;241m=\u001b[39m \u001b[43mcheck_X_y\u001b[49m\u001b[43m(\u001b[49m\u001b[43mX\u001b[49m\u001b[43m,\u001b[49m\u001b[43m \u001b[49m\u001b[43my\u001b[49m\u001b[43m,\u001b[49m\u001b[43m \u001b[49m\u001b[38;5;241;43m*\u001b[39;49m\u001b[38;5;241;43m*\u001b[39;49m\u001b[43mcheck_params\u001b[49m\u001b[43m)\u001b[49m\n\u001b[1;32m    597\u001b[0m     out \u001b[38;5;241m=\u001b[39m X, y\n\u001b[1;32m    599\u001b[0m \u001b[38;5;28;01mif\u001b[39;00m \u001b[38;5;129;01mnot\u001b[39;00m no_val_X \u001b[38;5;129;01mand\u001b[39;00m check_params\u001b[38;5;241m.\u001b[39mget(\u001b[38;5;124m\"\u001b[39m\u001b[38;5;124mensure_2d\u001b[39m\u001b[38;5;124m\"\u001b[39m, \u001b[38;5;28;01mTrue\u001b[39;00m):\n",
      "File \u001b[0;32m~/miniforge3/envs/dsfp/lib/python3.9/site-packages/sklearn/utils/validation.py:1074\u001b[0m, in \u001b[0;36mcheck_X_y\u001b[0;34m(X, y, accept_sparse, accept_large_sparse, dtype, order, copy, force_all_finite, ensure_2d, allow_nd, multi_output, ensure_min_samples, ensure_min_features, y_numeric, estimator)\u001b[0m\n\u001b[1;32m   1069\u001b[0m         estimator_name \u001b[38;5;241m=\u001b[39m _check_estimator_name(estimator)\n\u001b[1;32m   1070\u001b[0m     \u001b[38;5;28;01mraise\u001b[39;00m \u001b[38;5;167;01mValueError\u001b[39;00m(\n\u001b[1;32m   1071\u001b[0m         \u001b[38;5;124mf\u001b[39m\u001b[38;5;124m\"\u001b[39m\u001b[38;5;132;01m{\u001b[39;00mestimator_name\u001b[38;5;132;01m}\u001b[39;00m\u001b[38;5;124m requires y to be passed, but the target y is None\u001b[39m\u001b[38;5;124m\"\u001b[39m\n\u001b[1;32m   1072\u001b[0m     )\n\u001b[0;32m-> 1074\u001b[0m X \u001b[38;5;241m=\u001b[39m \u001b[43mcheck_array\u001b[49m\u001b[43m(\u001b[49m\n\u001b[1;32m   1075\u001b[0m \u001b[43m    \u001b[49m\u001b[43mX\u001b[49m\u001b[43m,\u001b[49m\n\u001b[1;32m   1076\u001b[0m \u001b[43m    \u001b[49m\u001b[43maccept_sparse\u001b[49m\u001b[38;5;241;43m=\u001b[39;49m\u001b[43maccept_sparse\u001b[49m\u001b[43m,\u001b[49m\n\u001b[1;32m   1077\u001b[0m \u001b[43m    \u001b[49m\u001b[43maccept_large_sparse\u001b[49m\u001b[38;5;241;43m=\u001b[39;49m\u001b[43maccept_large_sparse\u001b[49m\u001b[43m,\u001b[49m\n\u001b[1;32m   1078\u001b[0m \u001b[43m    \u001b[49m\u001b[43mdtype\u001b[49m\u001b[38;5;241;43m=\u001b[39;49m\u001b[43mdtype\u001b[49m\u001b[43m,\u001b[49m\n\u001b[1;32m   1079\u001b[0m \u001b[43m    \u001b[49m\u001b[43morder\u001b[49m\u001b[38;5;241;43m=\u001b[39;49m\u001b[43morder\u001b[49m\u001b[43m,\u001b[49m\n\u001b[1;32m   1080\u001b[0m \u001b[43m    \u001b[49m\u001b[43mcopy\u001b[49m\u001b[38;5;241;43m=\u001b[39;49m\u001b[43mcopy\u001b[49m\u001b[43m,\u001b[49m\n\u001b[1;32m   1081\u001b[0m \u001b[43m    \u001b[49m\u001b[43mforce_all_finite\u001b[49m\u001b[38;5;241;43m=\u001b[39;49m\u001b[43mforce_all_finite\u001b[49m\u001b[43m,\u001b[49m\n\u001b[1;32m   1082\u001b[0m \u001b[43m    \u001b[49m\u001b[43mensure_2d\u001b[49m\u001b[38;5;241;43m=\u001b[39;49m\u001b[43mensure_2d\u001b[49m\u001b[43m,\u001b[49m\n\u001b[1;32m   1083\u001b[0m \u001b[43m    \u001b[49m\u001b[43mallow_nd\u001b[49m\u001b[38;5;241;43m=\u001b[39;49m\u001b[43mallow_nd\u001b[49m\u001b[43m,\u001b[49m\n\u001b[1;32m   1084\u001b[0m \u001b[43m    \u001b[49m\u001b[43mensure_min_samples\u001b[49m\u001b[38;5;241;43m=\u001b[39;49m\u001b[43mensure_min_samples\u001b[49m\u001b[43m,\u001b[49m\n\u001b[1;32m   1085\u001b[0m \u001b[43m    \u001b[49m\u001b[43mensure_min_features\u001b[49m\u001b[38;5;241;43m=\u001b[39;49m\u001b[43mensure_min_features\u001b[49m\u001b[43m,\u001b[49m\n\u001b[1;32m   1086\u001b[0m \u001b[43m    \u001b[49m\u001b[43mestimator\u001b[49m\u001b[38;5;241;43m=\u001b[39;49m\u001b[43mestimator\u001b[49m\u001b[43m,\u001b[49m\n\u001b[1;32m   1087\u001b[0m \u001b[43m    \u001b[49m\u001b[43minput_name\u001b[49m\u001b[38;5;241;43m=\u001b[39;49m\u001b[38;5;124;43m\"\u001b[39;49m\u001b[38;5;124;43mX\u001b[39;49m\u001b[38;5;124;43m\"\u001b[39;49m\u001b[43m,\u001b[49m\n\u001b[1;32m   1088\u001b[0m \u001b[43m\u001b[49m\u001b[43m)\u001b[49m\n\u001b[1;32m   1090\u001b[0m y \u001b[38;5;241m=\u001b[39m _check_y(y, multi_output\u001b[38;5;241m=\u001b[39mmulti_output, y_numeric\u001b[38;5;241m=\u001b[39my_numeric, estimator\u001b[38;5;241m=\u001b[39mestimator)\n\u001b[1;32m   1092\u001b[0m check_consistent_length(X, y)\n",
      "File \u001b[0;32m~/miniforge3/envs/dsfp/lib/python3.9/site-packages/sklearn/utils/validation.py:856\u001b[0m, in \u001b[0;36mcheck_array\u001b[0;34m(array, accept_sparse, accept_large_sparse, dtype, order, copy, force_all_finite, ensure_2d, allow_nd, ensure_min_samples, ensure_min_features, estimator, input_name)\u001b[0m\n\u001b[1;32m    854\u001b[0m         array \u001b[38;5;241m=\u001b[39m array\u001b[38;5;241m.\u001b[39mastype(dtype, casting\u001b[38;5;241m=\u001b[39m\u001b[38;5;124m\"\u001b[39m\u001b[38;5;124munsafe\u001b[39m\u001b[38;5;124m\"\u001b[39m, copy\u001b[38;5;241m=\u001b[39m\u001b[38;5;28;01mFalse\u001b[39;00m)\n\u001b[1;32m    855\u001b[0m     \u001b[38;5;28;01melse\u001b[39;00m:\n\u001b[0;32m--> 856\u001b[0m         array \u001b[38;5;241m=\u001b[39m \u001b[43mnp\u001b[49m\u001b[38;5;241;43m.\u001b[39;49m\u001b[43masarray\u001b[49m\u001b[43m(\u001b[49m\u001b[43marray\u001b[49m\u001b[43m,\u001b[49m\u001b[43m \u001b[49m\u001b[43morder\u001b[49m\u001b[38;5;241;43m=\u001b[39;49m\u001b[43morder\u001b[49m\u001b[43m,\u001b[49m\u001b[43m \u001b[49m\u001b[43mdtype\u001b[49m\u001b[38;5;241;43m=\u001b[39;49m\u001b[43mdtype\u001b[49m\u001b[43m)\u001b[49m\n\u001b[1;32m    857\u001b[0m \u001b[38;5;28;01mexcept\u001b[39;00m ComplexWarning \u001b[38;5;28;01mas\u001b[39;00m complex_warning:\n\u001b[1;32m    858\u001b[0m     \u001b[38;5;28;01mraise\u001b[39;00m \u001b[38;5;167;01mValueError\u001b[39;00m(\n\u001b[1;32m    859\u001b[0m         \u001b[38;5;124m\"\u001b[39m\u001b[38;5;124mComplex data not supported\u001b[39m\u001b[38;5;130;01m\\n\u001b[39;00m\u001b[38;5;132;01m{}\u001b[39;00m\u001b[38;5;130;01m\\n\u001b[39;00m\u001b[38;5;124m\"\u001b[39m\u001b[38;5;241m.\u001b[39mformat(array)\n\u001b[1;32m    860\u001b[0m     ) \u001b[38;5;28;01mfrom\u001b[39;00m \u001b[38;5;21;01mcomplex_warning\u001b[39;00m\n",
      "File \u001b[0;32m~/miniforge3/envs/dsfp/lib/python3.9/site-packages/pandas/core/generic.py:2064\u001b[0m, in \u001b[0;36mNDFrame.__array__\u001b[0;34m(self, dtype)\u001b[0m\n\u001b[1;32m   2063\u001b[0m \u001b[38;5;28;01mdef\u001b[39;00m \u001b[38;5;21m__array__\u001b[39m(\u001b[38;5;28mself\u001b[39m, dtype: npt\u001b[38;5;241m.\u001b[39mDTypeLike \u001b[38;5;241m|\u001b[39m \u001b[38;5;28;01mNone\u001b[39;00m \u001b[38;5;241m=\u001b[39m \u001b[38;5;28;01mNone\u001b[39;00m) \u001b[38;5;241m-\u001b[39m\u001b[38;5;241m>\u001b[39m np\u001b[38;5;241m.\u001b[39mndarray:\n\u001b[0;32m-> 2064\u001b[0m     \u001b[38;5;28;01mreturn\u001b[39;00m \u001b[43mnp\u001b[49m\u001b[38;5;241;43m.\u001b[39;49m\u001b[43masarray\u001b[49m\u001b[43m(\u001b[49m\u001b[38;5;28;43mself\u001b[39;49m\u001b[38;5;241;43m.\u001b[39;49m\u001b[43m_values\u001b[49m\u001b[43m,\u001b[49m\u001b[43m \u001b[49m\u001b[43mdtype\u001b[49m\u001b[38;5;241;43m=\u001b[39;49m\u001b[43mdtype\u001b[49m\u001b[43m)\u001b[49m\n",
      "\u001b[0;31mValueError\u001b[0m: could not convert string to float: '# 62'"
     ]
    }
   ],
   "source": [
    "from sklearn.neighbors import KNeighborsClassifier\n",
    "knn_clf = KNeighborsClassifier(n_neighbors=7) # complete\n",
    "knn_clf.fit(X, y) # complete"
   ]
  },
  {
   "cell_type": "markdown",
   "metadata": {
    "slideshow": {
     "slide_type": "slide"
    }
   },
   "source": [
    "Note - that should have failed! And for good reason - recall that `kNN` models measure the Euclidean distance between all points within the feature space. So, when considering the sex of a passenger, what is the *numerical* distance between male and female? "
   ]
  },
  {
   "cell_type": "markdown",
   "metadata": {
    "slideshow": {
     "slide_type": "subslide"
    }
   },
   "source": [
    "In other words, we need to wrangle this data before we can run the machine learning model. \n",
    "\n",
    "Most of the features in this problem are non-numeric (i.e. we are dealing with categorical features), and therefore we need to figure out how to include them in the `kNN` model. "
   ]
  },
  {
   "cell_type": "markdown",
   "metadata": {
    "slideshow": {
     "slide_type": "subslide"
    }
   },
   "source": [
    "The first step when wrangling for machine learning is to figure out if anything can be thrown away. We certainly want to avoid including any uninformative features in the model. \n",
    "\n",
    "*If you haven't already, now would be a good time to create a new cell and examine the contents of the csv*"
   ]
  },
  {
   "cell_type": "code",
   "execution_count": 158,
   "metadata": {
    "slideshow": {
     "slide_type": "skip"
    }
   },
   "outputs": [
    {
     "data": {
      "text/html": [
       "<div>\n",
       "<style scoped>\n",
       "    .dataframe tbody tr th:only-of-type {\n",
       "        vertical-align: middle;\n",
       "    }\n",
       "\n",
       "    .dataframe tbody tr th {\n",
       "        vertical-align: top;\n",
       "    }\n",
       "\n",
       "    .dataframe thead th {\n",
       "        text-align: right;\n",
       "    }\n",
       "</style>\n",
       "<table border=\"1\" class=\"dataframe\">\n",
       "  <thead>\n",
       "    <tr style=\"text-align: right;\">\n",
       "      <th></th>\n",
       "      <th>PassengerId</th>\n",
       "      <th>Survived</th>\n",
       "      <th>Pclass</th>\n",
       "      <th>Name</th>\n",
       "      <th>Sex</th>\n",
       "      <th>Age</th>\n",
       "      <th>SibSp</th>\n",
       "      <th>Parch</th>\n",
       "      <th>Ticket</th>\n",
       "      <th>Fare</th>\n",
       "      <th>Cabin</th>\n",
       "      <th>Embarked</th>\n",
       "    </tr>\n",
       "  </thead>\n",
       "  <tbody>\n",
       "    <tr>\n",
       "      <th>0</th>\n",
       "      <td>1</td>\n",
       "      <td>0</td>\n",
       "      <td>3</td>\n",
       "      <td>Braund, Mr. Owen Harris</td>\n",
       "      <td>male</td>\n",
       "      <td>22.0</td>\n",
       "      <td>1</td>\n",
       "      <td>0</td>\n",
       "      <td>A/5 21171</td>\n",
       "      <td>7.2500</td>\n",
       "      <td>NaN</td>\n",
       "      <td>S</td>\n",
       "    </tr>\n",
       "    <tr>\n",
       "      <th>1</th>\n",
       "      <td>2</td>\n",
       "      <td>1</td>\n",
       "      <td>1</td>\n",
       "      <td>Cumings, Mrs. John Bradley (Florence Briggs Th...</td>\n",
       "      <td>female</td>\n",
       "      <td>38.0</td>\n",
       "      <td>1</td>\n",
       "      <td>0</td>\n",
       "      <td>PC 17599</td>\n",
       "      <td>71.2833</td>\n",
       "      <td>C85</td>\n",
       "      <td>C</td>\n",
       "    </tr>\n",
       "    <tr>\n",
       "      <th>2</th>\n",
       "      <td>3</td>\n",
       "      <td>1</td>\n",
       "      <td>3</td>\n",
       "      <td>Heikkinen, Miss. Laina</td>\n",
       "      <td>female</td>\n",
       "      <td>26.0</td>\n",
       "      <td>0</td>\n",
       "      <td>0</td>\n",
       "      <td>STON/O2. 3101282</td>\n",
       "      <td>7.9250</td>\n",
       "      <td>NaN</td>\n",
       "      <td>S</td>\n",
       "    </tr>\n",
       "    <tr>\n",
       "      <th>3</th>\n",
       "      <td>4</td>\n",
       "      <td>1</td>\n",
       "      <td>1</td>\n",
       "      <td>Futrelle, Mrs. Jacques Heath (Lily May Peel)</td>\n",
       "      <td>female</td>\n",
       "      <td>35.0</td>\n",
       "      <td>1</td>\n",
       "      <td>0</td>\n",
       "      <td>113803</td>\n",
       "      <td>53.1000</td>\n",
       "      <td>C123</td>\n",
       "      <td>S</td>\n",
       "    </tr>\n",
       "    <tr>\n",
       "      <th>4</th>\n",
       "      <td>5</td>\n",
       "      <td>0</td>\n",
       "      <td>3</td>\n",
       "      <td>Allen, Mr. William Henry</td>\n",
       "      <td>male</td>\n",
       "      <td>35.0</td>\n",
       "      <td>0</td>\n",
       "      <td>0</td>\n",
       "      <td>373450</td>\n",
       "      <td>8.0500</td>\n",
       "      <td>NaN</td>\n",
       "      <td>S</td>\n",
       "    </tr>\n",
       "    <tr>\n",
       "      <th>...</th>\n",
       "      <td>...</td>\n",
       "      <td>...</td>\n",
       "      <td>...</td>\n",
       "      <td>...</td>\n",
       "      <td>...</td>\n",
       "      <td>...</td>\n",
       "      <td>...</td>\n",
       "      <td>...</td>\n",
       "      <td>...</td>\n",
       "      <td>...</td>\n",
       "      <td>...</td>\n",
       "      <td>...</td>\n",
       "    </tr>\n",
       "    <tr>\n",
       "      <th>886</th>\n",
       "      <td>887</td>\n",
       "      <td>0</td>\n",
       "      <td>2</td>\n",
       "      <td>Montvila, Rev. Juozas</td>\n",
       "      <td>male</td>\n",
       "      <td>27.0</td>\n",
       "      <td>0</td>\n",
       "      <td>0</td>\n",
       "      <td>211536</td>\n",
       "      <td>13.0000</td>\n",
       "      <td>NaN</td>\n",
       "      <td>S</td>\n",
       "    </tr>\n",
       "    <tr>\n",
       "      <th>887</th>\n",
       "      <td>888</td>\n",
       "      <td>1</td>\n",
       "      <td>1</td>\n",
       "      <td>Graham, Miss. Margaret Edith</td>\n",
       "      <td>female</td>\n",
       "      <td>19.0</td>\n",
       "      <td>0</td>\n",
       "      <td>0</td>\n",
       "      <td>112053</td>\n",
       "      <td>30.0000</td>\n",
       "      <td>B42</td>\n",
       "      <td>S</td>\n",
       "    </tr>\n",
       "    <tr>\n",
       "      <th>888</th>\n",
       "      <td>889</td>\n",
       "      <td>0</td>\n",
       "      <td>3</td>\n",
       "      <td>Johnston, Miss. Catherine Helen \"Carrie\"</td>\n",
       "      <td>female</td>\n",
       "      <td>NaN</td>\n",
       "      <td>1</td>\n",
       "      <td>2</td>\n",
       "      <td>W./C. 6607</td>\n",
       "      <td>23.4500</td>\n",
       "      <td>NaN</td>\n",
       "      <td>S</td>\n",
       "    </tr>\n",
       "    <tr>\n",
       "      <th>889</th>\n",
       "      <td>890</td>\n",
       "      <td>1</td>\n",
       "      <td>1</td>\n",
       "      <td>Behr, Mr. Karl Howell</td>\n",
       "      <td>male</td>\n",
       "      <td>26.0</td>\n",
       "      <td>0</td>\n",
       "      <td>0</td>\n",
       "      <td>111369</td>\n",
       "      <td>30.0000</td>\n",
       "      <td>C148</td>\n",
       "      <td>C</td>\n",
       "    </tr>\n",
       "    <tr>\n",
       "      <th>890</th>\n",
       "      <td>891</td>\n",
       "      <td>0</td>\n",
       "      <td>3</td>\n",
       "      <td>Dooley, Mr. Patrick</td>\n",
       "      <td>male</td>\n",
       "      <td>32.0</td>\n",
       "      <td>0</td>\n",
       "      <td>0</td>\n",
       "      <td>370376</td>\n",
       "      <td>7.7500</td>\n",
       "      <td>NaN</td>\n",
       "      <td>Q</td>\n",
       "    </tr>\n",
       "  </tbody>\n",
       "</table>\n",
       "<p>891 rows × 12 columns</p>\n",
       "</div>"
      ],
      "text/plain": [
       "    PassengerId  Survived  Pclass  \\\n",
       "0             1         0       3   \n",
       "1             2         1       1   \n",
       "2             3         1       3   \n",
       "3             4         1       1   \n",
       "4             5         0       3   \n",
       "..          ...       ...     ...   \n",
       "886         887         0       2   \n",
       "887         888         1       1   \n",
       "888         889         0       3   \n",
       "889         890         1       1   \n",
       "890         891         0       3   \n",
       "\n",
       "                                                  Name     Sex   Age  SibSp  \\\n",
       "0                              Braund, Mr. Owen Harris    male  22.0      1   \n",
       "1    Cumings, Mrs. John Bradley (Florence Briggs Th...  female  38.0      1   \n",
       "2                               Heikkinen, Miss. Laina  female  26.0      0   \n",
       "3         Futrelle, Mrs. Jacques Heath (Lily May Peel)  female  35.0      1   \n",
       "4                             Allen, Mr. William Henry    male  35.0      0   \n",
       "..                                                 ...     ...   ...    ...   \n",
       "886                              Montvila, Rev. Juozas    male  27.0      0   \n",
       "887                       Graham, Miss. Margaret Edith  female  19.0      0   \n",
       "888           Johnston, Miss. Catherine Helen \"Carrie\"  female   NaN      1   \n",
       "889                              Behr, Mr. Karl Howell    male  26.0      0   \n",
       "890                                Dooley, Mr. Patrick    male  32.0      0   \n",
       "\n",
       "     Parch            Ticket     Fare Cabin Embarked  \n",
       "0        0         A/5 21171   7.2500   NaN        S  \n",
       "1        0          PC 17599  71.2833   C85        C  \n",
       "2        0  STON/O2. 3101282   7.9250   NaN        S  \n",
       "3        0            113803  53.1000  C123        S  \n",
       "4        0            373450   8.0500   NaN        S  \n",
       "..     ...               ...      ...   ...      ...  \n",
       "886      0            211536  13.0000   NaN        S  \n",
       "887      0            112053  30.0000   B42        S  \n",
       "888      2        W./C. 6607  23.4500   NaN        S  \n",
       "889      0            111369  30.0000  C148        C  \n",
       "890      0            370376   7.7500   NaN        Q  \n",
       "\n",
       "[891 rows x 12 columns]"
      ]
     },
     "execution_count": 158,
     "metadata": {},
     "output_type": "execute_result"
    }
   ],
   "source": [
    "titanic_df"
   ]
  },
  {
   "cell_type": "markdown",
   "metadata": {
    "slideshow": {
     "slide_type": "subslide"
    }
   },
   "source": [
    "**Problem 3c** \n",
    "\n",
    "Are there any features that *obviously* will not help with this classification problem?\n",
    "\n",
    "*If you answer yes - ignore those features moving forward*"
   ]
  },
  {
   "cell_type": "markdown",
   "metadata": {
    "slideshow": {
     "slide_type": "subslide"
    }
   },
   "source": [
    "**Solution 3c**\n",
    "\n",
    "*write your solution here*"
   ]
  },
  {
   "cell_type": "markdown",
   "metadata": {
    "slideshow": {
     "slide_type": "slide"
    }
   },
   "source": [
    "Given that we have both categorical and numeric features, let's start with the numerical features and see how well they can predict survival on the Titanic.\n",
    "\n",
    "One note - for now we are going to exclude `Age`, because as you saw when you examined the data, there are some passengers that do not have any age information. This problem, known as \"missing data\" is one that we will deal with before the end of this problem."
   ]
  },
  {
   "cell_type": "markdown",
   "metadata": {
    "slideshow": {
     "slide_type": "subslide"
    }
   },
   "source": [
    "**Problem 3d**\n",
    "\n",
    "How accurately can the numeric features, `Pclass`, `SibSp`, `Parch`, and `Fare` predict survival on the Titanic? Use a $k = 7$ Nearest Neighbors model, and estimate the model accuracy using 10-fold cross validation. \n",
    "\n",
    "*Hint 1 - you'll want to redefine your features vector `X`*\n",
    "\n",
    "*Hint 2 - you may find [`cross_val_score`](https://scikit-learn.org/stable/modules/generated/sklearn.model_selection.cross_val_score.html) from `scikit-learn` helpful*"
   ]
  },
  {
   "cell_type": "code",
   "execution_count": 210,
   "metadata": {
    "slideshow": {
     "slide_type": "subslide"
    }
   },
   "outputs": [
    {
     "name": "stdout",
     "output_type": "stream",
     "text": [
      "['PassengerId', 'Survived', 'Pclass', 'Name', 'Sex', 'Age', 'SibSp', 'Parch', 'Ticket', 'Fare', 'Cabin', 'Embarked', 'Gender']\n",
      "     Pclass  SibSp  Parch     Fare Gender\n",
      "0         3      1      0   7.2500      1\n",
      "1         1      1      0  71.2833      2\n",
      "2         3      0      0   7.9250      2\n",
      "3         1      1      0  53.1000      2\n",
      "4         3      0      0   8.0500      1\n",
      "..      ...    ...    ...      ...    ...\n",
      "886       2      0      0  13.0000      1\n",
      "887       1      0      0  30.0000      2\n",
      "888       3      1      2  23.4500      2\n",
      "889       1      0      0  30.0000      1\n",
      "890       3      0      0   7.7500      1\n",
      "\n",
      "[891 rows x 5 columns]\n",
      "The accuracy from numeric features = 74.42%\n"
     ]
    }
   ],
   "source": [
    "from sklearn.model_selection import cross_val_score\n",
    "\n",
    "feat_list = list(titanic_df.columns)\n",
    "print(feat_list)\n",
    "feat_list.remove('PassengerId')\n",
    "feat_list.remove('Survived')\n",
    "feat_list.remove('Name')\n",
    "feat_list.remove('Sex')\n",
    "feat_list.remove('Age')\n",
    "feat_list.remove('Ticket')\n",
    "feat_list.remove('Cabin')\n",
    "feat_list.remove('Embarked')\n",
    "\n",
    "\n",
    "\n",
    "X = titanic_df[feat_list] # complete\n",
    "print(X)\n",
    "\n",
    "knn_clf = KNeighborsClassifier(n_neighbors=10) # complete\n",
    "\n",
    "cv_results = cross_val_score(knn_clf, X, y) # complete\n",
    "\n",
    "print('The accuracy from numeric features = {:.2f}%'.format(100*np.mean(cv_results)))"
   ]
  },
  {
   "cell_type": "markdown",
   "metadata": {
    "slideshow": {
     "slide_type": "slide"
    }
   },
   "source": [
    "An accuracy of 68% isn't particularly inspiring. But, there's a lot of important information that we are excluding. As far as the Titanic is concerned, Kate and Leo taught us that [female passengers are far more likely to survive](https://qph.fs.quoracdn.net/main-qimg-93eb36091c7eec872b891fa51dc5722b), while [male passengers are not](http://hoycinema.abc.es/Media/201602/03/titanic-kate-dicaprio--644x362.jpg). So, if we can include gender in the model then we may be able to achieve more accurate predictions. "
   ]
  },
  {
   "cell_type": "markdown",
   "metadata": {
    "slideshow": {
     "slide_type": "subslide"
    }
   },
   "source": [
    "**Problem 3e**\n",
    "\n",
    "Create a new feature called `gender` that equals 1 for male passengers and 2 for female passengers. Add this feature to your dataframe, and include it in a `kNN` model with the other numeric features. Does the inclusion of this feature improve the 10-fold CV accuracy?"
   ]
  },
  {
   "cell_type": "code",
   "execution_count": 211,
   "metadata": {
    "slideshow": {
     "slide_type": "subslide"
    }
   },
   "outputs": [
    {
     "name": "stdout",
     "output_type": "stream",
     "text": [
      "    PassengerId  Survived  Pclass  \\\n",
      "0             1         0       3   \n",
      "1             2         1       1   \n",
      "2             3         1       3   \n",
      "3             4         1       1   \n",
      "4             5         0       3   \n",
      "..          ...       ...     ...   \n",
      "886         887         0       2   \n",
      "887         888         1       1   \n",
      "888         889         0       3   \n",
      "889         890         1       1   \n",
      "890         891         0       3   \n",
      "\n",
      "                                                  Name Sex   Age  SibSp  \\\n",
      "0                              Braund, Mr. Owen Harris   1  22.0      1   \n",
      "1    Cumings, Mrs. John Bradley (Florence Briggs Th...   2  38.0      1   \n",
      "2                               Heikkinen, Miss. Laina   2  26.0      0   \n",
      "3         Futrelle, Mrs. Jacques Heath (Lily May Peel)   2  35.0      1   \n",
      "4                             Allen, Mr. William Henry   1  35.0      0   \n",
      "..                                                 ...  ..   ...    ...   \n",
      "886                              Montvila, Rev. Juozas   1  27.0      0   \n",
      "887                       Graham, Miss. Margaret Edith   2  19.0      0   \n",
      "888           Johnston, Miss. Catherine Helen \"Carrie\"   2   NaN      1   \n",
      "889                              Behr, Mr. Karl Howell   1  26.0      0   \n",
      "890                                Dooley, Mr. Patrick   1  32.0      0   \n",
      "\n",
      "     Parch            Ticket     Fare Cabin Embarked Gender  \n",
      "0        0         A/5 21171   7.2500   NaN        S      1  \n",
      "1        0          PC 17599  71.2833   C85        C      2  \n",
      "2        0  STON/O2. 3101282   7.9250   NaN        S      2  \n",
      "3        0            113803  53.1000  C123        S      2  \n",
      "4        0            373450   8.0500   NaN        S      1  \n",
      "..     ...               ...      ...   ...      ...    ...  \n",
      "886      0            211536  13.0000   NaN        S      1  \n",
      "887      0            112053  30.0000   B42        S      2  \n",
      "888      2        W./C. 6607  23.4500   NaN        S      2  \n",
      "889      0            111369  30.0000  C148        C      1  \n",
      "890      0            370376   7.7500   NaN        Q      1  \n",
      "\n",
      "[891 rows x 13 columns]\n",
      "['Gender', 'Pclass', 'SibSp', 'Parch', 'Fare', 'Gender']\n",
      "The accuracy when including gender = 74.75%\n"
     ]
    }
   ],
   "source": [
    "# gender = # complete\n",
    "# # complete\n",
    "\n",
    "titanic_df.loc[titanic_df[\"Sex\"] == \"male\", \"Sex\"] = 1\n",
    "titanic_df.loc[titanic_df[\"Sex\"] == \"female\", \"Sex\"] = 2\n",
    "\n",
    "titanic_df['Gender'] = titanic_df.Sex\n",
    "print(titanic_df)\n",
    "\n",
    "feat_list.insert(0, 'Gender')\n",
    "print(feat_list)\n",
    "\n",
    "X = titanic_df[feat_list] # complete\n",
    "\n",
    "cv_results = cross_val_score(knn_clf, X, y) # complete\n",
    "\n",
    "print('The accuracy when including gender = {:.2f}%'.format(100*np.mean(cv_results)))"
   ]
  },
  {
   "cell_type": "markdown",
   "metadata": {
    "slideshow": {
     "slide_type": "slide"
    }
   },
   "source": [
    "A 14% improvement is pretty good! But, we can wrangle even more out of the gender feature. Recall that `kNN` models measure the Euclidean distance between sources, meaning the scale of each feature really matters. Given that the fare ranges from 0 up to 512.3292, the `kNN` model will see this feature as far more important than `gender`, for no other reason than the units that have been adopted. \n",
    "\n",
    "If women are far more likely to survive than men, then we want to be sure that gender is weighted at least the same as all the other features, which we can do with a minmax scaler. As a brief reminder - a minmax scaler scales all values of a feature to be between 0 and 1 by subtracting the minimum value of each feature and then dividing by the maximum minus the minimum. "
   ]
  },
  {
   "cell_type": "markdown",
   "metadata": {
    "slideshow": {
     "slide_type": "subslide"
    }
   },
   "source": [
    "**Problem 3f**\n",
    "\n",
    "Scale all the features from the previous problem using a minmax scaler and evaluate the CV accuracy of the `kNN` model.\n",
    "\n",
    "*Hint - you may find [`MinMaxScaler`](https://scikit-learn.org/stable/modules/generated/sklearn.preprocessing.MinMaxScaler.html) helpful*"
   ]
  },
  {
   "cell_type": "code",
   "execution_count": 212,
   "metadata": {
    "slideshow": {
     "slide_type": "subslide"
    }
   },
   "outputs": [
    {
     "name": "stdout",
     "output_type": "stream",
     "text": [
      "The accuracy when scaling features = 79.80%\n"
     ]
    }
   ],
   "source": [
    "from sklearn.preprocessing import MinMaxScaler\n",
    "\n",
    "scaler = MinMaxScaler()\n",
    "scaler.fit(X)\n",
    "Xminmax = scaler.transform(X)\n",
    "\n",
    "knn_clf = KNeighborsClassifier(n_neighbors=10) # complete\n",
    "\n",
    "cv_results = cross_val_score(knn_clf, Xminmax, y) # complete\n",
    "\n",
    "print('The accuracy when scaling features = {:.2f}%'.format(100*np.mean(cv_results)))"
   ]
  },
  {
   "cell_type": "markdown",
   "metadata": {
    "slideshow": {
     "slide_type": "slide"
    }
   },
   "source": [
    "Scaling the features leads to further improvement!\n",
    "\n",
    "Now turn your attention to another categorical feature, `Embarked`, which includes the point of origin for each passenger and has three categories, `S`, `Q`, and `C`. We need to convert these values to a numeric representation for inclusion in the model."
   ]
  },
  {
   "cell_type": "markdown",
   "metadata": {
    "slideshow": {
     "slide_type": "subslide"
    }
   },
   "source": [
    "**Problem 3g**\n",
    "\n",
    "Convert the categorical feature `Embarked` to a numeric representation, and add it to the `titanic_df`."
   ]
  },
  {
   "cell_type": "code",
   "execution_count": 214,
   "metadata": {
    "slideshow": {
     "slide_type": "subslide"
    }
   },
   "outputs": [
    {
     "name": "stdout",
     "output_type": "stream",
     "text": [
      "    PassengerId  Survived  Pclass  \\\n",
      "0             1         0       3   \n",
      "1             2         1       1   \n",
      "2             3         1       3   \n",
      "3             4         1       1   \n",
      "4             5         0       3   \n",
      "..          ...       ...     ...   \n",
      "886         887         0       2   \n",
      "887         888         1       1   \n",
      "888         889         0       3   \n",
      "889         890         1       1   \n",
      "890         891         0       3   \n",
      "\n",
      "                                                  Name Sex   Age  SibSp  \\\n",
      "0                              Braund, Mr. Owen Harris   1  22.0      1   \n",
      "1    Cumings, Mrs. John Bradley (Florence Briggs Th...   2  38.0      1   \n",
      "2                               Heikkinen, Miss. Laina   2  26.0      0   \n",
      "3         Futrelle, Mrs. Jacques Heath (Lily May Peel)   2  35.0      1   \n",
      "4                             Allen, Mr. William Henry   1  35.0      0   \n",
      "..                                                 ...  ..   ...    ...   \n",
      "886                              Montvila, Rev. Juozas   1  27.0      0   \n",
      "887                       Graham, Miss. Margaret Edith   2  19.0      0   \n",
      "888           Johnston, Miss. Catherine Helen \"Carrie\"   2   NaN      1   \n",
      "889                              Behr, Mr. Karl Howell   1  26.0      0   \n",
      "890                                Dooley, Mr. Patrick   1  32.0      0   \n",
      "\n",
      "     Parch            Ticket     Fare Cabin Embarked Gender Porigin  \n",
      "0        0         A/5 21171   7.2500   NaN        1      1       1  \n",
      "1        0          PC 17599  71.2833   C85        0      2       0  \n",
      "2        0  STON/O2. 3101282   7.9250   NaN        1      2       1  \n",
      "3        0            113803  53.1000  C123        1      2       1  \n",
      "4        0            373450   8.0500   NaN        1      1       1  \n",
      "..     ...               ...      ...   ...      ...    ...     ...  \n",
      "886      0            211536  13.0000   NaN        1      1       1  \n",
      "887      0            112053  30.0000   B42        1      2       1  \n",
      "888      2        W./C. 6607  23.4500   NaN        1      2       1  \n",
      "889      0            111369  30.0000  C148        0      1       0  \n",
      "890      0            370376   7.7500   NaN        2      1       2  \n",
      "\n",
      "[891 rows x 14 columns]\n"
     ]
    }
   ],
   "source": [
    "# following previous example, set C = 0, S = 1, Q = 2\n",
    "\n",
    "# porigin = # complete\n",
    "# complete\n",
    "# complete\n",
    "# complete\n",
    "\n",
    "titanic_df.loc[titanic_df['Embarked'] == 'C', 'Embarked'] = 0\n",
    "titanic_df.loc[titanic_df['Embarked'] == 'S', 'Embarked'] = 1\n",
    "titanic_df.loc[titanic_df['Embarked'] == 'Q', 'Embarked'] = 2\n",
    "titanic_df['Porigin'] = titanic_df.Embarked\n",
    "print(titanic_df)\n",
    "\n",
    "# titanic_df['porigin'] = porigin"
   ]
  },
  {
   "cell_type": "markdown",
   "metadata": {
    "slideshow": {
     "slide_type": "slide"
    }
   },
   "source": [
    "But wait! Does this actually make sense?\n",
    "\n",
    "Our \"numerification\" has now introduced order where there previously was none. We are effectively telling the model that Cherbourg and Queenstown are far apart (not in distance but in terms of the similarity of the passengers that boarded the ship in each location), while each are equally close to Southampton. Is there actually any evidence to support this conclusion? "
   ]
  },
  {
   "cell_type": "markdown",
   "metadata": {
    "slideshow": {
     "slide_type": "subslide"
    }
   },
   "source": [
    "By definition categorical features do not have order (e.g., cat, dog, horse, elephant), and therefore we should not impose any when converting these features to numeric values for inclusion in our model. Instead, we should be creating a new set of binary features for every category within the feature set. Thus, `Embarked` will now need to be represented by 3 different features, where the feature `Queenstown` equals one for passengers that boarded there and zero for everyone else. "
   ]
  },
  {
   "cell_type": "markdown",
   "metadata": {
    "slideshow": {
     "slide_type": "subslide"
    }
   },
   "source": [
    "**Problem 3h**\n",
    "\n",
    "Complete the function below that will automatically create binary arrays for a categorical feature."
   ]
  },
  {
   "cell_type": "code",
   "execution_count": null,
   "metadata": {
    "slideshow": {
     "slide_type": "subslide"
    }
   },
   "outputs": [],
   "source": [
    "def create_bin_cat_feats(feature_array):\n",
    "    categories = np.unique(feature_array)\n",
    "    feat_dict = {}\n",
    "    for cat in categories:\n",
    "        # complete\n",
    "        # complete\n",
    "        # complete\n",
    "    return feat_dict"
   ]
  },
  {
   "cell_type": "markdown",
   "metadata": {
    "slideshow": {
     "slide_type": "slide"
    }
   },
   "source": [
    "**Problem 3i**\n",
    "\n",
    "Use the `create_bin_cat_feats` function to convert the `Embarked` and `Sex` categorical features to a numeric representation (yes we need to do this for `Sex` as well where we otherwise previously introduced order). Add these features to the `titanic_df` data frame."
   ]
  },
  {
   "cell_type": "code",
   "execution_count": null,
   "metadata": {
    "slideshow": {
     "slide_type": "subslide"
    }
   },
   "outputs": [],
   "source": [
    "gender_dict = create_bin_cat_feats( # complete\n",
    "porigin_dict = create_bin_cat_feats( # complete\n",
    "\n",
    "for feat in gender_dict.keys():\n",
    "    titanic_df[feat] = gender_dict[feat]\n",
    "    \n",
    "for feat in porigin_dict.keys():\n",
    "    titanic_df[feat] = porigin_dict[feat]"
   ]
  },
  {
   "cell_type": "markdown",
   "metadata": {
    "slideshow": {
     "slide_type": "slide"
    }
   },
   "source": [
    "**Problem 3j**\n",
    "\n",
    "Use the newly created `female`, `male`, `S`, `Q`, and `C` features in combination with the `Pclass`, `SibSp`, `Parch`, and `Fare` features to estimate the classification accuracy of a $k = 7$ nearest neighbors model with 10-fold cross validation.\n",
    "\n",
    "How does the addition of the point of origin feature affect the final model output?\n",
    "\n",
    "*Hint - don't forget to scale the features in the model*"
   ]
  },
  {
   "cell_type": "code",
   "execution_count": null,
   "metadata": {
    "slideshow": {
     "slide_type": "subslide"
    }
   },
   "outputs": [],
   "source": [
    "from sklearn.preprocessing import MinMaxScaler\n",
    "\n",
    "X = # complete\n",
    "\n",
    "scaler = MinMaxScaler()\n",
    "scaler.fit(X)\n",
    "Xminmax = scaler.transform(X)\n",
    "\n",
    "cv_results = cross_val_score( # complete\n",
    "\n",
    "print('The accuracy with categorical features = {:.2f}%'.format(100*np.mean(cv_results)))"
   ]
  },
  {
   "cell_type": "markdown",
   "metadata": {
    "slideshow": {
     "slide_type": "slide"
    }
   },
   "source": [
    "The last thing we'd like to add to the model is the `Age` feature. Unfortunately, for 177 passengers we do not have a reported value for their age. This is a standard issue when building models known as \"missing data\" and this happens in astronomy all the time (for example, LSST is going to observe millions of L and T dwarfs that are easily detected in the $y$-band, but which will not have a detection in $u$-band)."
   ]
  },
  {
   "cell_type": "markdown",
   "metadata": {
    "slideshow": {
     "slide_type": "subslide"
    }
   },
   "source": [
    "There are several different strategies for dealing with missing data. The first and most straightforward is to simply remove observations with missing data (note - to simplify this example I already did this by removing the 2 passengers from the training set that did not have an entry for `Embarked`). \n",
    "\n",
    "This strategy is perfectly fine if only a few sources have missing information (2/891 for `Embarked` - and none of the test set sources are missing `Embarked`). If, however, a significant fraction are missing data, this strategy would remove a lot of useful data from the model."
   ]
  },
  {
   "cell_type": "markdown",
   "metadata": {
    "slideshow": {
     "slide_type": "subslide"
    }
   },
   "source": [
    "If you cannot remove the sources with missing data, then it is essential to ask the following question: \n",
    "\n",
    "Does the missing information have meaning? \n",
    "\n",
    "In the LSST L/T dwarf example, the lack of a $u$-band detection is meaningful: these stars are too faint for LSST. When this is the case, an indicator value (e.g., -999) allows the model to recognize the non-detection. "
   ]
  },
  {
   "cell_type": "markdown",
   "metadata": {
    "slideshow": {
     "slide_type": "subslide"
    }
   },
   "source": [
    "For the Titanic data, the lack of age information is not meaningful. Simply put, there are some passengers that did not have recorded ages. We will now show this to be the case. "
   ]
  },
  {
   "cell_type": "markdown",
   "metadata": {
    "slideshow": {
     "slide_type": "subslide"
    }
   },
   "source": [
    "**Problem 3k**\n",
    "\n",
    "Replace the unknown ages with a value of -999, and estimate the accuracy of the model via 10-fold cross validation."
   ]
  },
  {
   "cell_type": "code",
   "execution_count": null,
   "metadata": {
    "slideshow": {
     "slide_type": "subslide"
    }
   },
   "outputs": [],
   "source": [
    "age_impute = # complete\n",
    "# complete\n",
    "\n",
    "titanic_df['age_impute'] = age_impute\n",
    "\n",
    "X = # complete\n",
    "\n",
    "scaler = MinMaxScaler()\n",
    "scaler.fit(X)\n",
    "Xminmax = scaler.transform(X)\n",
    "\n",
    "cv_results = cross_val_score( # complete\n",
    "\n",
    "print('The accuracy with -999 for missing ages = {:.2f}%'.format(100*np.mean(cv_results)))"
   ]
  },
  {
   "cell_type": "markdown",
   "metadata": {
    "slideshow": {
     "slide_type": "slide"
    }
   },
   "source": [
    "The accuracy of the model hasn't improved by adding the age information (even though we know children were more likely to survive than adults). \n",
    "\n",
    "Given that the missing ages don't have meaning, we need to develop alternative strategies for \"imputing\" the missing data. The most simple approach in this regard is to replace the missing values with the mean value of the feature distribution for sources that do have measurements (use the median if the distribution has significant outliers).  "
   ]
  },
  {
   "cell_type": "markdown",
   "metadata": {
    "slideshow": {
     "slide_type": "subslide"
    }
   },
   "source": [
    "**Problem 3l**\n",
    "\n",
    "Replace the unknown ages with the mean age of passengers, and estiamte the accuracy of the model via 10-fold cross validation."
   ]
  },
  {
   "cell_type": "code",
   "execution_count": null,
   "metadata": {
    "slideshow": {
     "slide_type": "subslide"
    }
   },
   "outputs": [],
   "source": [
    "age_impute = # complete\n",
    "# complete\n",
    "\n",
    "titanic_df['age_impute'] = age_impute\n",
    "\n",
    "X = # complete\n",
    "\n",
    "scaler = MinMaxScaler()\n",
    "scaler.fit(X)\n",
    "Xminmax = scaler.transform(X)\n",
    "\n",
    "cv_results = cross_val_score( # complete\n",
    "\n",
    "print('The accuracy with the mean for missing ages = {:.2f}%'.format(100*np.mean(cv_results)))"
   ]
  },
  {
   "cell_type": "markdown",
   "metadata": {
    "slideshow": {
     "slide_type": "slide"
    }
   },
   "source": [
    "Using the mean age for missing values provides a marginal improvement over the models with no age information. Is there anything else we can do? Yes - we can build a machine learning model to predict the values of the missing data. So there will be a machine learning model within the final machine learning model. In order to predict ages, we will need to build a regression model. Simple algorithms include Linear or Logistic Regression, while more complex examples include `kNN` or random forest regression.\n",
    "\n",
    "I quickly tested the above four methods, and found that the `scikit-learn` [`LinearRegression`](https://scikit-learn.org/stable/modules/generated/sklearn.linear_model.LinearRegression.html#sklearn.linear_model.LinearRegression) performs best when using the model defaults."
   ]
  },
  {
   "cell_type": "markdown",
   "metadata": {
    "slideshow": {
     "slide_type": "subslide"
    }
   },
   "source": [
    "**Problem 3m**\n",
    "\n",
    "Build a `LinearRegression` model to predict a passenger's age based on the `Pclass`, `SibSp`, `Parch`, `Fare`, `female`, `male`, `S`, `Q`, `C` features. The model should be trained with passengers that have known ages. Use 10-fold cross validation to determine the performance of this model.\n",
    "\n",
    "*Hint - note that for regression models the typical metric of evaluation is the [mean squared error](https://en.wikipedia.org/wiki/Mean_squared_error), and that for consistency within the `scikit-learn` API, the [negative mean squared error is returned rather than the mean squared error](https://scikit-learn.org/stable/modules/model_evaluation.html#common-cases-predefined-values).*"
   ]
  },
  {
   "cell_type": "code",
   "execution_count": null,
   "metadata": {
    "slideshow": {
     "slide_type": "subslide"
    }
   },
   "outputs": [],
   "source": [
    "from sklearn.linear_model import LinearRegression\n",
    "\n",
    "has_ages = np.where(np.isfinite(titanic_df['Age']))[0]\n",
    "\n",
    "impute_X_train = # complete\n",
    "impute_y_train = # complete\n",
    "\n",
    "scaler = MinMaxScaler()\n",
    "scaler.fit(impute_X_train)\n",
    "Xminmax = scaler.transform(impute_X_train)\n",
    "\n",
    "lr_age = LinearRegression().fit( # complete\n",
    "\n",
    "cv_results = cross_val_score(LinearRegression(), Xminmax, impute_y_train, cv=10, scoring='neg_mean_squared_error')\n",
    "\n",
    "print('Missing ages have RMSE = {:.2f}'.format(np.mean((-1*cv_results)**0.5)))"
   ]
  },
  {
   "cell_type": "markdown",
   "metadata": {
    "slideshow": {
     "slide_type": "slide"
    }
   },
   "source": [
    "**Problem 3n**\n",
    "\n",
    "Use the age regression model to predict the ages for passengers with missing data."
   ]
  },
  {
   "cell_type": "code",
   "execution_count": null,
   "metadata": {
    "slideshow": {
     "slide_type": "subslide"
    }
   },
   "outputs": [],
   "source": [
    "missing_ages = np.where(np.isnan(titanic_df['Age']))[0]\n",
    "\n",
    "impute_X_missing = # complete\n",
    "\n",
    "X_missing_minmax = scaler.transform(impute_X_missing)\n",
    "\n",
    "age_preds = lr_age.predict(X_missing_minmax)"
   ]
  },
  {
   "cell_type": "markdown",
   "metadata": {
    "slideshow": {
     "slide_type": "slide"
    }
   },
   "source": [
    "**Problem 3o**\n",
    "\n",
    "Use the imputed age estimates to predict the passenger survival via 10-fold cross validation."
   ]
  },
  {
   "cell_type": "code",
   "execution_count": null,
   "metadata": {
    "slideshow": {
     "slide_type": "subslide"
    }
   },
   "outputs": [],
   "source": [
    "age_impute = titanic_df['Age'].copy().values\n",
    "age_impute[missing_ages] = # complete\n",
    "\n",
    "titanic_df['age_impute'] = age_impute\n",
    "\n",
    "X = # complete\n",
    "\n",
    "scaler = MinMaxScaler()\n",
    "scaler.fit(X)\n",
    "Xminmax = scaler.transform(X)\n",
    "\n",
    "cv_results = cross_val_score( # complete\n",
    "\n",
    "print('The accuracy with the mean for missing ages = {:.2f}%'.format(100*np.mean(cv_results)))"
   ]
  },
  {
   "cell_type": "markdown",
   "metadata": {
    "slideshow": {
     "slide_type": "slide"
    }
   },
   "source": [
    "As far as ages are concerned, imputation of the missing data does not significantly improve the model.\n",
    "\n",
    "Which brings us to the concluding lesson in wrangling the Titanic data - not every piece of information is *useful*. This is critical to remember when building machine learning models. "
   ]
  },
  {
   "cell_type": "markdown",
   "metadata": {
    "slideshow": {
     "slide_type": "subslide"
    }
   },
   "source": [
    "(As a quick aside - it wouldn't be entirely fair to say there is no useful information in the age feature. It is clear, for example, that \"children,\" i.e. those with Age < 10, had a much higher probability of survival than adults. Perhaps the creation of a `child` feature based on age would improve the model... or using the age in combination with other features, e.g., `Age`x`Pclass` which will further highlight that 1st class passengers were more likely to survive than 3rd class passengers)"
   ]
  },
  {
   "cell_type": "markdown",
   "metadata": {
    "slideshow": {
     "slide_type": "subslide"
    }
   },
   "source": [
    "Finally - note that you can try to build a model and submit it to Kaggle to see how well you preform on blind data. \n",
    "\n",
    "https://www.kaggle.com/c/titanic - the classifications are not revealed, but from the [leaderboard](https://www.kaggle.com/c/titanic/leaderboard) it is clear that some people were able to build models that perfectly classified the blind data."
   ]
  },
  {
   "cell_type": "markdown",
   "metadata": {
    "slideshow": {
     "slide_type": "slide"
    }
   },
   "source": [
    "## Problem 4) Wrangling an astro machine learning model"
   ]
  },
  {
   "cell_type": "markdown",
   "metadata": {
    "slideshow": {
     "slide_type": "slide"
    }
   },
   "source": [
    "Now we will put together the above examples to work on an astronomical problem of great importance for LSST: photometric redshifts. As we have previously discussed, LSST will observe many, many, many, many more galaxies than we can possibly observe with spectroscopic instruments. As a result, the vast majority of the galaxies observed by LSST will not have precise redshift estimates, and instead we will need to estimate redshifts via photometry alone. "
   ]
  },
  {
   "cell_type": "markdown",
   "metadata": {
    "slideshow": {
     "slide_type": "subslide"
    }
   },
   "source": [
    "This week we have heard a lot about `SDSS CasJobs`, and for today's problem we will use 50,000 SDSS sources with spectroscopic measurements to train a machine learning model to estimate redshifts from photometry. The following query was used to generate this training set: \n",
    "\n",
    "    select top 50000 s.specObjID, s.z, s.type,\n",
    "       psfMag_u, psfMag_g, psfMag_r, psfMag_i, psfMag_z, \n",
    "       modelMag_u, modelMag_g, modelMag_r, modelMag_i, modelMag_z,\n",
    "       extinction_u, extinction_g, extinction_r, extinction_i, extinction_z,\n",
    "       w.w1mpro, w1snr, w.w2mpro, w2snr, w.w3mpro, w3snr, w.w4mpro, w4snr\n",
    "       from specphotoall s \n",
    "         join (WISE_xmatch wx  \n",
    "           join WISE_allsky w on wx.wise_cntr = w.cntr) on s.objid = wx.sdss_objid"
   ]
  },
  {
   "cell_type": "markdown",
   "metadata": {
    "slideshow": {
     "slide_type": "subslide"
    }
   },
   "source": [
    "A few notes about the data: `specObjID` is the SDSS identifier, `z` is the redshift, `type` is the photometric type (\"ps\" for point source or \"ext\" for extended), `psfMag` is the SDSS PSF mag in each filter, `modelMag` is the aperture-matched model mag in each filter, `extinction` is the SFD extinction estimate, `w?mpro` is the [WISE](https://www.nasa.gov/mission_pages/WISE/main/index.html) satellite mid-IR magnitude in the W1, W2, W3, and W4 bands, and `w?msnr` is the SNR in each of the respective filters. "
   ]
  },
  {
   "cell_type": "markdown",
   "metadata": {
    "slideshow": {
     "slide_type": "skip"
    }
   },
   "source": [
    "*quick aside* - the SDSS photometric type is reported as either 6 or 3, and, for convenience, I have converted these to 'ps' and 'ext' in the file used for the problem below."
   ]
  },
  {
   "cell_type": "markdown",
   "metadata": {
    "slideshow": {
     "slide_type": "subslide"
    }
   },
   "source": [
    "**Important note** - not every SDSS source will have detections in each of the WISE filters. If `w?msnr` < 2, then the `w?mpro` number represents an upper limit, *not* a detection (i.e., these are cases with missing data)."
   ]
  },
  {
   "cell_type": "markdown",
   "metadata": {
    "slideshow": {
     "slide_type": "slide"
    }
   },
   "source": [
    "**Problem 4a**\n",
    "\n",
    "Read the SDSS training set data – in a file called `DSFP_SDSS_spec_train.csv` – into either a `pandas` DataFrame or `astropy` Table."
   ]
  },
  {
   "cell_type": "code",
   "execution_count": null,
   "metadata": {
    "slideshow": {
     "slide_type": "subslide"
    }
   },
   "outputs": [],
   "source": [
    "sdss = pd.read_csv(\"DSFP_SDSS_spec_train.csv\")\n",
    "sdss[:5]"
   ]
  },
  {
   "cell_type": "markdown",
   "metadata": {
    "slideshow": {
     "slide_type": "slide"
    }
   },
   "source": [
    "**Problem 4b**\n",
    "\n",
    "Are there categorical features in the dataset? If yes, convert the categorical features for use in machine learning models.\n",
    "\n",
    "*Hint* - recall **Problem 3h** and **3i**."
   ]
  },
  {
   "cell_type": "code",
   "execution_count": null,
   "metadata": {
    "slideshow": {
     "slide_type": "subslide"
    }
   },
   "outputs": [],
   "source": [
    "type_dict = create_bin_cat_feats( # complete\n",
    "\n",
    "# complete\n",
    "# complete"
   ]
  },
  {
   "cell_type": "markdown",
   "metadata": {
    "slideshow": {
     "slide_type": "slide"
    }
   },
   "source": [
    "**Problem 4c**\n",
    "\n",
    "Is there missing data in the training set? If yes, how will you deal these data? \n",
    "\n",
    "*Hint* - you were already told there is missing data."
   ]
  },
  {
   "cell_type": "code",
   "execution_count": null,
   "metadata": {
    "slideshow": {
     "slide_type": "subslide"
    }
   },
   "outputs": [],
   "source": [
    "# WISE non-detections have SNR < 2\n",
    "\n",
    "for wsnr in ['w1snr', 'w2snr', 'w3snr', 'w4snr']:\n",
    "    frac_missing = # complete\n",
    "    print('{:.2f}% of the obs in {} are non-detections'.format(100*frac_missing, wsnr[0:2]))"
   ]
  },
  {
   "cell_type": "markdown",
   "metadata": {
    "slideshow": {
     "slide_type": "subslide"
    }
   },
   "source": [
    "Given that there are obs missing in each filter, with a substantial number missing in W3 and W4, we will create a new categorical variable for detection in each filter. We will also replace \"upper limits\" with -9.99 (do this in the cell below).\n",
    "\n",
    "(Alternative strategies that could prove worthwhile include: removing W3 and W4 as they are largely missing, imputing the missing values for non-detections, or removing individual sources with non-detections. This last choice would really cut the training set). "
   ]
  },
  {
   "cell_type": "code",
   "execution_count": null,
   "metadata": {
    "slideshow": {
     "slide_type": "subslide"
    }
   },
   "outputs": [],
   "source": [
    "for filt in ['w1', 'w2', 'w3', 'w4']:\n",
    "    det = np.ones(len(sdss)).astype(int)\n",
    "    det[np.where(sdss['{}snr'.format(filt)] < 2)] = 0\n",
    "    sdss['{}det'.format(filt)] = det\n",
    "    mag = sdss['{}mpro'.format(filt)].values\n",
    "    mag[det == 0] = -9.99\n",
    "    sdss['{}mag'.format(filt)] = mag"
   ]
  },
  {
   "cell_type": "markdown",
   "metadata": {
    "slideshow": {
     "slide_type": "slide"
    }
   },
   "source": [
    "Now that we have dealt with missing and categorical data we can construct out machine learning model. We will use a $k$ nearest neighbors regression model to determine how well we can measure photometric redshifts.\n",
    "\n",
    "The `sdss` dataframe now includes far more columns than are necessary for the model. Should any of these be excluded from the fitting? "
   ]
  },
  {
   "cell_type": "markdown",
   "metadata": {
    "slideshow": {
     "slide_type": "subslide"
    }
   },
   "source": [
    "**Problem 4d**\n",
    "\n",
    "Build a `scikit-learn` appropriate `X` and `y` array for the features and labels (i.e. redshifts) of the photo-z training set."
   ]
  },
  {
   "cell_type": "code",
   "execution_count": null,
   "metadata": {
    "slideshow": {
     "slide_type": "subslide"
    }
   },
   "outputs": [],
   "source": [
    "X = # complete\n",
    "y = # complete"
   ]
  },
  {
   "cell_type": "markdown",
   "metadata": {
    "slideshow": {
     "slide_type": "slide"
    }
   },
   "source": [
    "**Problem 4e**\n",
    "\n",
    "Estimate the RMSE for a [`KNeighborsRegression`](https://scikit-learn.org/stable/modules/generated/sklearn.neighbors.KNeighborsRegressor.html) via 10 fold CV.\n",
    "\n",
    "*Hint* - use [`cross_val_predict`](https://scikit-learn.org/stable/modules/generated/sklearn.model_selection.cross_val_predict.html) in this case so you can plot $z_\\mathrm{SDSS}$ vs. $z_\\mathrm{kNN}$.\n",
    "\n",
    "*Hint 2* - make the plot in a separate cell so you can adjust it without needing to re-run the CV."
   ]
  },
  {
   "cell_type": "code",
   "execution_count": null,
   "metadata": {
    "slideshow": {
     "slide_type": "slide"
    }
   },
   "outputs": [],
   "source": [
    "# cross validation goes here\n",
    "from sklearn.neighbors import KNeighborsRegressor\n",
    "from sklearn.model_selection import cross_val_predict\n",
    "from sklearn.metrics import mean_squared_error\n",
    "\n",
    "knn_reg = # complete\n",
    "y_preds = cross_val_predict( # complete\n",
    "print('The RMSE = {}'.format(np.sqrt(mean_squared_error(y,y_preds))))"
   ]
  },
  {
   "cell_type": "code",
   "execution_count": null,
   "metadata": {
    "slideshow": {
     "slide_type": "subslide"
    }
   },
   "outputs": [],
   "source": [
    "# plotting goes here\n",
    "\n",
    "fig, ax = plt.subplots(figsize=(7,7))\n",
    "ax.scatter( # complete\n",
    "ax.plot([0,6],[0,6], 'Crimson')\n",
    "ax.set_xlabel('z_SDSS')\n",
    "ax.set_ylabel('z_kNN')"
   ]
  },
  {
   "cell_type": "markdown",
   "metadata": {
    "slideshow": {
     "slide_type": "slide"
    }
   },
   "source": [
    "If you made a plot of redshift vs. predictions, you likely saw that there are many sources that are far from the 1 to 1 line. These are called catastrophic outliers, and they are a serious problem for science programs that rely on photometric redshifts. "
   ]
  },
  {
   "cell_type": "markdown",
   "metadata": {
    "slideshow": {
     "slide_type": "subslide"
    }
   },
   "source": [
    "**Problem 4f**\n",
    "\n",
    "Write a function that takes input arrays `ground_truth` and `predictions` and determines the fraction of the dataset that is catastrophic outliers. For today's purposes we will say a catastrophic outlier is one where the prediction differs by 20%. "
   ]
  },
  {
   "cell_type": "code",
   "execution_count": null,
   "metadata": {
    "slideshow": {
     "slide_type": "subslide"
    }
   },
   "outputs": [],
   "source": [
    "def catastrophic_fraction(ground_truth, predictions, threshold=0.2):\n",
    "    '''Function to calculate fraction of predictions that are catastrophic outliers\n",
    "    \n",
    "    Parameter\n",
    "    ---------\n",
    "    ground_truth : array-like\n",
    "        Correct labels for the model sources\n",
    "    \n",
    "    predictions : array-like\n",
    "        Predictions for the model sources\n",
    "    \n",
    "    threshold : float (optional, default=0.2)\n",
    "        The threshold to determine if a \"miss\" is catastrophic or not\n",
    "    \n",
    "    Returns\n",
    "    -------\n",
    "    oh_nos : float\n",
    "        Fractional number of catastrophic outliers\n",
    "    '''\n",
    "    # complete\n",
    "    # complete\n",
    "\n",
    "    return oh_nos"
   ]
  },
  {
   "cell_type": "markdown",
   "metadata": {
    "slideshow": {
     "slide_type": "slide"
    }
   },
   "source": [
    "**Problem 4g**\n",
    "\n",
    "How many catastrophic outliers did your previous predictions have? "
   ]
  },
  {
   "cell_type": "code",
   "execution_count": null,
   "metadata": {
    "slideshow": {
     "slide_type": "subslide"
    }
   },
   "outputs": [],
   "source": [
    "catastrophic_fraction( # complete\n"
   ]
  },
  {
   "cell_type": "markdown",
   "metadata": {
    "slideshow": {
     "slide_type": "slide"
    }
   },
   "source": [
    "Earlier we saw that the performance of a kNN model greatly improves with feature scaling.\n",
    "\n",
    "**Problem 4h**\n",
    "\n",
    "Use a MinMax scaler to scale the features, performs 10 fold cross-validation, and estimate the catastrophic outlier fraction."
   ]
  },
  {
   "cell_type": "code",
   "execution_count": null,
   "metadata": {
    "slideshow": {
     "slide_type": "subslide"
    }
   },
   "outputs": [],
   "source": [
    "scaler = MinMaxScaler()\n",
    "scaler.fit(X)\n",
    "Xminmax = scaler.transform(X)\n",
    "\n",
    "knn_reg = KNeighborsRegressor(n_neighbors=7)\n",
    "y_preds = cross_val_predict( # complete\n",
    "print('The RMSE = {}'.format(np.sqrt(mean_squared_error(y,y_preds))))\n",
    "print('{} are catastrophic'.format(catastrophic_fraction(y, y_preds)))"
   ]
  },
  {
   "cell_type": "code",
   "execution_count": null,
   "metadata": {
    "slideshow": {
     "slide_type": "subslide"
    }
   },
   "outputs": [],
   "source": [
    "# plotting goes here\n",
    "\n",
    "fig, ax = plt.subplots()\n",
    "ax.scatter( # complete\n",
    "ax.plot([0,6],[0,6], 'Crimson')\n",
    "ax.set_xlabel('z_SDSS')\n",
    "ax.set_ylabel('z_kNN')"
   ]
  },
  {
   "cell_type": "markdown",
   "metadata": {
    "slideshow": {
     "slide_type": "slide"
    }
   },
   "source": [
    "The MinMax scaler didn't help at all!\n",
    "\n",
    "Perhaps we need a different kind of wrangling for this data set - feature engineering. (For example, does it make sense to include `extinction` as a feature, or should we instead combine the extinction with the observed magnitudes to get extinction corrected brightness measurements?)\n",
    "\n",
    "Finally - we close with a machine learning question, not a data wrangling question. Does it actually make sense to use a kNN model for datasets that have categorical features? "
   ]
  },
  {
   "cell_type": "markdown",
   "metadata": {
    "slideshow": {
     "slide_type": "slide"
    }
   },
   "source": [
    "**Problem 4i**\n",
    "\n",
    "Build a better machine learning model, possibly with the use of different features, to improve the model classification performance.\n",
    "\n",
    "*Hint* - there was a hint about this in yesterday's lecture."
   ]
  },
  {
   "cell_type": "code",
   "execution_count": null,
   "metadata": {
    "slideshow": {
     "slide_type": "subslide"
    }
   },
   "outputs": [],
   "source": [
    "from sklearn.ensemble import RandomForestRegressor\n",
    "\n",
    "# complete\n",
    "# complete\n",
    "# complete\n",
    "# complete"
   ]
  },
  {
   "cell_type": "code",
   "execution_count": null,
   "metadata": {
    "slideshow": {
     "slide_type": "subslide"
    }
   },
   "outputs": [],
   "source": [
    "# plotting goes here\n",
    "\n",
    "fig, ax = plt.subplots(figsize=(8,8))\n",
    "ax.scatter( # complete\n",
    "ax.plot([0,6],[0,6], 'Crimson')\n",
    "ax.set_xlim(-0.1,4)\n",
    "ax.set_ylim(-0.1,4)\n",
    "ax.set_xlabel('z_SDSS')\n",
    "ax.set_ylabel('z_kNN')"
   ]
  }
 ],
 "metadata": {
  "celltoolbar": "Slideshow",
  "kernelspec": {
   "display_name": "Python [conda env:dsfp]",
   "language": "python",
   "name": "conda-env-dsfp-py"
  },
  "language_info": {
   "codemirror_mode": {
    "name": "ipython",
    "version": 3
   },
   "file_extension": ".py",
   "mimetype": "text/x-python",
   "name": "python",
   "nbconvert_exporter": "python",
   "pygments_lexer": "ipython3",
   "version": "3.9.13"
  }
 },
 "nbformat": 4,
 "nbformat_minor": 2
}
