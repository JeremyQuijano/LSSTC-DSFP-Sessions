{
 "cells": [
  {
   "cell_type": "code",
   "execution_count": 1,
   "id": "1c34637f",
   "metadata": {},
   "outputs": [],
   "source": [
    "import matplotlib.pyplot as plt\n",
    "import pandas as pd\n",
    "import numpy as np"
   ]
  },
  {
   "cell_type": "code",
   "execution_count": 37,
   "id": "4d64ecd4",
   "metadata": {},
   "outputs": [
    {
     "name": "stdout",
     "output_type": "stream",
     "text": [
      "               item           type               price         size\n",
      "0         Guatemala         coffee     [1.5, 1.7, 1.9]  [8, 12, 16]\n",
      "1   Guatemala Decaf         coffee     [1.5, 1.7, 1.9]  [8, 12, 16]\n",
      "2           Sumatra         coffee     [1.5, 1.7, 1.9]  [8, 12, 16]\n",
      "3          Espresso       espresso   [1.45, 1.7, 1.85]  [8, 12, 16]\n",
      "4         Americano       espresso     [1.6, 1.8, 2.0]  [8, 12, 16]\n",
      "5             Latte       espresso   [2.15, 2.75, 3.2]  [8, 12, 16]\n",
      "6        Cappuccino       espresso   [2.15, 2.75, 3.2]  [8, 12, 16]\n",
      "7             Mocha       espresso  [2.65, 3.05, 3.55]  [8, 12, 16]\n",
      "8         Breakfast        hot tea     [1.7, 1.9, 2.1]  [8, 12, 16]\n",
      "9         Green Tea        hot tea     [1.7, 1.9, 2.1]  [8, 12, 16]\n",
      "10     Monsoon Chai        hot tea     [1.7, 1.9, 2.1]  [8, 12, 16]\n",
      "11   Chai Tea Latte        hot tea   [2.4, 2.95, 3.35]  [8, 12, 16]\n",
      "12  Black Tea Latte        hot tea    [2.2, 2.55, 3.2]  [8, 12, 16]\n",
      "13    Hot Chocolate  hot chocolate    [2.5, 2.75, 3.0]  [8, 12, 16]\n"
     ]
    }
   ],
   "source": [
    "d = {'item': ['Guatemala', 'Guatemala Decaf', 'Sumatra', 'Espresso', 'Americano', 'Latte', 'Cappuccino', 'Mocha', 'Breakfast', 'Green Tea', 'Monsoon Chai', 'Chai Tea Latte', 'Black Tea Latte', 'Hot Chocolate'], \n",
    "     'type': ['coffee', 'coffee', 'coffee', 'espresso', 'espresso', 'espresso', 'espresso', 'espresso', 'hot tea', 'hot tea', 'hot tea', 'hot tea', 'hot tea', 'hot chocolate'], \n",
    "     'price': [[1.50, 1.70, 1.90], [1.50, 1.70, 1.90], [1.50, 1.70, 1.90], [1.45, 1.70, 1.85], [1.60, 1.80, 2.0], [2.15, 2.75, 3.20], [2.15, 2.75, 3.20], [2.65, 3.05, 3.55], [1.70, 1.90, 2.10], [1.70, 1.90, 2.10], [1.70, 1.90, 2.10], [2.40, 2.95, 3.35], [2.20, 2.55, 3.20], [2.50, 2.75, 3.0]],\n",
    "     'size': [[8, 12, 16], [8, 12, 16], [8, 12, 16], [8, 12, 16], [8, 12, 16], [8, 12, 16], [8, 12, 16], [8, 12, 16], [8, 12, 16], [8, 12, 16], [8, 12, 16], [8, 12, 16], [8, 12, 16], [8, 12, 16]]\n",
    "    }\n",
    "\n",
    "d_df =  pd.DataFrame(data=d)\n",
    "print(d_df)"
   ]
  },
  {
   "cell_type": "code",
   "execution_count": 28,
   "id": "d2080b08",
   "metadata": {
    "scrolled": false
   },
   "outputs": [
    {
     "name": "stdout",
     "output_type": "stream",
     "text": [
      "               item           type  price  size\n",
      "0         Guatemala         coffee   1.50     8\n",
      "1   Guatemala Decaf         coffee   1.50     8\n",
      "2           Sumatra         coffee   1.50     8\n",
      "3          Espresso       espresso   1.45     8\n",
      "4         Americano       espresso   1.60     8\n",
      "5             Latte       espresso   2.15     8\n",
      "6        Cappuccino       espresso   2.15     8\n",
      "7             Mocha       espresso   2.65     8\n",
      "8         Breakfast        hot tea   1.70     8\n",
      "9         Green Tea        hot tea   1.70     8\n",
      "10     Monsoon Chai        hot tea   1.70     8\n",
      "11   Chai Tea Latte        hot tea   2.40     8\n",
      "12  Black Tea Latte        hot tea   2.20     8\n",
      "13    Hot Chocolate  hot chocolate   2.50     8\n",
      "14        Guatemala         coffee   1.70    12\n",
      "15  Guatemala Decaf         coffee   1.70    12\n",
      "16          Sumatra         coffee   1.70    12\n",
      "17         Espresso       espresso   1.70    12\n",
      "18        Americano       espresso   1.80    12\n",
      "19            Latte       espresso   2.75    12\n",
      "20       Cappuccino       espresso   2.75    12\n",
      "21            Mocha       espresso   3.05    12\n",
      "22        Breakfast        hot tea   1.90    12\n",
      "23        Green Tea        hot tea   1.90    12\n",
      "24     Monsoon Chai        hot tea   1.90    12\n",
      "25   Chai Tea Latte        hot tea   2.95    12\n",
      "26  Black Tea Latte        hot tea   2.55    12\n",
      "27    Hot Chocolate  hot chocolate   2.75    12\n",
      "28        Guatemala         coffee   1.90    16\n",
      "29  Guatemala Decaf         coffee   1.90    16\n",
      "30          Sumatra         coffee   1.90    16\n",
      "31         Espresso       espresso   1.85    16\n",
      "32        Americano       espresso   2.00    16\n",
      "33            Latte       espresso   3.20    16\n",
      "34       Cappuccino       espresso   3.20    16\n",
      "35            Mocha       espresso   3.55    16\n",
      "36        Breakfast        hot tea   2.10    16\n",
      "37        Green Tea        hot tea   2.10    16\n",
      "38     Monsoon Chai        hot tea   2.10    16\n",
      "39   Chai Tea Latte        hot tea   3.35    16\n",
      "40  Black Tea Latte        hot tea   3.20    16\n",
      "41    Hot Chocolate  hot chocolate   3.00    16\n",
      "               item           type  price  size\n",
      "3          Espresso       espresso   1.45     8\n",
      "0         Guatemala         coffee   1.50     8\n",
      "1   Guatemala Decaf         coffee   1.50     8\n",
      "2           Sumatra         coffee   1.50     8\n",
      "4         Americano       espresso   1.60     8\n",
      "17         Espresso       espresso   1.70    12\n",
      "16          Sumatra         coffee   1.70    12\n",
      "14        Guatemala         coffee   1.70    12\n",
      "10     Monsoon Chai        hot tea   1.70     8\n",
      "15  Guatemala Decaf         coffee   1.70    12\n",
      "8         Breakfast        hot tea   1.70     8\n",
      "9         Green Tea        hot tea   1.70     8\n",
      "18        Americano       espresso   1.80    12\n",
      "31         Espresso       espresso   1.85    16\n",
      "28        Guatemala         coffee   1.90    16\n",
      "24     Monsoon Chai        hot tea   1.90    12\n",
      "23        Green Tea        hot tea   1.90    12\n",
      "22        Breakfast        hot tea   1.90    12\n",
      "30          Sumatra         coffee   1.90    16\n",
      "29  Guatemala Decaf         coffee   1.90    16\n",
      "32        Americano       espresso   2.00    16\n",
      "38     Monsoon Chai        hot tea   2.10    16\n",
      "36        Breakfast        hot tea   2.10    16\n",
      "37        Green Tea        hot tea   2.10    16\n",
      "6        Cappuccino       espresso   2.15     8\n",
      "5             Latte       espresso   2.15     8\n",
      "12  Black Tea Latte        hot tea   2.20     8\n",
      "11   Chai Tea Latte        hot tea   2.40     8\n",
      "13    Hot Chocolate  hot chocolate   2.50     8\n",
      "26  Black Tea Latte        hot tea   2.55    12\n",
      "7             Mocha       espresso   2.65     8\n",
      "20       Cappuccino       espresso   2.75    12\n",
      "19            Latte       espresso   2.75    12\n",
      "27    Hot Chocolate  hot chocolate   2.75    12\n",
      "25   Chai Tea Latte        hot tea   2.95    12\n",
      "41    Hot Chocolate  hot chocolate   3.00    16\n",
      "21            Mocha       espresso   3.05    12\n",
      "33            Latte       espresso   3.20    16\n",
      "34       Cappuccino       espresso   3.20    16\n",
      "40  Black Tea Latte        hot tea   3.20    16\n",
      "39   Chai Tea Latte        hot tea   3.35    16\n",
      "35            Mocha       espresso   3.55    16\n"
     ]
    }
   ],
   "source": [
    "menu = {'item': ['Guatemala', 'Guatemala Decaf', 'Sumatra', 'Espresso', 'Americano', 'Latte', 'Cappuccino', 'Mocha', 'Breakfast', 'Green Tea', 'Monsoon Chai', 'Chai Tea Latte', 'Black Tea Latte', 'Hot Chocolate', 'Guatemala', 'Guatemala Decaf', 'Sumatra', 'Espresso', 'Americano', 'Latte', 'Cappuccino', 'Mocha', 'Breakfast', 'Green Tea', 'Monsoon Chai', 'Chai Tea Latte', 'Black Tea Latte', 'Hot Chocolate', 'Guatemala', 'Guatemala Decaf', 'Sumatra', 'Espresso', 'Americano', 'Latte', 'Cappuccino', 'Mocha', 'Breakfast', 'Green Tea', 'Monsoon Chai', 'Chai Tea Latte', 'Black Tea Latte', 'Hot Chocolate'], \n",
    "        'type': ['coffee', 'coffee', 'coffee', 'espresso', 'espresso', 'espresso', 'espresso', 'espresso', 'hot tea', 'hot tea', 'hot tea', 'hot tea', 'hot tea', 'hot chocolate', 'coffee', 'coffee', 'coffee', 'espresso', 'espresso', 'espresso', 'espresso', 'espresso', 'hot tea', 'hot tea', 'hot tea', 'hot tea', 'hot tea', 'hot chocolate', 'coffee', 'coffee', 'coffee', 'espresso', 'espresso', 'espresso', 'espresso', 'espresso', 'hot tea', 'hot tea', 'hot tea', 'hot tea', 'hot tea', 'hot chocolate'], \n",
    "        'price': [1.50, 1.50, 1.50, 1.45, 1.60, 2.15, 2.15, 2.65, 1.70, 1.70, 1.70, 2.40, 2.20, 2.50, 1.70, 1.70, 1.70, 1.70, 1.80, 2.75, 2.75, 3.05, 1.90, 1.90, 1.90, 2.95, 2.55, 2.75, 1.90, 1.90, 1.90, 1.85, 2.0, 3.20, 3.20, 3.55, 2.10, 2.10, 2.10, 3.35, 3.20, 3.0],\n",
    "        'size': [8, 8, 8, 8, 8, 8, 8, 8, 8, 8, 8, 8, 8, 8, 12, 12, 12, 12, 12, 12, 12, 12, 12, 12, 12, 12, 12, 12, 16, 16, 16, 16, 16, 16, 16, 16, 16, 16, 16, 16, 16, 16],\n",
    "       }\n",
    "\n",
    "menu_df = pd.DataFrame(data=menu)\n",
    "print(menu_df)\n",
    "menu_df_sorted = menu_df.sort_values('price')\n",
    "print(menu_df_sorted)"
   ]
  },
  {
   "cell_type": "code",
   "execution_count": 82,
   "id": "4e6960ff",
   "metadata": {},
   "outputs": [
    {
     "data": {
      "text/plain": [
       "0        [1.5, 1.7, 1.9]\n",
       "1        [1.5, 1.7, 1.9]\n",
       "2        [1.5, 1.7, 1.9]\n",
       "3      [1.45, 1.7, 1.85]\n",
       "4        [1.6, 1.8, 2.0]\n",
       "5      [2.15, 2.75, 3.2]\n",
       "6      [2.15, 2.75, 3.2]\n",
       "7     [2.65, 3.05, 3.55]\n",
       "8        [1.7, 1.9, 2.1]\n",
       "9        [1.7, 1.9, 2.1]\n",
       "10       [1.7, 1.9, 2.1]\n",
       "11     [2.4, 2.95, 3.35]\n",
       "12      [2.2, 2.55, 3.2]\n",
       "13      [2.5, 2.75, 3.0]\n",
       "Name: price, dtype: object"
      ]
     },
     "execution_count": 82,
     "metadata": {},
     "output_type": "execute_result"
    }
   ],
   "source": [
    "d_df['price']"
   ]
  },
  {
   "cell_type": "code",
   "execution_count": 100,
   "id": "78124142",
   "metadata": {},
   "outputs": [
    {
     "data": {
      "text/plain": [
       "0     1.5\n",
       "1     1.5\n",
       "2     1.5\n",
       "14    1.7\n",
       "15    1.7\n",
       "16    1.7\n",
       "28    1.9\n",
       "29    1.9\n",
       "30    1.9\n",
       "Name: price, dtype: float64"
      ]
     },
     "execution_count": 100,
     "metadata": {},
     "output_type": "execute_result"
    }
   ],
   "source": [
    "group.price"
   ]
  },
  {
   "cell_type": "code",
   "execution_count": 101,
   "id": "63044ade",
   "metadata": {
    "scrolled": false
   },
   "outputs": [
    {
     "data": {
      "image/png": "[encoded data removed]",
      "text/plain": [
       "<Figure size 432x288 with 1 Axes>"
      ]
     },
     "metadata": {
      "needs_background": "light"
     },
     "output_type": "display_data"
    },
    {
     "name": "stdout",
     "output_type": "stream",
     "text": [
      "1.70\n",
      "2.39\n",
      "2.75\n",
      "2.25\n"
     ]
    }
   ],
   "source": [
    "groups = menu_df.groupby('type')\n",
    "price_ave = []\n",
    "for name, group in groups:\n",
    "    plt.scatter(x=group['price'], y=group['item'], s=7*group['size'], label=name)\n",
    "    price_ave.append(np.mean(group['price']))\n",
    "\n",
    "plt.title('COFFEE, ESPRESSO & HOT TEA')\n",
    "plt.xlabel('price')\n",
    "plt.legend(bbox_to_anchor=(1.35, 1.0))\n",
    "plt.show()\n",
    "\n",
    "print(f'{price_ave[0]:.2f}')\n",
    "print(f'{price_ave[1]:.2f}')\n",
    "print(f'{price_ave[2]:.2f}')\n",
    "print(f'{price_ave[3]:.2f}')"
   ]
  },
  {
   "cell_type": "code",
   "execution_count": null,
   "id": "66c69c2d",
   "metadata": {},
   "outputs": [],
   "source": []
  },
  {
   "cell_type": "code",
   "execution_count": null,
   "id": "3532588a",
   "metadata": {},
   "outputs": [],
   "source": []
  }
 ],
 "metadata": {
  "kernelspec": {
   "display_name": "Python [conda env:dsfp] *",
   "language": "python",
   "name": "conda-env-dsfp-py"
  },
  "language_info": {
   "codemirror_mode": {
    "name": "ipython",
    "version": 3
   },
   "file_extension": ".py",
   "mimetype": "text/x-python",
   "name": "python",
   "nbconvert_exporter": "python",
   "pygments_lexer": "ipython3",
   "version": "3.9.13"
  }
 },
 "nbformat": 4,
 "nbformat_minor": 5
}
