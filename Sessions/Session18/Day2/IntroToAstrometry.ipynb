{
 "cells": [
  {
   "cell_type": "markdown",
   "id": "8ae22b21-c7d7-42cf-a4bd-47784a71b729",
   "metadata": {},
   "source": [
    "# Introduction to Astrometry Notebook"
   ]
  },
  {
   "cell_type": "markdown",
   "id": "4f295204-9595-450a-ae4d-47c863ec7855",
   "metadata": {},
   "source": [
    "We're going to take sources from an HSC observation and match them to Gaia, look at the separations, then fit the wcs and look at  focal plane distortions, finally we'll look at the effect of proper motions, then apply proper motions and parallax and redo the fit. \n",
    "\n",
    "If that is too fast, also fit the source positions.\n",
    "Potential extras: do a better fit using error of measurements, try to find bug in astropy proper motion."
   ]
  },
  {
   "cell_type": "markdown",
   "id": "1aec4e9f-b975-4179-8bd8-104541582b01",
   "metadata": {},
   "source": [
    "#### First, load some helpful packages:"
   ]
  },
  {
   "cell_type": "code",
   "execution_count": 1,
   "id": "f555d57d-46f2-4aec-a0e8-cea2f152fc82",
   "metadata": {
    "execution": {
     "iopub.execute_input": "2023-06-08T18:48:35.224999Z",
     "iopub.status.busy": "2023-06-08T18:48:35.224767Z",
     "iopub.status.idle": "2023-06-08T18:48:35.227935Z",
     "shell.execute_reply": "2023-06-08T18:48:35.227505Z",
     "shell.execute_reply.started": "2023-06-08T18:48:35.224984Z"
    },
    "tags": []
   },
   "outputs": [],
   "source": [
    "# Start by loading some helpful packages:\n",
    "import numpy as np\n",
    "import matplotlib.pyplot as plt\n",
    "from astropy.coordinates import SkyCoord\n",
    "import astropy.wcs\n",
    "import astropy.units as u\n",
    "from astropy.io import fits\n",
    "from astropy import wcs\n",
    "import pandas as pd\n",
    "from glob import glob\n",
    "import re"
   ]
  },
  {
   "cell_type": "markdown",
   "id": "92cd083e",
   "metadata": {},
   "source": [
    "Normally, I wouldn't recommend suppressing warning messages, but in this case astropy will complain a lot about the input files, so it's helpful here:"
   ]
  },
  {
   "cell_type": "code",
   "execution_count": 2,
   "id": "586563ee",
   "metadata": {},
   "outputs": [],
   "source": [
    "import warnings\n",
    "from astropy.utils.exceptions import AstropyWarning\n",
    "warnings.simplefilter('ignore', category=AstropyWarning)"
   ]
  },
  {
   "cell_type": "markdown",
   "id": "6824607d",
   "metadata": {},
   "source": [
    "## Part 1: Fitting a WCS"
   ]
  },
  {
   "cell_type": "markdown",
   "id": "61ab13f3-8d94-4828-ac9e-8f1373347d0c",
   "metadata": {},
   "source": [
    "#### 1. Matching sources to a reference catalog\n",
    "\n",
    "We start by loading the sample data sets. In the \"astrometry_data\" subdirectory, there are files containing the sources measured in one HSC exposure. There is one file for each detector. These source catalogs only contain isolated stars that are appropriate for fitting the astrometric solution (i.e., there are no galaxies or stars that are close to galaxies). There is also one file with a subset of the Gaia catalog overlapping the footprint of the HSC exposure."
   ]
  },
  {
   "cell_type": "markdown",
   "id": "314bf585-934f-4b47-b2c5-a113f7f58c5c",
   "metadata": {},
   "source": [
    "First, load the Gaia catalog:\n",
    "(In this Gaia catalog, missing entries are denoted by NaNs, so you probably want to filter these out.)"
   ]
  },
  {
   "cell_type": "code",
   "execution_count": 148,
   "id": "1939cd8b",
   "metadata": {},
   "outputs": [
    {
     "name": "stdout",
     "output_type": "stream",
     "text": [
      "<SkyCoord (ICRS): (ra, dec) in deg\n",
      "    [(151.08625144, 2.26910322), (151.1138923 , 2.2753019 ),\n",
      "     (151.07714322, 2.27941641), ..., (149.60790663, 2.25564513),\n",
      "     (149.58325668, 2.26242986), (149.60453964, 2.26563869)]>\n"
     ]
    }
   ],
   "source": [
    "gaia_cat = pd.read_parquet('astrometry_data/gaia_refCat.parquet')\n",
    "good_ids = np.isfinite(gaia_cat['coord_ra'])\n",
    "gaia_skyCoord = SkyCoord(gaia_cat[good_ids]['coord_ra'], gaia_cat[good_ids]['coord_dec'], unit='rad') # complete\n",
    "print(gaia_skyCoord)"
   ]
  },
  {
   "cell_type": "markdown",
   "id": "54f5ece8",
   "metadata": {},
   "source": [
    "The files \"astrometry_data/1180_\\<detector\\>.fits\" contain the sources from each detector for visit 1180. The fits files have a best guess for the WCS in the primary HDU and the table of sources in the second HDU.\n",
    "\n",
    "Let's start by just looking at one source catalog:"
   ]
  },
  {
   "cell_type": "code",
   "execution_count": 102,
   "id": "ae2bd621",
   "metadata": {
    "scrolled": true
   },
   "outputs": [
    {
     "data": {
      "text/plain": [
       "FITS_rec([(  86.92947 ,   41.712578, 0.00852196, 0.00769422),\n",
       "          ( 830.3061  ,   67.07564 , 0.01851565, 0.01705405),\n",
       "          (1273.882   ,   91.18033 , 0.10108756, 0.09056913),\n",
       "          ( 991.7234  ,  102.89524 , 0.47177574, 0.5496911 ),\n",
       "          (1603.6173  ,  122.36931 , 0.35973862, 0.34489995),\n",
       "          ( 669.77405 ,  168.87308 , 0.05624749, 0.05080763),\n",
       "          (1222.3792  ,  168.47037 , 0.16972013, 0.15416533),\n",
       "          (1617.7659  ,  170.44435 , 0.48807505, 0.47963017),\n",
       "          (1915.1594  ,  177.07526 , 0.22191699, 0.19003457),\n",
       "          (1689.6992  ,  177.26001 , 0.43136516, 0.29595134),\n",
       "          ( 988.5114  ,  185.9173  , 0.1094337 , 0.10619284),\n",
       "          ( 405.82425 ,  213.6224  , 0.5709996 , 0.4454398 ),\n",
       "          (1993.8823  ,  212.85036 , 0.39194584, 0.27951112),\n",
       "          (1853.9066  ,  229.42172 , 0.15717489, 0.1708166 ),\n",
       "          (1543.8564  ,  258.1603  , 0.14344949, 0.12201618),\n",
       "          (1767.1976  ,  290.85538 , 0.3886819 , 0.4166693 ),\n",
       "          (1361.6143  ,  321.24847 , 0.47532967, 0.4120306 ),\n",
       "          ( 741.3336  ,  331.29916 , 0.02355182, 0.02139081),\n",
       "          (1576.8868  ,  330.15826 , 0.4594329 , 0.44441727),\n",
       "          (1589.507   ,  358.2948  , 0.24523568, 0.2529737 ),\n",
       "          ( 740.0085  ,  358.31458 , 0.33176592, 0.27046338),\n",
       "          (1995.4805  ,  376.3464  , 0.36800468, 0.27182683),\n",
       "          (1348.4656  ,  414.22028 , 0.33591813, 0.3345665 ),\n",
       "          (1347.6151  ,  484.78394 , 0.5650707 , 0.49188483),\n",
       "          (1513.6931  ,  515.5552  , 0.00521879, 0.00468455),\n",
       "          (1079.8676  ,  526.31445 , 0.04869585, 0.04412567),\n",
       "          ( 423.1765  ,  558.1286  , 0.25721428, 0.3638159 ),\n",
       "          (1953.6847  ,  599.2463  , 0.00252881, 0.00229153),\n",
       "          ( 987.58795 ,  604.5168  , 0.01017773, 0.00925668),\n",
       "          ( 632.06964 ,  620.9924  , 0.17897028, 0.13713053),\n",
       "          ( 399.5057  ,  635.26324 , 0.5037883 , 0.33729658),\n",
       "          ( 194.66345 ,  655.30286 , 0.49337322, 0.42893115),\n",
       "          (1360.759   ,  675.39233 , 0.05304543, 0.04630674),\n",
       "          (1928.748   ,  695.3524  , 0.33724877, 0.4699456 ),\n",
       "          ( 708.2506  ,  732.01605 , 0.01245051, 0.01145022),\n",
       "          ( 600.3489  ,  785.89044 , 0.36566317, 0.32073367),\n",
       "          (1245.5801  ,  814.39307 , 0.3499026 , 0.4880462 ),\n",
       "          (1958.7861  ,  819.39276 , 0.38679105, 0.32053   ),\n",
       "          (1343.57    ,  874.357   , 0.16242418, 0.14309457),\n",
       "          (1375.4844  ,  896.91943 , 1.2811481 , 0.4900636 ),\n",
       "          (1112.0184  ,  909.86444 , 0.00403243, 0.00367459),\n",
       "          ( 317.6648  ,  929.31915 , 0.05969531, 0.0579705 ),\n",
       "          (1146.6028  ,  934.3714  , 0.44326463, 0.48824307),\n",
       "          ( 216.21608 ,  980.9631  , 0.5070359 , 0.5561402 ),\n",
       "          (1759.0045  , 1021.7856  , 0.57519084, 0.40268296),\n",
       "          (1979.2542  , 1066.5195  , 0.01362978, 0.01212487),\n",
       "          ( 286.83063 , 1083.5452  , 0.03736771, 0.03361285),\n",
       "          (1025.7056  , 1091.6475  , 0.08637967, 0.06826684),\n",
       "          ( 325.2598  , 1094.445   , 0.29979256, 0.25678694),\n",
       "          ( 958.09875 , 1101.5631  , 0.28203997, 0.28553155),\n",
       "          (1727.1836  , 1099.9574  , 0.41633347, 0.6523743 ),\n",
       "          (1132.749   , 1115.5955  , 0.38412404, 0.2725749 ),\n",
       "          (1903.9978  , 1132.7776  , 0.23279852, 0.23373659),\n",
       "          ( 670.6934  , 1163.6492  , 0.00406378, 0.00372311),\n",
       "          (1051.7379  , 1189.4733  , 0.6013744 , 0.43980867),\n",
       "          (1189.1149  , 1261.9615  , 0.00713812, 0.00656625),\n",
       "          (1506.7557  , 1267.1312  , 0.0045617 , 0.00418261),\n",
       "          ( 193.13037 , 1263.0842  , 0.3768062 , 0.34023967),\n",
       "          (  43.88585 , 1272.8628  , 0.28392744, 0.24351475),\n",
       "          ( 146.65303 , 1291.3502  , 0.1072567 , 0.09694912),\n",
       "          (1991.1487  , 1313.2372  , 0.02663326, 0.02406421),\n",
       "          ( 938.66943 , 1315.2017  , 0.45947942, 0.3819594 ),\n",
       "          (1970.9211  , 1352.8872  , 0.01579405, 0.01392353),\n",
       "          (1833.6049  , 1348.7047  , 0.24681069, 0.263433  ),\n",
       "          (1753.1633  , 1357.9552  , 0.39560294, 0.29819614),\n",
       "          (1170.0454  , 1443.783   , 0.38101685, 0.34806937),\n",
       "          ( 610.2953  , 1463.5398  , 0.00479742, 0.00434848),\n",
       "          (1310.683   , 1458.7384  , 0.14934817, 0.13320959),\n",
       "          (1733.8594  , 1456.3683  , 0.39430094, 0.2824943 ),\n",
       "          ( 487.3185  , 1555.974   , 0.02126642, 0.019613  ),\n",
       "          ( 780.8097  , 1576.6067  , 0.43736765, 0.2584113 ),\n",
       "          ( 923.81604 , 1598.386   , 0.6240205 , 0.55300033),\n",
       "          (1992.095   , 1612.3942  , 0.00440061, 0.00398788),\n",
       "          ( 462.21704 , 1603.0275  , 0.43432465, 0.20882736),\n",
       "          (1188.9022  , 1607.816   , 0.03454398, 0.0312684 ),\n",
       "          ( 583.31793 , 1625.1484  , 0.14041016, 0.14616153),\n",
       "          (1154.5541  , 1636.9379  , 0.17614622, 0.17184807),\n",
       "          ( 623.78625 , 1635.6056  , 0.39955878, 0.5222024 ),\n",
       "          (2025.1869  , 1644.6122  , 0.6278897 , 0.7930758 ),\n",
       "          (1849.7136  , 1678.6112  , 0.12494141, 0.11151508),\n",
       "          (1778.734   , 1680.29    , 0.42337003, 0.43126896),\n",
       "          (1313.3827  , 1690.3333  , 0.01509125, 0.01384381),\n",
       "          (1235.4691  , 1701.7861  , 0.00424107, 0.00394478),\n",
       "          (1823.338   , 1696.0029  , 0.0321576 , 0.02961655),\n",
       "          (1065.873   , 1712.3295  , 0.48566416, 0.24150136),\n",
       "          (  87.76028 , 1713.7728  , 0.38175523, 0.2686925 ),\n",
       "          ( 786.3503  , 1728.9586  , 0.18313175, 0.21106356),\n",
       "          (1380.529   , 1757.5414  , 0.395869  , 0.32895872),\n",
       "          ( 165.55795 , 1764.1292  , 0.05990843, 0.05309043),\n",
       "          (1027.041   , 1786.5074  , 0.03959759, 0.03607245),\n",
       "          (1771.6328  , 1782.7509  , 0.23377287, 0.19070792),\n",
       "          (1922.2888  , 1814.5164  , 0.00361243, 0.00326087),\n",
       "          ( 196.23265 , 1826.877   , 0.5492718 , 0.4574795 ),\n",
       "          ( 925.4425  , 1870.8164  , 0.3068709 , 0.2852125 ),\n",
       "          (1117.9191  , 1886.1425  , 0.10705577, 0.09860405),\n",
       "          ( 952.20795 , 1910.6509  , 0.14036608, 0.11939234),\n",
       "          (1459.3103  , 1924.7095  , 0.38368845, 0.50087833),\n",
       "          (1370.0728  , 1945.8499  , 0.25242996, 0.25253907),\n",
       "          ( 393.21158 , 1947.9176  , 0.5323414 , 0.4235848 ),\n",
       "          (1021.437   , 1992.3594  , 0.3511846 , 0.40166265),\n",
       "          (1245.5886  , 2029.545   , 0.2190355 , 0.17465335),\n",
       "          ( 374.59583 , 2038.705   , 0.5861554 , 0.42937353),\n",
       "          ( 418.82355 , 2102.1333  , 0.5220158 , 0.36959517),\n",
       "          (1190.4049  , 2146.0444  , 0.05255878, 0.05098699),\n",
       "          (1112.6818  , 2160.0952  , 0.25122967, 0.28293696),\n",
       "          (1685.633   , 2176.4856  , 0.15377982, 0.13968782),\n",
       "          ( 114.418724, 2180.3281  , 0.08866008, 0.07639098),\n",
       "          (2022.9144  , 2175.0586  , 0.6265407 , 0.75446737),\n",
       "          (  46.340744, 2203.733   , 0.24095489, 0.23927681),\n",
       "          ( 525.76984 , 2219.2107  , 0.03151251, 0.02828369),\n",
       "          ( 819.2642  , 2229.783   , 0.34960857, 0.22600828),\n",
       "          ( 474.55856 , 2204.277   , 0.00842328, 0.00776027),\n",
       "          (1259.4672  , 2232.006   , 0.60440654, 0.47793457),\n",
       "          (  59.41083 , 2247.6384  , 0.01482858, 0.01346711),\n",
       "          (1343.3225  , 2239.9775  , 0.41685888, 0.5325622 ),\n",
       "          ( 264.4824  , 2253.3345  , 0.0026688 , 0.00244323),\n",
       "          ( 657.2291  , 2252.315   , 0.47027063, 0.51357406),\n",
       "          (1215.1462  , 2259.231   , 0.01105548, 0.01005373),\n",
       "          ( 178.57494 , 2291.8442  , 0.12188861, 0.10561146),\n",
       "          ( 596.10504 , 2315.7915  , 0.17576359, 0.13518289),\n",
       "          (1688.5277  , 2318.874   , 0.30820063, 0.25223586),\n",
       "          ( 181.64862 , 2339.6218  , 0.02543344, 0.02364462),\n",
       "          (1682.101   , 2346.6028  , 0.06985412, 0.06123373),\n",
       "          ( 220.71887 , 2350.8652  , 0.03425083, 0.03101506),\n",
       "          (1635.8009  , 2346.007   , 0.27772534, 0.24706371),\n",
       "          ( 587.4887  , 2385.4827  , 0.02776148, 0.02519499),\n",
       "          (1409.9083  , 2413.4763  , 0.07194603, 0.06236152),\n",
       "          (1670.6943  , 2413.7915  , 0.34368768, 0.31023312),\n",
       "          ( 966.91364 , 2435.3481  , 0.344391  , 0.24239157),\n",
       "          (1072.5284  , 2433.54    , 0.43772584, 0.44082198),\n",
       "          ( 981.4662  , 2448.9849  , 0.36025405, 0.5380191 ),\n",
       "          ( 453.45804 , 2502.5674  , 0.00700027, 0.00635208),\n",
       "          ( 904.0402  , 2501.7124  , 0.18914613, 0.18641262),\n",
       "          ( 183.333   , 2517.3257  , 0.09783945, 0.09209318),\n",
       "          ( 528.50354 , 2544.2454  , 0.44829378, 0.4023495 ),\n",
       "          ( 553.93097 , 2569.316   , 0.07703689, 0.06930206),\n",
       "          ( 353.75778 , 2580.7944  , 0.0977935 , 0.08207489),\n",
       "          (1697.6846  , 2635.0234  , 0.10743341, 0.09822852),\n",
       "          ( 191.79237 , 2640.9116  , 0.02292855, 0.02097582),\n",
       "          ( 895.8904  , 2663.5137  , 0.2527983 , 0.26713768),\n",
       "          (1911.2754  , 2677.6826  , 0.40654582, 0.4914948 ),\n",
       "          (2025.1582  , 2713.8088  , 0.18917811, 0.22434612),\n",
       "          ( 506.71414 , 2721.5283  , 0.07605847, 0.06352471),\n",
       "          (1407.0677  , 2735.7102  , 0.56768566, 0.42081377),\n",
       "          ( 488.19684 , 2797.2969  , 0.00931735, 0.00843867),\n",
       "          ( 686.2573  , 2842.3203  , 0.3576747 , 0.44873264),\n",
       "          (1170.6959  , 2866.5842  , 0.4236059 , 0.38359058),\n",
       "          (1482.3639  , 2887.3162  , 0.07221736, 0.06518771),\n",
       "          (1997.366   , 2892.5664  , 0.02201508, 0.02003099),\n",
       "          ( 809.9802  , 2904.3635  , 0.3971459 , 0.325701  ),\n",
       "          ( 883.4988  , 2921.352   , 0.00406857, 0.00375537),\n",
       "          ( 649.2238  , 2928.6003  , 0.3332433 , 0.37290746),\n",
       "          (1271.5258  , 2942.643   , 1.0150541 , 0.7279927 ),\n",
       "          (1039.462   , 2952.4304  , 0.4909428 , 0.48700342),\n",
       "          (1877.9198  , 2985.6284  , 0.03598809, 0.03342698),\n",
       "          (1304.1226  , 3029.5017  , 0.02603047, 0.02319127),\n",
       "          ( 490.32507 , 3039.352   , 0.06610757, 0.05999368),\n",
       "          ( 848.8967  , 3058.0017  , 0.23671828, 0.2914587 ),\n",
       "          (  47.312607, 3084.7     , 0.07160193, 0.07219984),\n",
       "          (1523.3143  , 3096.7383  , 0.08425815, 0.07767867),\n",
       "          (1814.8695  , 3109.1743  , 0.5017272 , 0.29780108),\n",
       "          ( 673.3149  , 3113.8425  , 0.25093597, 0.2480826 ),\n",
       "          ( 383.81793 , 3125.2573  , 0.15827128, 0.15408288),\n",
       "          (2025.2859  , 3154.3684  , 0.63863385, 1.0720484 ),\n",
       "          ( 671.2603  , 3178.369   , 0.00340401, 0.00308857),\n",
       "          (1227.3574  , 3220.4048  , 0.01694833, 0.01545202),\n",
       "          ( 398.92194 , 3222.5417  , 0.24452698, 0.20912701),\n",
       "          ( 799.02454 , 3260.7224  , 0.4992997 , 0.43068862),\n",
       "          (1493.4038  , 3261.0122  , 0.35230654, 0.4305695 ),\n",
       "          ( 360.22437 , 3263.0981  , 0.4741489 , 0.5682258 ),\n",
       "          (1676.7661  , 3267.1936  , 0.1816452 , 0.14922217),\n",
       "          (1119.4747  , 3289.4033  , 0.3710215 , 0.35176605),\n",
       "          ( 921.396   , 3316.1135  , 0.4789371 , 0.38308313),\n",
       "          (1281.246   , 3351.805   , 0.01215913, 0.01118815),\n",
       "          (1953.4012  , 3346.5989  , 0.32136992, 0.39123002),\n",
       "          (1864.4985  , 3363.696   , 0.2828631 , 0.3121711 ),\n",
       "          ( 713.6802  , 3371.7637  , 0.03808914, 0.03575918),\n",
       "          ( 973.1638  , 3424.473   , 0.3668613 , 0.49482647),\n",
       "          (1786.1416  , 3426.2744  , 0.30746654, 0.21360138),\n",
       "          (1110.4089  , 3445.3518  , 0.01531628, 0.01388762),\n",
       "          (1234.1178  , 3444.382   , 0.2625407 , 0.33903778),\n",
       "          (1911.681   , 3447.1104  , 0.4030737 , 0.4351673 ),\n",
       "          ( 266.26114 , 3448.3154  , 0.46834624, 0.57627356),\n",
       "          (1518.1384  , 3471.3496  , 0.36478347, 0.37934417),\n",
       "          (1350.4032  , 3480.2722  , 0.42161214, 0.36972785),\n",
       "          ( 586.0122  , 3482.788   , 1.1088473 , 0.68368584),\n",
       "          ( 253.81757 , 3508.1978  , 0.11930903, 0.11866293),\n",
       "          (  60.1206  , 3546.4475  , 0.34290522, 0.26796922),\n",
       "          (1893.0371  , 3549.7512  , 0.34828216, 0.36865723),\n",
       "          (1932.5083  , 3576.9111  , 0.0585084 , 0.05469025),\n",
       "          (1164.4104  , 3633.7012  , 0.29640493, 0.2663478 ),\n",
       "          (1676.1042  , 3642.7327  , 0.09730529, 0.08818115),\n",
       "          (1245.4457  , 3648.828   , 0.05352807, 0.04757736),\n",
       "          (1405.9022  , 3673.3381  , 0.3330927 , 0.34119925),\n",
       "          ( 516.48914 , 3677.6812  , 0.41700852, 0.48113492),\n",
       "          ( 853.5117  , 3680.8499  , 0.33548748, 0.30555537),\n",
       "          (1546.8435  , 3771.5347  , 0.35240367, 0.41382438),\n",
       "          ( 305.32947 , 3783.9414  , 0.32591265, 0.53953284),\n",
       "          (1490.7178  , 3800.4956  , 0.0407516 , 0.03498583),\n",
       "          ( 842.1786  , 3812.9707  , 0.5621407 , 0.42943949),\n",
       "          (  99.64212 , 3843.957   , 0.0443192 , 0.03871857),\n",
       "          ( 346.23682 , 3841.8694  , 0.38335055, 0.307283  ),\n",
       "          ( 248.05902 , 3858.355   , 0.56095487, 0.4159275 ),\n",
       "          ( 490.15616 , 3893.5996  , 0.02650908, 0.02438172),\n",
       "          (1347.2052  , 3887.7134  , 0.38666672, 0.36916858),\n",
       "          (1819.8662  , 3892.4019  , 0.5110184 , 0.3540761 ),\n",
       "          (1875.263   , 3912.668   , 0.42582077, 0.44970152),\n",
       "          ( 138.17218 , 3981.7483  , 0.00802423, 0.00721612),\n",
       "          (1137.4163  , 4022.8733  , 0.36260158, 0.3283545 ),\n",
       "          ( 283.36804 , 4033.0955  , 0.02849353, 0.02577874),\n",
       "          ( 406.4386  , 4049.0703  , 0.00878417, 0.00798859),\n",
       "          (1589.8959  , 4058.2493  , 0.32421386, 0.30776635),\n",
       "          ( 600.2761  , 4062.7214  , 0.37862992, 0.39991552),\n",
       "          (1308.6533  , 4106.987   , 0.03439597, 0.03088056),\n",
       "          ( 456.709   , 4106.077   , 0.3821333 , 0.33631864),\n",
       "          (1510.9105  , 4151.147   , 0.534745  , 0.410718  )],\n",
       "         dtype=(numpy.record, [('x', '>f4'), ('y', '>f4'), ('xErr', '>f4'), ('yErr', '>f4')]))"
      ]
     },
     "execution_count": 102,
     "metadata": {},
     "output_type": "execute_result"
    }
   ],
   "source": [
    "sources = fits.open('astrometry_data/1180_42.fits')\n",
    "source_cat = sources[1].data # complete\n",
    "# You can check the column names of the data:\n",
    "source_cat"
   ]
  },
  {
   "cell_type": "markdown",
   "id": "d64e45fc-67f9-4cf6-91e6-dd4038c384f1",
   "metadata": {
    "execution": {
     "iopub.execute_input": "2023-06-08T19:56:18.683475Z",
     "iopub.status.busy": "2023-06-08T19:56:18.683252Z",
     "iopub.status.idle": "2023-06-08T19:56:18.693101Z",
     "shell.execute_reply": "2023-06-08T19:56:18.692671Z",
     "shell.execute_reply.started": "2023-06-08T19:56:18.683460Z"
    },
    "tags": []
   },
   "source": [
    "Now convert the source catalog pixel values to RA and Dec using the WCS in the header"
   ]
  },
  {
   "cell_type": "code",
   "execution_count": 114,
   "id": "e6cba523",
   "metadata": {},
   "outputs": [
    {
     "data": {
      "text/plain": [
       "SIMPLE  =                    T / conforms to FITS standard                      \n",
       "BITPIX  =                   16 / array data type                                \n",
       "NAXIS   =                    0 / number of array dimensions                     \n",
       "EXTEND  =                    T / FITS dataset may contain extensions            \n",
       "BUNIT   = 'ADU     '           / Unit of original pixel value                   \n",
       "BSCALE  =                  1.0 / Default scaling factor                         \n",
       "BZERO   =                32768 / Offset data range to that of unsigned short    \n",
       "BLANK   =               -32768 / Value used for NULL pixels                     \n",
       "TIMESYS = 'UTC     '           / Time System used in the header                 \n",
       "DATE-OBS= '2014-03-28'         / Observation start date  (yyyy-mm-dd)           \n",
       "UT-STR  = '06:56:41.946'       / HH:MM:SS.S UTC at the start exposure time      \n",
       "HST-STR = '20:56:41.946'       / HH:MM:SS.S HST at the beginning of exp.        \n",
       "LST-STR = '08:57:15.325'       / HH:MM:SS.SSS LST at the beginning of exposure  \n",
       "MJD-STR =    56744.28937437199 / [d] Mod.Julian Date at the start of exposure   \n",
       "UT      = '06:56:41.987'       / HH:MM:SS.S typical UTC at the exposure (middle \n",
       "HST     = '20:56:41.987'       / HH:MM:SS.S Typical HST at exposure             \n",
       "LST     = '08:57:15.366'       / HH:MM:SS.SSS Typical LST at exposure           \n",
       "MJD     =    56744.28937484836 / [d] Mod. Julian Date at typical time           \n",
       "UT-END  = '07:01:15.117'       / HH:MM:SS.S UTC at the end of the exposure      \n",
       "HST-END = '21:01:15.117'       / HH:MM:SS.S HST at the end of exposure          \n",
       "LST-END = '09:01:49.243'       / HH:MM:SS.SSS LST at the end of exposure        \n",
       "MJD-END =     56744.2925360715 / [d] Mod.Julian Date at the end of exposure     \n",
       "ZD-STR  =    23.65088679999999 / [degree] Zenith Distance at exposure start tim \n",
       "ZD-END  =          22.92509719 / [degree] Zenith Distance at exposure end time  \n",
       "SECZ-STR=                1.092 / SEC(Zenith Distance) at exposure start time    \n",
       "SECZ-END=                1.086 / SEC(Zenith Distance) at exposure end time      \n",
       "AIRMASS =    1.091503572617466 / Average airmass during exposure                \n",
       "AZIMUTH =         136.35018883 / [degree] Azimuth of tel-pointing. 0:S->90:W    \n",
       "ALTITUDE=    66.34911320000001 / [degree] Altitude ang. of telescope pointing   \n",
       "PROP-ID = 'o14406  '           / Proposal ID                                    \n",
       "OBSERVER= '\"Yasuda, Nishizawa, Kawanomoto, Furusawa, Yamada, Koike, Nakata\"' / N\n",
       "FRAMEID = 'HSCA00118108'       / /raid/S14A/20140327/object039_1_08.fits        \n",
       "EXP-ID  = 'HSCA00118000'       / First frame ID                                 \n",
       "DATASET = 'NODATA  '           / ID of dataset this data were taken             \n",
       "OBS-MOD = 'IMAG_5  '           / Observation Mode                               \n",
       "OBS-ALOC= 'Observation'        / Allocation Mode                                \n",
       "DATA-TYP= 'OBJECT  '           / Characteristics of this data                   \n",
       "OBJECT  = 'SSP-UDeep-COSMOS'   / Object                                         \n",
       "RA      = '10:00:50.522'       / Right ascension of telescope pointing          \n",
       "DEC     = '+02:13:50.96'       / Declination of telescope pointing              \n",
       "RA2000  = '10:00:50.522'       / Right ascension of telescope pointing (J2000)  \n",
       "DEC2000 = '+02:13:50.96'       / Declination of telescope pointing (J2000)      \n",
       "RADECSYS= 'FK5     '           / The equatorial coordinate system               \n",
       "EQUINOX =               2000.0 / [y] Equinox                                    \n",
       "CTYPE1  = 'RA---TAN-SIP'                                                        \n",
       "CRPIX1  =    953.2552519999999                                                  \n",
       "CRVAL1  =     150.112511312214                                                  \n",
       "CUNIT1  = 'degree  '                                                            \n",
       "CTYPE2  = 'DEC--TAN-SIP'                                                        \n",
       "CRPIX2  =          2241.526671                                                  \n",
       "CRVAL2  =    2.126695234940722                                                  \n",
       "CUNIT2  = 'degree  '                                                            \n",
       "CD1_1   = -5.5014476817794E-08                                                  \n",
       "CD1_2   = 4.67806861305731E-05                                                  \n",
       "CD2_1   = 4.67731565013891E-05                                                  \n",
       "CD2_2   = -3.1267748271620E-08                                                  \n",
       "LONGPOLE=                180.0                                                  \n",
       "WCS-ORIG= 'Rough estimation'   / Origin/quality of the WCS values               \n",
       "OBSERVAT= 'NAOJ    '           / Observatory                                    \n",
       "TELESCOP= 'Subaru  '           / Telescope name                                 \n",
       "FOC-POS = 'PRIME   '           / Position of the instrument focus unit          \n",
       "TELFOCUS= 'P_OPT2  '           / The Focus where beam reaches                   \n",
       "FOC-VAL =                  3.6 / [mm] Encoder value of the focus unit           \n",
       "FILTER01= 'HSC-z   '           / Filter barcode                                 \n",
       "EXPTIME =                270.0 / Exposure time                                  \n",
       "INSTRUME= 'Hyper Suprime-Cam'  / Name of instrument                             \n",
       "DETECTOR= 'notSet  '           / Name of the detector/CCD                       \n",
       "DET-ID  =                   42 / \"Sequential number assgined for the entire CCDs\n",
       "DET-TMP =             -100.854 / CCD Temperature value [celsius degree]         \n",
       "DET-TMED=                  0.0 / [Kelvin] Median of the detector temperature    \n",
       "DET-TMIN=                  0.0 / [Kelvin] Minimum of the detector temperature   \n",
       "DET-TMAX=                  0.0 / [Kelvin] Maximum of the detector temperature   \n",
       "GAIN    =                  0.0 / AD conversion factor (electron/ADU)            \n",
       "BIN-FCT1=                    1 / Binning factor of axis 1                       \n",
       "BIN-FCT2=                    1 / Binning factor of axis 2                       \n",
       "DET-VER = 'notSet  '           / Version of the detector control command        \n",
       "INS-VER = 'notSet  '           / Version of the instrument (hard/soft)          \n",
       "WEATHER = 'Fine    '           / Weather condition                              \n",
       "SEEING  =                  0.0 / [arcsec] FWHM of the star at telescope focus   \n",
       "ADC-TYPE= 'IN      '           / ADC name if it is used. (BLUE, RED, NONE)      \n",
       "ADC-STR =                 -0.0 / [degree] ADC pos. ang. at the start of exposur \n",
       "ADC-END =                 -0.0 / [degree] ADC pos. ang. at the end of exposure  \n",
       "INR-STR =           -40.511525 / [degree] Inst. rotator angle at start          \n",
       "INR-END =           -40.511525 / [degree] Inst. rotator angle at end            \n",
       "DOM-WND =                  0.0 / [m/s] Wind speed in the dome/enclosure         \n",
       "OUT-WND =                  0.7 / [m/s] Wind speed outside dome/enclosure        \n",
       "DOM-TMP =               275.25 / [Kelvin] Atm. temp. in the dome/enclosure      \n",
       "OUT-TMP =               272.35 / [Kelvin] Atm. temp. outside the dome/encl.     \n",
       "DOM-HUM =                 25.7 / [%] Humidity in the dome                       \n",
       "OUT-HUM =                 36.5 / [%] Humidity outside the dome/encl.            \n",
       "DOM-PRS =    621.3000000000001 / [hPa] Atm. pressure in the dome                \n",
       "OUT-PRS =    621.3000000000001 / [hPa] Atm. press. outside the dome/encl.       \n",
       "INST-PA =                  0.0 / Position Angle of the Instrument Flange        \n",
       "M2-POS1 =             -2.86013 / [mm] Stewart Platform x-value                  \n",
       "M2-POS2 =            -4.797828 / [mm] Stewart Platform y-value                  \n",
       "M2-POS3 =             5.531208 / [mm] Stewart Platform z-value                  \n",
       "M2-ANG1 =             0.750088 / [arcmin] Stewart Platform x-rotation angle     \n",
       "M2-ANG2 =             2.249748 / [arcmin] Stewart Platform y-rotation angle     \n",
       "M2-ANG3 =            -0.000194 / [arcmin] Stewart Platform z-rotation angle     \n",
       "COMMENT ------------------------------------------------------------            \n",
       "COMMENT ------------- PARAMETERS FOR HYPER SUPRIME_CAM -------------            \n",
       "COMMENT ------------------------------------------------------------            \n",
       "T_M2OFF1=                 -1.8                                                  \n",
       "T_M2OFF2=                 -2.6                                                  \n",
       "T_M2OFF3=                  3.6                                                  \n",
       "T_PROG  = 'SSP-UDeep'          / Name of research program                       \n",
       "T_PNTGID= 'U-04-010001-01, N=3/5, DRA=150, DDEC=75' / Pointing ID of this exposu\n",
       "T_PURPOS= 'OBJECT  '           / Purpose of this exposure                       \n",
       "T_DATSET= 'NODATA  '           / Dataset to which this exposure belongs         \n",
       "T_SHTDIR=                    2 / The number shows which screen did move on this \n",
       "T_AG    =                    F / AG Exposure                                    \n",
       "T_UFNAME= '/raid/S14A/20140327/object039_1_08.fits' / Original filename         \n",
       "T_NFRAME=                  112 / \"Number of total frames\"                       \n",
       "T_GAIN2 =                 3.21 / \"Gain for channel 2\"                           \n",
       "T_GAIN1 =                 3.29 / \"Gain for channel 1\"                           \n",
       "T_GAIN4 =                 3.38 / \"Gain for channel 4\"                           \n",
       "T_GAIN3 =                 3.37 / \"Gain for channel 3\"                           \n",
       "T_XFLIP =                    F / \"CCD readout is x-flipped when create image\"   \n",
       "T_CCDID = 'undefined'          / \"Name of CCD\"                                  \n",
       "T_CCDSN = '165     '           / \"CCD Serial Number\"                            \n",
       "T_YFLIP =                    F / \"CCD readout is y-flipped when create image\"   \n",
       "T_CCDTV =             -100.854 / CCD Temperature value [celsius degree]         \n",
       "T_CCDTM = '21:00:28'           / CCD Temperature retrieve time                  \n",
       "T_HEDVER= '116 CCDs for Summit4' / 2014/03/06 Updated by Utsumi, Y.             \n",
       "T_CFGFIL= '20140306.cfg'                                                        \n",
       "T_BEEID =                    1                                                  \n",
       "T_SDOID =                    8                                                  \n",
       "T_OSMN11=                  521 / MIN pixel of x-overscan region for ch1         \n",
       "T_OSMX11=                  536 / MAX pixel of x-overscan region for ch1         \n",
       "T_EFMN11=                    9 / MIN pixel of x-effective range for ch1         \n",
       "T_EFMX11=                  520 / MAX pixel of x-effective range for ch1         \n",
       "T_OSMN12=                 4226 / MIN pixel of y-overscan region for ch1         \n",
       "T_OSMX12=                 4241 / MAX pixel of y-overscan region for ch1         \n",
       "T_EFMN12=                   50 / MIN pixel of y-effective range for ch1         \n",
       "T_EFMX12=                 4225 / MAX pixel of y-effective range for ch1         \n",
       "T_OSMN21=                  537 / MIN pixel of x-overscan region for ch2         \n",
       "T_OSMX21=                  552 / MAX pixel of x-overscan region for ch2         \n",
       "T_EFMN21=                  553 / MIN pixel of x-effective range for ch2         \n",
       "T_EFMX21=                 1064 / MAX pixel of x-effective range for ch2         \n",
       "T_OSMN22=                 4226 / MIN pixel of y-overscan region for ch2         \n",
       "T_OSMX22=                 4241 / MAX pixel of y-overscan region for ch2         \n",
       "T_EFMN22=                   50 / MIN pixel of y-effective range for ch2         \n",
       "T_EFMX22=                 4225 / MAX pixel of y-effective range for ch2         \n",
       "T_OSMN31=                 1593 / MIN pixel of x-overscan region for ch3         \n",
       "T_OSMX31=                 1608 / MAX pixel of x-overscan region for ch3         \n",
       "T_EFMN31=                 1081 / MIN pixel of x-effective range for ch3         \n",
       "T_EFMX31=                 1592 / MAX pixel of x-effective range for ch3         \n",
       "T_OSMN32=                 4226 / MIN pixel of y-overscan region for ch3         \n",
       "T_OSMX32=                 4241 / MAX pixel of y-overscan region for ch3         \n",
       "T_EFMN32=                   50 / MIN pixel of y-effective range for ch3         \n",
       "T_EFMX32=                 4225 / MAX pixel of y-effective range for ch3         \n",
       "T_OSMN41=                 1609 / MIN pixel of x-overscan region for ch4         \n",
       "T_OSMX41=                 1624 / MAX pixel of x-overscan region for ch4         \n",
       "T_EFMN41=                 1625 / MIN pixel of x-effective range for ch4         \n",
       "T_EFMX41=                 2136 / MAX pixel of x-effective range for ch4         \n",
       "T_OSMN42=                 4226 / MIN pixel of y-overscan region for ch4         \n",
       "T_OSMX42=                 4241 / MAX pixel of y-overscan region for ch4         \n",
       "T_EFMN42=                   50 / MIN pixel of y-effective range for ch4         \n",
       "T_EFMX42=                 4225 / MAX pixel of y-effective range for ch4         "
      ]
     },
     "execution_count": 114,
     "metadata": {},
     "output_type": "execute_result"
    }
   ],
   "source": [
    "sources[0].header"
   ]
  },
  {
   "cell_type": "code",
   "execution_count": 141,
   "id": "ae924009-50e5-49c9-9f08-4f0a6e727953",
   "metadata": {
    "tags": []
   },
   "outputs": [
    {
     "name": "stdout",
     "output_type": "stream",
     "text": [
      "<SkyCoord (FK5: equinox=2000.0): (ra, dec) in deg\n",
      "    [(150.00962882, 2.08628661), (150.01077289, 2.12105591),\n",
      "     (150.01187552, 2.14180264), (150.01244033, 2.12860488),\n",
      "     (150.01331644, 2.15722449), (150.01554761, 2.11354445),\n",
      "     (150.01549671, 2.13939151), (150.01556619, 2.1578849 ),\n",
      "     (150.01585936, 2.17179473), (150.01588108, 2.16124926),\n",
      "     (150.01632701, 2.1284523 ), (150.01765772, 2.10119743),\n",
      "     (150.01752958, 2.17547582), (150.01831346, 2.16892826),\n",
      "     (150.01967678, 2.15442545), (150.02119444, 2.16487087),\n",
      "     (150.02264069, 2.14589962), (150.02314703, 2.11688689),\n",
      "     (150.02304536, 2.15596833), (150.0243618 , 2.15655781),\n",
      "     (150.02441177, 2.11682414), (150.02518344, 2.17554592),\n",
      "     (150.02699378, 2.14528196), (150.03029715, 2.14524015),\n",
      "     (150.03172811, 2.15300725), (150.03225673, 2.13271557),\n",
      "     (150.03378377, 2.10199918), (150.03562075, 2.1735846 ),\n",
      "     (150.03592291, 2.12839711), (150.03671457, 2.11176794),\n",
      "     (150.03739596, 2.10088978), (150.03834579, 2.0913081 ),\n",
      "     (150.03921943, 2.14584943), (150.04012131, 2.17241546),\n",
      "     (150.0419075 , 2.11532793), (150.04443566, 2.11027946),\n",
      "     (150.04573311, 2.1404581 ), (150.04592645, 2.17381682),\n",
      "     (150.04853463, 2.14503964), (150.04958904, 2.14653171),\n",
      "     (150.05021004, 2.13420821), (150.05116598, 2.09705324),\n",
      "     (150.05135532, 2.13582511), (150.0535893 , 2.09230664),\n",
      "     (150.05541268, 2.16446647), (150.05749436, 2.17476691),\n",
      "     (150.05838736, 2.09560647), (150.05872476, 2.13016572),\n",
      "     (150.05889542, 2.0974036 ), (150.05919277, 2.12700325),\n",
      "     (150.05907402, 2.1629758 ), (150.05983977, 2.13517177),\n",
      "     (150.06060045, 2.17124498), (150.06211546, 2.11355855),\n",
      "     (150.06330281, 2.13138043), (150.06668845, 2.13780382),\n",
      "     (150.06691253, 2.15266073), (150.06679722, 2.09121847),\n",
      "     (150.06726339, 2.08423755), (150.06812302, 2.08904373),\n",
      "     (150.06904362, 2.17531592), (150.06919491, 2.12608811),\n",
      "     (150.07090095, 2.17436862), (150.07071288, 2.16794604),\n",
      "     (150.07115047, 2.16418326), (150.07520117, 2.13690643),\n",
      "     (150.07615749, 2.11072456), (150.07589339, 2.14348404),\n",
      "     (150.07575866, 2.1632774 ), (150.08049145, 2.10496975),\n",
      "     (150.08144087, 2.11869663), (150.08245242, 2.12538483),\n",
      "     (150.08304842, 2.17535116), (150.08269553, 2.10379425),\n",
      "     (150.08287904, 2.13778346), (150.08372429, 2.10945785),\n",
      "     (150.08424424, 2.136176  ), (150.08421155, 2.11135036),\n",
      "     (150.08455483, 2.176898  ), (150.08615628, 2.16868953),\n",
      "     (150.08623884, 2.16536954), (150.08673498, 2.14360329),\n",
      "     (150.08727548, 2.13995868), (150.08697193, 2.16745533),\n",
      "     (150.08777851, 2.13202581), (150.08790066, 2.08627636),\n",
      "     (150.08857257, 2.11895115), (150.08987749, 2.14674189),\n",
      "     (150.09025359, 2.08991366), (150.09125318, 2.13020725),\n",
      "     (150.09103584, 2.16503427), (150.09251453, 2.17207995),\n",
      "     (150.09318922, 2.09134649), (150.09520558, 2.12545258),\n",
      "     (150.09591235, 2.13445485), (150.09706886, 2.12670326),\n",
      "     (150.09769884, 2.1504216 ), (150.09869345, 2.14624703),\n",
      "     (150.09884443, 2.10055609), (150.10089004, 2.1299388 ),\n",
      "     (150.10261841, 2.14042193), (150.10309541, 2.09968256),\n",
      "     (150.10606218, 2.10174927), (150.10807518, 2.13783719),\n",
      "     (150.10873723, 2.1342014 ), (150.10947292, 2.16099963),\n",
      "     (150.10973944, 2.08750886), (150.10938752, 2.17677538),\n",
      "     (150.11083881, 2.08432391), (150.11153694, 2.10674783),\n",
      "     (150.11201569, 2.12047516), (150.11084069, 2.10435299),\n",
      "     (150.11209552, 2.14106477), (150.11289338, 2.08493387),\n",
      "     (150.11246408, 2.1449867 ), (150.11314873, 2.09452553),\n",
      "     (150.11307939, 2.11289556), (150.11337245, 2.13899089),\n",
      "     (150.11495617, 2.09050616), (150.11605425, 2.11003461),\n",
      "     (150.11613853, 2.16113056), (150.11719256, 2.09064843),\n",
      "     (150.11743698, 2.16082909), (150.11771674, 2.09247551),\n",
      "     (150.11741163, 2.15866351), (150.11931713, 2.10962941),\n",
      "     (150.12058251, 2.14809568), (150.12058297, 2.16029346),\n",
      "     (150.12163067, 2.12737474), (150.12154025, 2.13231473),\n",
      "     (150.12226825, 2.12805497), (150.12480548, 2.10335667),\n",
      "     (150.12474082, 2.12443185), (150.12551111, 2.09072161),\n",
      "     (150.12675242, 2.10686547), (150.12792464, 2.10805399),\n",
      "     (150.1284729 , 2.0986909 ), (150.13093824, 2.16154887),\n",
      "     (150.13129594, 2.09111336), (150.13231564, 2.12404552),\n",
      "     (150.13292366, 2.17153782), (150.13460869, 2.17686332),\n",
      "     (150.13505263, 2.10584067), (150.13566758, 2.14795259),\n",
      "     (150.13860054, 2.10497213), (150.14069745, 2.1142346 ),\n",
      "     (150.14180707, 2.13689254), (150.14276072, 2.15146956),\n",
      "     (150.14297863, 2.17555766), (150.14359516, 2.12001951),\n",
      "     (150.14438646, 2.12345766), (150.14473844, 2.11249965),\n",
      "     (150.14536218, 2.14160622), (150.1458329 , 2.13075155),\n",
      "     (150.14734172, 2.16996778), (150.14942656, 2.14312807),\n",
      "     (150.14993157, 2.10506388), (150.15078528, 2.1218348 ),\n",
      "     (150.15207826, 2.08434133), (150.15256233, 2.15337817),\n",
      "     (150.15312882, 2.16701472), (150.15340879, 2.11362047),\n",
      "     (150.15395872, 2.10007942), (150.15523323, 2.17685507),\n",
      "     (150.15642954, 2.11352227), (150.1583675 , 2.13953131),\n",
      "     (150.158512  , 2.10078271), (150.16027787, 2.11949552),\n",
      "     (150.16025421, 2.1519738 ), (150.1604126 , 2.09897138),\n",
      "     (150.16053376, 2.16055003), (150.16160333, 2.13448304),\n",
      "     (150.16286432, 2.1252174 ), (150.1645159 , 2.14204754),\n",
      "     (150.16423623, 2.17348651), (150.16504138, 2.1693277 ),\n",
      "     (150.16548057, 2.11550005), (150.16793417, 2.12763518),\n",
      "     (150.16797511, 2.16566064), (150.16890425, 2.13405388),\n",
      "     (150.16885226, 2.13984016), (150.16894383, 2.17153182),\n",
      "     (150.16908801, 2.09457034), (150.17009955, 2.1531238 ),\n",
      "     (150.17052619, 2.14527801), (150.1706847 , 2.10952496),\n",
      "     (150.17189188, 2.09398634), (150.17369273, 2.08492527),\n",
      "     (150.17374988, 2.17065639), (150.17501925, 2.17250168),\n",
      "     (150.1777186 , 2.13657346), (150.17811424, 2.16050667),\n",
      "     (150.17842243, 2.14036323), (150.17956133, 2.14786746),\n",
      "     (150.17981179, 2.10626669), (150.17994226, 2.12203018),\n",
      "     (150.1841508 , 2.15445645), (150.18479724, 2.09638655),\n",
      "     (150.18550954, 2.1518303 ), (150.1861278 , 2.12149569),\n",
      "     (150.18761754, 2.08676391), (150.1875068 , 2.09829798),\n",
      "     (150.1882837 , 2.09370534), (150.18992081, 2.1050278 ),\n",
      "     (150.18960008, 2.14511485), (150.18979465, 2.16722251),\n",
      "     (150.19074047, 2.16981291), (150.19406575, 2.08856145),\n",
      "     (150.19593839, 2.13529781), (150.19646177, 2.09535098),\n",
      "     (150.19720312, 2.10110683), (150.19757071, 2.15646049),\n",
      "     (150.19783199, 2.11017275), (150.19986703, 2.14330425),\n",
      "     (150.19986909, 2.1034562 ), (150.20192373, 2.15276294)]>\n"
     ]
    }
   ],
   "source": [
    "detector_wcs = wcs.WCS(sources[0].header) # complete\n",
    "# Hint: wcs has a pixel_to_world method that is helpful here\n",
    "source_skyCoords = detector_wcs.pixel_to_world(source_cat['x'], source_cat['y']) # complete\n",
    "print(source_skyCoords)"
   ]
  },
  {
   "cell_type": "markdown",
   "id": "d0ed50e7-342a-4082-9ee9-0b9676ffb1ee",
   "metadata": {},
   "source": [
    "Make a plot showing the RA and Dec positions of the two catalogs to make sure we are starting with something sensible. For example, first make sure that the RA and Dec values of the two catalogs overlap, which they should. (Mixing up degrees and radians happens all the time!) Does it look like there are any likely matches between the catalogs? I recommend using different markers for each catalog in your scatter plot."
   ]
  },
  {
   "cell_type": "code",
   "execution_count": 209,
   "id": "4a3c32e7-f4df-4573-8546-e3c51384ea9a",
   "metadata": {
    "scrolled": false
   },
   "outputs": [
    {
     "data": {
      "image/png": "[encoded data removed]",
      "text/plain": [
       "<Figure size 640x480 with 1 Axes>"
      ]
     },
     "metadata": {},
     "output_type": "display_data"
    }
   ],
   "source": [
    "plt.scatter(gaia_skyCoord.ra, gaia_skyCoord.dec) # Complete\n",
    "plt.scatter(source_skyCoords.ra, source_skyCoords.dec, marker='+')\n",
    "\n",
    "plt.xlabel('RA')\n",
    "plt.ylabel('DEC')\n",
    "\n",
    "plt.xlim(np.min(source_skyCoords.ra.value), np.max(source_skyCoords.ra.value))\n",
    "plt.ylim(np.min(source_skyCoords.dec.value), np.max(source_skyCoords.dec.value))\n",
    "plt.show()"
   ]
  },
  {
   "cell_type": "markdown",
   "id": "327b2fa3-96f2-4223-9a17-aa1e495433cc",
   "metadata": {},
   "source": [
    "Given the initial estimate of RA and Dec, match the Gaia catalog sources to the new source catalog:"
   ]
  },
  {
   "cell_type": "code",
   "execution_count": 186,
   "id": "983cd419",
   "metadata": {
    "scrolled": true
   },
   "outputs": [
    {
     "data": {
      "text/plain": [
       "(array([ 8588,  8603,  8604,  8604,  8608,  8603,  8605,  8608, 10169,\n",
       "         8608,  8604,  8589, 10169,  8631,  8608,  8608,  8605,  8603,\n",
       "         8608,  8608,  8600,  8631,  8605,  8605,  8607,  8605,  8596,\n",
       "         8630,  8598,  8598,  8596,  8579,  8606,  8630,  8597,  8597,\n",
       "         8606,  8632,  8623,  8623,  8601,  8599,  8601,  8580,  8624,\n",
       "         8633,  8583,  8601,  8583,  8601,  8620,  8614,  8633,  8582,\n",
       "         8614,  8614,  8621,  8583,  8574,  8583,  8626,  8614,  8626,\n",
       "         8625,  8621,  8615,  8584,  8619,  8621,  8584,  8584,  8615,\n",
       "         8625,  8578,  8616,  8584,  8616,  8584,  8625,  8622,  8622,\n",
       "         8617,  8616,  8622,  8615,  8578,  8584,  8617,  8578,  8616,\n",
       "         8622,  8622,  8578,  8616,  8616,  8616,  8617,  8617,  8613,\n",
       "         4893,  4893,  8613,  8613,  4893,  4893,  4895,  8577,  4907,\n",
       "         8577,  8612,  8613,  8612,  4893,  8577,  4893,  8611,  8612,\n",
       "         4893,  8611,  8612,  4896,  8611,  4896,  8611,  4896,  4888,\n",
       "         4894,  4894,  4893,  4893,  4893,  4888,  4889,  4685,  4887,\n",
       "         4887,  4888,  4894,  4685,  4889,  4906,  4906,  4687,  4892,\n",
       "         4687,  4889,  4892,  4892,  4903,  4890,  4890,  4889,  4892,\n",
       "         4891,  4903,  4898,  4688,  4891,  4680,  4898,  4903,  4688,\n",
       "         4688,  4903,  4688,  4898,  4688,  4688,  4902,  4684,  4902,\n",
       "         4897,  4897,  4898,  4902,  4902,  4688,  4698,  4902,  4899,\n",
       "         4899,  4902,  4684,  4902,  4899,  4684,  4684,  4682,  4901,\n",
       "         4901,  4899,  4901,  4899,  4901,  4684,  4696,  4901,  4684,\n",
       "         4901,  4696,  4683,  4690,  4683,  4692,  4699,  4901,  4901,\n",
       "         4683,  4699,  4690,  4690,  4701,  4692,  4699,  4690,  4701]),\n",
       " <Angle [1.28387661e-02, 5.06325508e-03, 1.26996592e-02, 7.99303216e-03,\n",
       "         1.63044566e-02, 5.88479411e-03, 1.24394645e-02, 1.40141761e-02,\n",
       "         1.35602524e-02, 1.39190875e-02, 1.17689806e-02, 3.84476561e-03,\n",
       "         1.00074671e-02, 1.28563184e-02, 1.07565408e-02, 1.04164400e-02,\n",
       "         7.98984043e-03, 1.29597405e-02, 7.05527560e-03, 5.61446947e-03,\n",
       "         1.41384763e-02, 6.22737380e-03, 5.45205123e-03, 5.82852295e-03,\n",
       "         9.74995375e-05, 8.39292538e-03, 3.89815880e-03, 7.78899414e-05,\n",
       "         1.26593793e-02, 5.07963017e-03, 2.13091017e-03, 1.01342494e-02,\n",
       "         6.76764374e-03, 4.57225425e-03, 1.02626070e-04, 5.62342229e-03,\n",
       "         1.73370639e-03, 5.43346635e-03, 4.86386283e-03, 3.43262222e-03,\n",
       "         6.19315317e-05, 9.43842188e-03, 1.94101486e-03, 1.23751205e-02,\n",
       "         9.52964401e-03, 1.18563753e-02, 8.11389041e-03, 9.36724080e-03,\n",
       "         6.53526883e-03, 1.14661740e-02, 1.05661676e-02, 7.36143250e-03,\n",
       "         1.63470670e-02, 5.53383182e-05, 7.27162421e-03, 3.26279926e-05,\n",
       "         2.35324251e-05, 1.05496329e-02, 1.16626189e-02, 1.30130296e-02,\n",
       "         1.27613200e-02, 1.19699014e-02, 1.14767856e-02, 1.43891337e-02,\n",
       "         1.22683431e-02, 6.53997132e-03, 3.51878439e-05, 8.23184099e-03,\n",
       "         1.38003002e-02, 7.18840762e-03, 9.53629278e-03, 7.90539742e-03,\n",
       "         9.33377050e-06, 8.22278291e-03, 4.90404557e-03, 7.63460663e-03,\n",
       "         4.84281607e-03, 8.03812157e-03, 2.14993713e-03, 7.20901242e-03,\n",
       "         9.19528130e-03, 3.24673339e-03, 1.13555915e-05, 7.22501891e-03,\n",
       "         7.36382846e-03, 1.08788350e-02, 1.48532675e-02, 4.13527861e-03,\n",
       "         7.72633033e-03, 1.05193669e-02, 7.21248344e-03, 1.36424327e-05,\n",
       "         8.09436330e-03, 1.65182643e-02, 1.02259312e-02, 1.64654074e-02,\n",
       "         1.25187332e-02, 1.29524910e-02, 5.83334435e-03, 1.54138130e-02,\n",
       "         1.08432746e-02, 5.87982360e-03, 5.49665545e-03, 5.41974691e-03,\n",
       "         6.66438613e-03, 7.28323736e-03, 4.93973155e-03, 3.95268495e-03,\n",
       "         5.81430331e-03, 6.17585503e-03, 1.80422044e-02, 3.97980972e-03,\n",
       "         2.43585322e-03, 7.75054825e-03, 6.06424344e-03, 1.62834768e-05,\n",
       "         1.23225154e-02, 1.91874332e-06, 4.40893370e-03, 1.01920332e-02,\n",
       "         7.75960983e-03, 5.59639620e-03, 8.21617374e-03, 4.99520577e-03,\n",
       "         6.61293696e-03, 8.34068091e-03, 7.01874741e-03, 9.86208582e-03,\n",
       "         1.42482107e-02, 1.05433673e-02, 1.40921924e-02, 1.15274571e-05,\n",
       "         1.56547429e-02, 1.23288060e-02, 3.72215087e-03, 2.24522108e-03,\n",
       "         5.92520475e-03, 1.04282520e-02, 8.00762235e-03, 1.04628453e-02,\n",
       "         1.34027669e-02, 1.10681668e-02, 3.66228018e-03, 7.47692763e-03,\n",
       "         1.28167526e-05, 3.71940790e-03, 7.12731863e-03, 1.30948528e-02,\n",
       "         9.01893272e-03, 3.53411711e-03, 1.61783000e-05, 8.03401922e-03,\n",
       "         9.77931608e-03, 5.68759284e-03, 2.90878819e-03, 9.65563501e-03,\n",
       "         1.06819251e-02, 4.61675339e-03, 8.56000504e-03, 1.50089644e-02,\n",
       "         4.30076346e-03, 3.04744926e-03, 1.36749008e-02, 8.31187794e-03,\n",
       "         2.73353050e-05, 3.80764738e-05, 1.29062764e-02, 7.08754929e-03,\n",
       "         1.00422319e-02, 1.46064586e-02, 5.78135334e-03, 5.13914433e-03,\n",
       "         9.84133306e-03, 6.60155257e-03, 1.36415703e-02, 9.41051852e-03,\n",
       "         9.23147725e-03, 5.78301030e-03, 5.90428444e-03, 4.80458856e-05,\n",
       "         5.76695191e-03, 1.18314867e-02, 7.08323345e-03, 7.85877103e-03,\n",
       "         1.13144723e-02, 1.18937772e-02, 5.44757174e-03, 5.28129804e-03,\n",
       "         1.25920144e-02, 1.28206818e-02, 9.11402963e-03, 6.57365007e-03,\n",
       "         1.13664463e-02, 1.61405324e-02, 9.16873876e-03, 4.04331085e-03,\n",
       "         8.92169104e-03, 9.98631059e-03, 1.16410406e-02, 2.44749820e-03,\n",
       "         6.75127691e-03, 1.01564935e-02, 7.75364514e-03, 7.62814295e-03,\n",
       "         1.57196786e-02, 6.92415683e-03, 9.29264441e-03, 6.41371754e-05,\n",
       "         4.13387296e-03, 5.84169655e-03, 6.88361285e-05, 8.18133488e-03,\n",
       "         2.89667359e-03, 1.08461430e-02, 3.48570228e-03, 3.83796790e-03] deg>,\n",
       " <Quantity [2.24078741e-04, 8.83704720e-05, 2.21650867e-04, 1.39504728e-04,\n",
       "            2.84566450e-04, 1.02709033e-04, 2.17109613e-04, 2.44593514e-04,\n",
       "            2.36671052e-04, 2.42933905e-04, 2.05407460e-04, 6.71038189e-05,\n",
       "            1.74663250e-04, 2.24385085e-04, 1.87737052e-04, 1.81801173e-04,\n",
       "            1.39449022e-04, 2.26190142e-04, 1.23137789e-04, 9.79909780e-05,\n",
       "            2.46762961e-04, 1.08688176e-04, 9.51562450e-05, 1.01726916e-04,\n",
       "            1.70168795e-06, 1.46484182e-04, 6.80357058e-05, 1.35943593e-06,\n",
       "            2.20947849e-04, 8.86562712e-05, 3.71913985e-05, 1.76876019e-04,\n",
       "            1.18117666e-04, 7.98008909e-05, 1.79116283e-06, 9.81472342e-05,\n",
       "            3.02588848e-05, 9.48318775e-05, 8.48904207e-05, 5.99105597e-05,\n",
       "            1.08090914e-06, 1.64731538e-04, 3.38771001e-05, 2.15986598e-04,\n",
       "            1.66323664e-04, 2.06932785e-04, 1.41614103e-04, 1.63489194e-04,\n",
       "            1.14061958e-04, 2.00122489e-04, 1.84414414e-04, 1.28481235e-04,\n",
       "            2.85310141e-04, 9.65835855e-07, 1.26913784e-04, 5.69465899e-07,\n",
       "            4.10718299e-07, 1.84125829e-04, 2.03551099e-04, 2.27120212e-04,\n",
       "            2.22727051e-04, 2.08914190e-04, 2.00307695e-04, 2.51137759e-04,\n",
       "            2.14122980e-04, 1.14144032e-04, 6.14143733e-07, 1.43672729e-04,\n",
       "            2.40860676e-04, 1.25461381e-04, 1.66439707e-04, 1.37975214e-04,\n",
       "            1.62905027e-07, 1.43514635e-04, 8.55917419e-05, 1.33249023e-04,\n",
       "            8.45230855e-05, 1.40291687e-04, 3.75234817e-05, 1.25821003e-04,\n",
       "            1.60487934e-04, 5.66661876e-05, 1.98192461e-07, 1.26100368e-04,\n",
       "            1.28523052e-04, 1.89871489e-04, 2.59238422e-04, 7.21742273e-05,\n",
       "            1.34849903e-04, 1.83597588e-04, 1.25881583e-04, 2.38105369e-07,\n",
       "            1.41273290e-04, 2.88298098e-04, 1.78476168e-04, 2.87375571e-04,\n",
       "            2.18493113e-04, 2.26063613e-04, 1.01811065e-04, 2.69021787e-04,\n",
       "            1.89250843e-04, 1.02622281e-04, 9.59347354e-05, 9.45924281e-05,\n",
       "            1.16315481e-04, 1.27116472e-04, 8.62145798e-05, 6.89873666e-05,\n",
       "            1.01478736e-04, 1.07789004e-04, 3.14895869e-04, 6.94607833e-05,\n",
       "            4.25136588e-05, 1.35272586e-04, 1.05841015e-04, 2.84200283e-07,\n",
       "            2.15068466e-04, 3.34883884e-08, 7.69504095e-05, 1.77884536e-04,\n",
       "            1.35430740e-04, 9.76755398e-05, 1.43399284e-04, 8.71827875e-05,\n",
       "            1.15417523e-04, 1.45572344e-04, 1.22500252e-04, 1.72125868e-04,\n",
       "            2.48678188e-04, 1.84016474e-04, 2.45955155e-04, 2.01192081e-07,\n",
       "            2.73226807e-04, 2.15178257e-04, 6.49637880e-05, 3.91865003e-05,\n",
       "            1.03414332e-04, 1.82007332e-04, 1.39759375e-04, 1.82611099e-04,\n",
       "            2.33922411e-04, 1.93175952e-04, 6.39188472e-05, 1.30497005e-04,\n",
       "            2.23694533e-07, 6.49159142e-05, 1.24395177e-04, 2.28548296e-04,\n",
       "            1.57410071e-04, 6.16819797e-05, 2.82364602e-07, 1.40220087e-04,\n",
       "            1.70681264e-04, 9.92672215e-05, 5.07679312e-05, 1.68522622e-04,\n",
       "            1.86434763e-04, 8.05775474e-05, 1.49400272e-04, 2.61955846e-04,\n",
       "            7.50624827e-05, 5.31880233e-05, 2.38672043e-04, 1.45069637e-04,\n",
       "            4.77091074e-07, 6.64559836e-07, 2.25257017e-04, 1.23701071e-04,\n",
       "            1.75270011e-04, 2.54930794e-04, 1.00903651e-04, 8.96949893e-05,\n",
       "            1.71763665e-04, 1.15218828e-04, 2.38090317e-04, 1.64244532e-04,\n",
       "            1.61119673e-04, 1.00932570e-04, 1.03049203e-04, 8.38558897e-07,\n",
       "            1.00652299e-04, 2.06498399e-04, 1.23625745e-04, 1.37161429e-04,\n",
       "            1.97474795e-04, 2.07585573e-04, 9.50780630e-05, 9.21760395e-05,\n",
       "            2.19772111e-04, 2.23763110e-04, 1.59069825e-04, 1.14731837e-04,\n",
       "            1.98381912e-04, 2.81705432e-04, 1.60024679e-04, 7.05690871e-05,\n",
       "            1.55712883e-04, 1.74294000e-04, 2.03174486e-04, 4.27169020e-05,\n",
       "            1.17832011e-04, 1.77264252e-04, 1.35326637e-04, 1.33136210e-04,\n",
       "            2.74360148e-04, 1.20849335e-04, 1.62187241e-04, 1.11940488e-06,\n",
       "            7.21496941e-05, 1.01956839e-04, 1.20141709e-06, 1.42791231e-04,\n",
       "            5.05564914e-05, 1.89300906e-04, 6.08369816e-05, 6.69851765e-05]>)"
      ]
     },
     "execution_count": 186,
     "metadata": {},
     "output_type": "execute_result"
    }
   ],
   "source": [
    "# Complete: \n",
    "# (Hint: astropy SkyCoord has a \"match_to_catalog_sky\" function that works well for this.)\n",
    "sources_matched_gaia = source_skyCoords.match_to_catalog_sky(gaia_skyCoord)\n",
    "sources_matched_gaia"
   ]
  },
  {
   "cell_type": "markdown",
   "id": "646304cc-26a9-48df-95de-97d292b7a1e7",
   "metadata": {},
   "source": [
    "Not every source in the catalog will have a match in the Gaia catalog. Make a histogram of the match separations and choose a sensible limit for the distance between matches."
   ]
  },
  {
   "cell_type": "code",
   "execution_count": 203,
   "id": "d1c0e292",
   "metadata": {
    "scrolled": true
   },
   "outputs": [
    {
     "data": {
      "text/plain": [
       "array([ 4680,  4682,  4683,  4684,  4685,  4687,  4688,  4690,  4692,\n",
       "        4696,  4698,  4699,  4701,  4887,  4888,  4889,  4890,  4891,\n",
       "        4892,  4893,  4894,  4895,  4896,  4897,  4898,  4899,  4901,\n",
       "        4902,  4903,  4906,  4907,  8574,  8577,  8578,  8579,  8580,\n",
       "        8582,  8583,  8584,  8588,  8589,  8596,  8597,  8598,  8599,\n",
       "        8600,  8601,  8603,  8604,  8605,  8606,  8607,  8608,  8611,\n",
       "        8612,  8613,  8614,  8615,  8616,  8617,  8619,  8620,  8621,\n",
       "        8622,  8623,  8624,  8625,  8626,  8630,  8631,  8632,  8633,\n",
       "       10169])"
      ]
     },
     "execution_count": 203,
     "metadata": {},
     "output_type": "execute_result"
    }
   ],
   "source": [
    "np.unique(sources_matched_gaia[0])"
   ]
  },
  {
   "cell_type": "code",
   "execution_count": 202,
   "id": "d13c31e1",
   "metadata": {},
   "outputs": [
    {
     "ename": "KeyError",
     "evalue": "\"None of [Int64Index([ 4680,  4682,  4683,  4684,  4685,  4687,  4688,  4690,  4692,\\n             4696,  4698,  4699,  4701,  4887,  4888,  4889,  4890,  4891,\\n             4892,  4893,  4894,  4895,  4896,  4897,  4898,  4899,  4901,\\n             4902,  4903,  4906,  4907,  8574,  8577,  8578,  8579,  8580,\\n             8582,  8583,  8584,  8588,  8589,  8596,  8597,  8598,  8599,\\n             8600,  8601,  8603,  8604,  8605,  8606,  8607,  8608,  8611,\\n             8612,  8613,  8614,  8615,  8616,  8617,  8619,  8620,  8621,\\n             8622,  8623,  8624,  8625,  8626,  8630,  8631,  8632,  8633,\\n            10169],\\n           dtype='int64')] are in the [columns]\"",
     "output_type": "error",
     "traceback": [
      "\u001b[0;31m---------------------------------------------------------------------------\u001b[0m",
      "\u001b[0;31mKeyError\u001b[0m                                  Traceback (most recent call last)",
      "Cell \u001b[0;32mIn[202], line 1\u001b[0m\n\u001b[0;32m----> 1\u001b[0m \u001b[43mgaia_cat\u001b[49m\u001b[43m[\u001b[49m\u001b[43mnp\u001b[49m\u001b[38;5;241;43m.\u001b[39;49m\u001b[43munique\u001b[49m\u001b[43m(\u001b[49m\u001b[43msources_matched_gaia\u001b[49m\u001b[43m[\u001b[49m\u001b[38;5;241;43m0\u001b[39;49m\u001b[43m]\u001b[49m\u001b[43m)\u001b[49m\u001b[43m]\u001b[49m\n",
      "File \u001b[0;32m~/miniforge3/envs/dsfp/lib/python3.9/site-packages/pandas/core/frame.py:3813\u001b[0m, in \u001b[0;36mDataFrame.__getitem__\u001b[0;34m(self, key)\u001b[0m\n\u001b[1;32m   3811\u001b[0m     \u001b[38;5;28;01mif\u001b[39;00m is_iterator(key):\n\u001b[1;32m   3812\u001b[0m         key \u001b[38;5;241m=\u001b[39m \u001b[38;5;28mlist\u001b[39m(key)\n\u001b[0;32m-> 3813\u001b[0m     indexer \u001b[38;5;241m=\u001b[39m \u001b[38;5;28;43mself\u001b[39;49m\u001b[38;5;241;43m.\u001b[39;49m\u001b[43mcolumns\u001b[49m\u001b[38;5;241;43m.\u001b[39;49m\u001b[43m_get_indexer_strict\u001b[49m\u001b[43m(\u001b[49m\u001b[43mkey\u001b[49m\u001b[43m,\u001b[49m\u001b[43m \u001b[49m\u001b[38;5;124;43m\"\u001b[39;49m\u001b[38;5;124;43mcolumns\u001b[39;49m\u001b[38;5;124;43m\"\u001b[39;49m\u001b[43m)\u001b[49m[\u001b[38;5;241m1\u001b[39m]\n\u001b[1;32m   3815\u001b[0m \u001b[38;5;66;03m# take() does not accept boolean indexers\u001b[39;00m\n\u001b[1;32m   3816\u001b[0m \u001b[38;5;28;01mif\u001b[39;00m \u001b[38;5;28mgetattr\u001b[39m(indexer, \u001b[38;5;124m\"\u001b[39m\u001b[38;5;124mdtype\u001b[39m\u001b[38;5;124m\"\u001b[39m, \u001b[38;5;28;01mNone\u001b[39;00m) \u001b[38;5;241m==\u001b[39m \u001b[38;5;28mbool\u001b[39m:\n",
      "File \u001b[0;32m~/miniforge3/envs/dsfp/lib/python3.9/site-packages/pandas/core/indexes/base.py:6070\u001b[0m, in \u001b[0;36mIndex._get_indexer_strict\u001b[0;34m(self, key, axis_name)\u001b[0m\n\u001b[1;32m   6067\u001b[0m \u001b[38;5;28;01melse\u001b[39;00m:\n\u001b[1;32m   6068\u001b[0m     keyarr, indexer, new_indexer \u001b[38;5;241m=\u001b[39m \u001b[38;5;28mself\u001b[39m\u001b[38;5;241m.\u001b[39m_reindex_non_unique(keyarr)\n\u001b[0;32m-> 6070\u001b[0m \u001b[38;5;28;43mself\u001b[39;49m\u001b[38;5;241;43m.\u001b[39;49m\u001b[43m_raise_if_missing\u001b[49m\u001b[43m(\u001b[49m\u001b[43mkeyarr\u001b[49m\u001b[43m,\u001b[49m\u001b[43m \u001b[49m\u001b[43mindexer\u001b[49m\u001b[43m,\u001b[49m\u001b[43m \u001b[49m\u001b[43maxis_name\u001b[49m\u001b[43m)\u001b[49m\n\u001b[1;32m   6072\u001b[0m keyarr \u001b[38;5;241m=\u001b[39m \u001b[38;5;28mself\u001b[39m\u001b[38;5;241m.\u001b[39mtake(indexer)\n\u001b[1;32m   6073\u001b[0m \u001b[38;5;28;01mif\u001b[39;00m \u001b[38;5;28misinstance\u001b[39m(key, Index):\n\u001b[1;32m   6074\u001b[0m     \u001b[38;5;66;03m# GH 42790 - Preserve name from an Index\u001b[39;00m\n",
      "File \u001b[0;32m~/miniforge3/envs/dsfp/lib/python3.9/site-packages/pandas/core/indexes/base.py:6130\u001b[0m, in \u001b[0;36mIndex._raise_if_missing\u001b[0;34m(self, key, indexer, axis_name)\u001b[0m\n\u001b[1;32m   6128\u001b[0m     \u001b[38;5;28;01mif\u001b[39;00m use_interval_msg:\n\u001b[1;32m   6129\u001b[0m         key \u001b[38;5;241m=\u001b[39m \u001b[38;5;28mlist\u001b[39m(key)\n\u001b[0;32m-> 6130\u001b[0m     \u001b[38;5;28;01mraise\u001b[39;00m \u001b[38;5;167;01mKeyError\u001b[39;00m(\u001b[38;5;124mf\u001b[39m\u001b[38;5;124m\"\u001b[39m\u001b[38;5;124mNone of [\u001b[39m\u001b[38;5;132;01m{\u001b[39;00mkey\u001b[38;5;132;01m}\u001b[39;00m\u001b[38;5;124m] are in the [\u001b[39m\u001b[38;5;132;01m{\u001b[39;00maxis_name\u001b[38;5;132;01m}\u001b[39;00m\u001b[38;5;124m]\u001b[39m\u001b[38;5;124m\"\u001b[39m)\n\u001b[1;32m   6132\u001b[0m not_found \u001b[38;5;241m=\u001b[39m \u001b[38;5;28mlist\u001b[39m(ensure_index(key)[missing_mask\u001b[38;5;241m.\u001b[39mnonzero()[\u001b[38;5;241m0\u001b[39m]]\u001b[38;5;241m.\u001b[39munique())\n\u001b[1;32m   6133\u001b[0m \u001b[38;5;28;01mraise\u001b[39;00m \u001b[38;5;167;01mKeyError\u001b[39;00m(\u001b[38;5;124mf\u001b[39m\u001b[38;5;124m\"\u001b[39m\u001b[38;5;132;01m{\u001b[39;00mnot_found\u001b[38;5;132;01m}\u001b[39;00m\u001b[38;5;124m not in index\u001b[39m\u001b[38;5;124m\"\u001b[39m)\n",
      "\u001b[0;31mKeyError\u001b[0m: \"None of [Int64Index([ 4680,  4682,  4683,  4684,  4685,  4687,  4688,  4690,  4692,\\n             4696,  4698,  4699,  4701,  4887,  4888,  4889,  4890,  4891,\\n             4892,  4893,  4894,  4895,  4896,  4897,  4898,  4899,  4901,\\n             4902,  4903,  4906,  4907,  8574,  8577,  8578,  8579,  8580,\\n             8582,  8583,  8584,  8588,  8589,  8596,  8597,  8598,  8599,\\n             8600,  8601,  8603,  8604,  8605,  8606,  8607,  8608,  8611,\\n             8612,  8613,  8614,  8615,  8616,  8617,  8619,  8620,  8621,\\n             8622,  8623,  8624,  8625,  8626,  8630,  8631,  8632,  8633,\\n            10169],\\n           dtype='int64')] are in the [columns]\""
     ]
    }
   ],
   "source": [
    "gaia_cat[np.unique(sources_matched_gaia[0])]"
   ]
  },
  {
   "cell_type": "code",
   "execution_count": 192,
   "id": "f53d0f1b",
   "metadata": {
    "scrolled": true
   },
   "outputs": [
    {
     "data": {
      "text/plain": [
       "<SkyCoord (ICRS): (ra, dec) in deg\n",
       "    [(150.1495591 , 2.07616292), (150.17486779, 2.07978254),\n",
       "     (150.19411354, 2.08860101), (150.17501325, 2.09845304),\n",
       "     (150.13640744, 2.08495668), (150.13860702, 2.10497877),\n",
       "     (150.15645057, 2.11352947), (150.19725867, 2.10114222),\n",
       "     (150.1949818 , 2.11073769), (150.18394044, 2.12261395),\n",
       "     (150.17340119, 2.12576183), (150.19897242, 2.13249944),\n",
       "     (150.20545151, 2.15427068), (150.13013764, 2.10840926),\n",
       "     (150.12481074, 2.10336063), (150.13699729, 2.11469498),\n",
       "     (150.1443962 , 2.12346527), (150.14920775, 2.12618126),\n",
       "     (150.13563541, 2.14048065), (150.11336813, 2.13899602),\n",
       "     (150.12625445, 2.1522318 ), (150.11073779, 2.15383295),\n",
       "     (150.11241931, 2.15432047), (150.16673514, 2.13426895),\n",
       "     (150.15839467, 2.13955459), (150.16894168, 2.13407894),\n",
       "     (150.18402595, 2.16338229), (150.16628681, 2.16000561),\n",
       "     (150.15023665, 2.17021024), (150.1249769 , 2.1823443 ),\n",
       "     (150.10776142, 2.18038636), (150.06494838, 2.07281038),\n",
       "     (150.10516261, 2.08563277), (150.08753598, 2.09715424),\n",
       "     (150.04433882, 2.08314239), (150.05766595, 2.10399475),\n",
       "     (150.06216295, 2.11357694), (150.06405721, 2.10141318),\n",
       "     (150.07618553, 2.11073759), (150.00157704, 2.07628215),\n",
       "     (150.01810057, 2.0973839 ), (150.0375435 , 2.1030201 ),\n",
       "     (150.04200103, 2.11535725), (150.03923004, 2.11618336),\n",
       "     (150.04342151, 2.10246963), (150.01419449, 2.10704273),\n",
       "     (150.05026549, 2.13421916), (150.01020097, 2.11602926),\n",
       "     (150.00486981, 2.13120775), (150.02792774, 2.13991642),\n",
       "     (150.04418647, 2.14126066), (150.03181924, 2.15301856),\n",
       "     (150.02956219, 2.15867271), (150.11315625, 2.09453922),\n",
       "     (150.11217583, 2.10061067), (150.1019986 , 2.10546545),\n",
       "     (150.06671464, 2.13780485), (150.08047365, 2.13304548),\n",
       "     (150.08727572, 2.13995429), (150.08573335, 2.14669884),\n",
       "     (150.08374529, 2.14595869), (150.0612933 , 2.15265127),\n",
       "     (150.06692985, 2.15266535), (150.09250934, 2.1720985 ),\n",
       "     (150.0488767 , 2.14989598), (150.04911151, 2.15731292),\n",
       "     (150.08305091, 2.17535945), (150.08095019, 2.17991886),\n",
       "     (150.03569241, 2.17359241), (150.03064781, 2.17256828),\n",
       "     (150.04410801, 2.17894458), (150.0470734 , 2.18045196),\n",
       "     (150.01592366, 2.18535975)]>"
      ]
     },
     "execution_count": 192,
     "metadata": {},
     "output_type": "execute_result"
    }
   ],
   "source": [
    "gaia_skyCoord[np.unique(sources_matched_gaia[0])]"
   ]
  },
  {
   "cell_type": "code",
   "execution_count": 170,
   "id": "e6cc71b8-0481-401e-a3ba-4cb39bf33d8e",
   "metadata": {
    "scrolled": true,
    "tags": []
   },
   "outputs": [],
   "source": [
    "# Complete"
   ]
  },
  {
   "cell_type": "markdown",
   "id": "480d0d16",
   "metadata": {},
   "source": [
    "Make a histogram of just the good matches to see what the separations look like."
   ]
  },
  {
   "cell_type": "code",
   "execution_count": null,
   "id": "ceb41737",
   "metadata": {},
   "outputs": [],
   "source": [
    "# Complete"
   ]
  },
  {
   "cell_type": "markdown",
   "id": "327a666e-942a-4e22-8ed9-2993428c19bf",
   "metadata": {},
   "source": [
    "You may also want to remove any sources that have ambiguous pairings (within the limit you selected above) -- i.e. one gaia star matches multiple science sources or vice-versa"
   ]
  },
  {
   "cell_type": "markdown",
   "id": "74ec02de-c7dc-41a6-8812-5a2ae53149d1",
   "metadata": {},
   "source": [
    "#### 2. Fitting a WCS\n",
    "\n",
    "Now that we have found the stars that are in both our science image and our reference catalog, let's try to fit an improved WCS.\n",
    "\n",
    "To do a simple version of this, use `astropy.wcs.utils.fit_wcs_from_points` to fit a WCS function. Use the optional argument `sip_degree` to choose what order of polynomial to use for the function. (Choosing zero should give something pretty close to the WCS we got from the fits file header.) The pixel values should come from our source catalog, and the sky coordinates should come from the Gaia catalog."
   ]
  },
  {
   "cell_type": "code",
   "execution_count": null,
   "id": "1cddcde4-de00-405e-9946-656858432234",
   "metadata": {},
   "outputs": [],
   "source": [
    "new_wcs = # Complete"
   ]
  },
  {
   "cell_type": "markdown",
   "id": "14f8e01d",
   "metadata": {},
   "source": [
    "Now calculate the RA and Dec for the pixel coordinages in the input image and see if the separations between the science image and Gaia have improved."
   ]
  },
  {
   "cell_type": "code",
   "execution_count": null,
   "id": "d8cb0f67",
   "metadata": {},
   "outputs": [],
   "source": [
    "new_radec = # complete"
   ]
  },
  {
   "cell_type": "markdown",
   "id": "fd4fe4ee-5beb-4e17-a6f7-c5a5ea2c6806",
   "metadata": {},
   "source": [
    "#### 3. Fit the WCS over the whole focal plane and look for camera-level effects"
   ]
  },
  {
   "cell_type": "markdown",
   "id": "d4efceea-6236-4143-bcef-cf3860e4e087",
   "metadata": {},
   "source": [
    "We are going to put the above steps together in a loop over all the detectors to get an improved WCS for each detector. "
   ]
  },
  {
   "cell_type": "code",
   "execution_count": null,
   "id": "ce80ba6a-d2be-46b3-8d01-ab6b6cd38859",
   "metadata": {},
   "outputs": [],
   "source": [
    "source_files = glob('astrometry_data/1180_*.fits')\n",
    "get_detector = re.compile(r'astrometry_data/1180_(\\d+?).fits')\n",
    "orig_wcs_dict = {}\n",
    "new_wcs_dict = {}\n",
    "for source_file in source_files:\n",
    "    sources = # complete\n",
    "    \n",
    "    s = get_detector.search(source_file)\n",
    "    detector = int(s.group(1))\n",
    "\n",
    "    orig_wcs_dict[detector] = # complete\n",
    "\n",
    "    source_cat = # complete\n",
    "\n",
    "    source_coords = # complete\n",
    "\n",
    "    # Choose good matches as above...\n",
    "\n",
    "    new_wcs = # complete\n",
    "    new_wcs_dict[detector] = new_wcs\n"
   ]
  },
  {
   "cell_type": "markdown",
   "id": "b8f65252",
   "metadata": {},
   "source": [
    "Plot the difference in RA and Dec vs the simple wcs position, then look at this difference over the focal plane. Are there coherent distortions between detectors?\n",
    "\n",
    "To do this, I recommend making a grid in x and y pixel values and calculating what RA and Dec those map to using the original and new WCSs for each detector. "
   ]
  },
  {
   "cell_type": "code",
   "execution_count": null,
   "id": "c7492c54",
   "metadata": {},
   "outputs": [],
   "source": [
    "x_range = np.arange(0, 2048, 100)\n",
    "y_range = np.arange(0, 4096, 100)\n",
    "\n",
    "# complete"
   ]
  },
  {
   "cell_type": "markdown",
   "id": "4959cf05-e15e-4cab-b653-3f7e5570f09a",
   "metadata": {},
   "source": [
    "#### 4. How good is the model?\n",
    "\n",
    "Use the pixel scale matrix (the CD matrix) to approximate the WCS Jacobian and propagate the x and y errors to RA and Dec. You can use this equation for the error propagation:\n",
    "\n",
    "$$ \\mathbf{C}_{RA, Dec} = \\mathbf{J} \\mathbf{C}_{x, y} \\mathbf{J}^T\n",
    "$$\n",
    "\n",
    "where $\\mathbf{C}_{x, y}$ is the x,y covariance matrix, \\mathbf{C}_{RA, Dec} is the covariance in RA and Dec, and \\mathbf{J} is the Jacobian of the WCS transformation.\n"
   ]
  },
  {
   "cell_type": "code",
   "execution_count": null,
   "id": "3b84cea5-ccb3-43dc-96b3-fbbb2f0a764a",
   "metadata": {},
   "outputs": [],
   "source": [
    "print(new_wcs.pixel_scale_matrix)"
   ]
  },
  {
   "cell_type": "markdown",
   "id": "b441ceea",
   "metadata": {},
   "source": [
    "Using this covariance, calculated the chi-squared of the model for the WCS that we have calculated."
   ]
  },
  {
   "cell_type": "code",
   "execution_count": null,
   "id": "8d78fcfd",
   "metadata": {},
   "outputs": [],
   "source": []
  }
 ],
 "metadata": {
  "kernelspec": {
   "display_name": "Python [conda env:dsfp] *",
   "language": "python",
   "name": "conda-env-dsfp-py"
  },
  "language_info": {
   "codemirror_mode": {
    "name": "ipython",
    "version": 3
   },
   "file_extension": ".py",
   "mimetype": "text/x-python",
   "name": "python",
   "nbconvert_exporter": "python",
   "pygments_lexer": "ipython3",
   "version": "3.9.16"
  }
 },
 "nbformat": 4,
 "nbformat_minor": 5
}
